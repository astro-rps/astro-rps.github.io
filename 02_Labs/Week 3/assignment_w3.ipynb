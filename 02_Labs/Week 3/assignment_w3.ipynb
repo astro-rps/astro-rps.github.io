{
 "cells": [
  {
   "cell_type": "markdown",
   "metadata": {},
   "source": [
    "# Week 3 Assignment"
   ]
  },
  {
   "cell_type": "markdown",
   "metadata": {},
   "source": [
    "The main goal this week is to get familiar with importing (and using) three really useful packages: `numpy`, `astropy` and `matplotlib`. Throughout the assignment we will also write some for-loops and practice logic statements\n",
    "This assignment is meant to be done in groups of 2-3 people. "
   ]
  },
  {
   "cell_type": "markdown",
   "metadata": {},
   "source": [
    "### Part 1: Loading in the SubHalo Merger Tree Data (10 - 15 minutes)\n",
    "\n",
    "All galaxies live inside large accumulations of dark matter. These accumulations can be thought of as clouds or \"halos\".\n",
    "A \"merger tree\" is a way of understanding the accretion history of a dark matter host halo. The trunk represents the present day host halo, and every branch is a merger event (a smaller halo being eaten up).\n",
    "The higher up the tree you go, the further back in time you look! I work with a code named SatGen that can create these merger trees and today you will be handling the output of the SatGen code.\n",
    "\n",
    "The code outputs several numpy arrays that are compressed together into a single `.npz` file. \n",
    "(See this link https://numpy.org/doc/stable/reference/generated/numpy.savez.html)"
   ]
  },
  {
   "cell_type": "markdown",
   "metadata": {},
   "source": [
    ":::::{admonition} Step 1\n",
    ":class: tip\n",
    "Download the tree_0.npz file from slack (or however we share it with you). Create a new script in your IDE (VSCode, PyCharm, etc). You will want to be saving your code in this script throughout this assignment, but you may also want to have an `ipython` instance open, for the purposes of writing and testing code quickly before copying it into your script. \n",
    "\n",
    "Open the `.npz` file in your code. \n",
    "1. How many arrays are contained in the compressed data file? \n",
    "2. Select the mass array and print out its dimensionality.\n",
    "3. What about the time array?\n",
    "\n",
    "::::{hint} Hint: Opening the File + Looking Inside\n",
    ":class: dropdown\n",
    "An `.npz` file is a file type defined by the `numpy` package. Look into the `numpy` package to see how you can open that file type in python. Once you have the file open in python, you need some way to figure out what it contains. Recall that in dictionaries data is stored in `key`: `value` pairs, where keys represent that names. This type of numpy file is similar. In order to figure out what the names of our arrays are, we need to use the `.keys()` method. \n",
    "::::\n",
    "\n",
    "::::{hint} Hint: Figuring out Dimensionality\n",
    ":class: dropdown\n",
    "Look into using the `shape` attribute to figure out the dimensionality of a `numpy` array. \n",
    "::::\n",
    "\n",
    ":::::"
   ]
  },
  {
   "cell_type": "markdown",
   "metadata": {},
   "source": [
    "::::{admonition} Step 2\n",
    ":class: tip\n",
    "Discuss in your groups what physical units might make sense for these values. How can we add this information to the data which is currently only made up of `float` values?\n",
    "Using `astropy.units` create two new arrays (one for time and one for the mass) that have the proper units.\n",
    "\n",
    ":::{hint} Hint \n",
    ":class: dropdown\n",
    "In astronomy, we often use the mass of the Sun as our mass unit and we often use gigayears as our time unit. Try to set the units of your mass and time `numpy` arrays to these using `astropy.units`. \n",
    ":::\n",
    "::::"
   ]
  },
  {
   "cell_type": "markdown",
   "metadata": {},
   "source": [
    ":::{admonition} Step 3\n",
    ":class: tip\n",
    "You might be familiar with the kilogram, meters, seconds (KMS) standard for units.\n",
    "Convert your mass array into kg using `astropy.units`. \n",
    "Convert your time array into seconds.\n",
    "Do you see why it is useful for astronomers to work with other units?\n",
    ":::"
   ]
  },
  {
   "cell_type": "markdown",
   "metadata": {},
   "source": [
    "### Part 2: Playing around with halo mass (10 - 15 minutes)"
   ]
  },
  {
   "cell_type": "markdown",
   "metadata": {},
   "source": [
    "Now that you have opened up the data, I can tell you that the host halo is saved in the first index of the mass array. \n",
    "The rest of the indices correspond to the subhalos that were accreted by the host during the \"simulation\"."
   ]
  },
  {
   "cell_type": "markdown",
   "metadata": {},
   "source": [
    ":::::{admonition} Step 4\n",
    ":class: tip\n",
    "Find the maximum mass of every subhalo across cosmic time! To start, you can try just finding the maximum mass for one subhalo (for ex. the first subhalo stored as the first element of the mass array). \n",
    "\n",
    "Try this using a for-loop, then disuss with your group if there is a more efficient way accomplish the same thing.\n",
    "\n",
    "::::{admonition} TIP\n",
    "Dark matter halos are REALLY massive! The SatGen code saves these mass values in units of solar masses and as you see, most halos are larger than 1 million solar masses. \n",
    "\n",
    "It might make more sense to work with these numbers in log10 space. When you try to convert these values into log10 space, you might encounter a `UnitTypeError`. See if you can figure out what this error is telling you by referencing the astropy units documentation. \n",
    "\n",
    ":::{hint} Hint: Debugging `UnitTypeError`\n",
    ":class: dropdown\n",
    "When using `astropy.units` we are actually converting our data from `float` datatype to what's called an `astropy` `Quantity` datatype. In order to do mathematical operaitons, we usually need to convert our data back to a regular type like `float`. The way we can do this is by using the `.value` attribute of an `astropy` `Quantity`. So, we can convert our entire mass array back into regular old floats using `mass.value`. \n",
    "\n",
    "SideNote: if you do some unit conversions to your mass array while it is in `Quantity` datatype form, then convert it back to a regular numpy array, the actual values are still converted! You can see this for yourself by using astropy to convert to kg, then using `.value` to convert that back to floats. The values will still be changed! This is why the `astropy.units` module is so useful. You will never have to worry about unit conversions again.\n",
    ":::\n",
    "\n",
    "::::\n",
    "\n",
    ":::::"
   ]
  },
  {
   "cell_type": "markdown",
   "metadata": {},
   "source": [
    "::::{admonition} Step 5\n",
    ":class: tip\n",
    "Now, we are going to make our very first plot! We will be using a python package called `matplotlib`. The `matplotlib` documentation has a nice page to walk you through the basics of how we can use this package to make plots. This will be a helpful reference: [Matplotlib Tutorial](https://matplotlib.org/stable/tutorials/pyplot.html#sphx-glr-tutorials-pyplot-py)\n",
    "\n",
    "Plot a histogram of the maximum masses you computed using the `matplotlib.pytplot.hist` method (See [this link](https://matplotlib.org/stable/api/_as_gen/matplotlib.pyplot.hist.html)). \n",
    "Make sure to label the axes and change the binsize so that we have 15 evenly spaced (in log space) bins and put the y axis in log scale!\n",
    "\n",
    ":::{admonition} TIP\n",
    "You could have also accomplished something similar with `numpy.histogram` but since we wanted to visualize the data, in this case its easier to use `matplotlib`\n",
    ":::\n",
    "\n",
    "::::"
   ]
  },
  {
   "cell_type": "markdown",
   "metadata": {},
   "source": [
    "WOW! There are so many more low mass subhalos than there are high mass subhalos!! LCDM predicts a steep mass function!"
   ]
  },
  {
   "cell_type": "markdown",
   "metadata": {},
   "source": [
    "### Part 3: Plotting the merger tree! (20-25 minutes)"
   ]
  },
  {
   "cell_type": "markdown",
   "metadata": {},
   "source": [
    "::::{admonition} Step 6\n",
    ":class: tip\n",
    "First, let's plot just the host halo's mass vs. time. Start by selecting the host halo (e.g. the first element of in the mass array), and plot mass vs. time using `matplotlib`. \n",
    "\n",
    ":::{hint} Hint: Plotting 2-D Data\n",
    ":class: dropdown\n",
    "You can use `matplotlib.pyplot.plot` to plot a line by giving the arguments (x-data, y-data). \n",
    ":::\n",
    "::::"
   ]
  },
  {
   "cell_type": "markdown",
   "metadata": {},
   "source": [
    "Okay so as we know, there are a bunch of subhalos in this merger tree. \n",
    "If we wanted plot all of them with respect to time, the figure would be a bit crowded. Instead lets only pick the ones that are above a given mass at present day."
   ]
  },
  {
   "cell_type": "markdown",
   "metadata": {},
   "source": [
    ":::{admonition} Step 7\n",
    ":class: tip\n",
    "In your mass array, select only the present day time index. Create a mask on this selection that excludes an subhalos that are less massive than 10^9.5 solar masses.\n",
    "How many are there?\n",
    ":::"
   ]
  },
  {
   "cell_type": "markdown",
   "metadata": {},
   "source": [
    ":::{admonition} Step 8\n",
    ":class: tip\n",
    "Make a mass vs. time plot for the subhalos that meet the present day mass criteria in the previous step. \n",
    "Make sure you plot the host mass in a different color.\n",
    "Don't forget to label your axes!\n",
    ":::"
   ]
  },
  {
   "cell_type": "markdown",
   "metadata": {},
   "source": [
    "Can you see the little dips in the accretion histories? That is when the subhalo is accreted onto the host! Notice there is no such dip for the red line!"
   ]
  }
 ],
 "metadata": {
  "kernelspec": {
   "display_name": "Python 3 (ipykernel)",
   "language": "python",
   "name": "python3"
  },
  "language_info": {
   "codemirror_mode": {
    "name": "ipython",
    "version": 3
   },
   "file_extension": ".py",
   "mimetype": "text/x-python",
   "name": "python",
   "nbconvert_exporter": "python",
   "pygments_lexer": "ipython3",
   "version": "3.11.6"
  }
 },
 "nbformat": 4,
 "nbformat_minor": 4
}
