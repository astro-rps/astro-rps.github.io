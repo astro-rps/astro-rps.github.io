{
 "cells": [
  {
   "cell_type": "markdown",
   "id": "d4e36714",
   "metadata": {
    "tags": [],
    "user_expressions": []
   },
   "source": [
    "# Astro-RPS Week 6 Lab: Practice with Notebook, Pandas, and Plotting! "
   ]
  },
  {
   "cell_type": "markdown",
   "id": "0a8c5352-53ef-469e-a956-e50aa38eb46a",
   "metadata": {
    "user_expressions": []
   },
   "source": [
    "This week's lab will focus on using the skills you have learned about **pandas** and **matplotlib** to do some real scientific data analysis. For today, please write all your code in a Jupyter Notebook!"
   ]
  },
  {
   "cell_type": "markdown",
   "id": "c4e895cc-ce15-4b48-80c7-1300fa391ac9",
   "metadata": {
    "tags": [],
    "user_expressions": []
   },
   "source": [
    ":::{admonition} Exercise 1: Plotting a Hertzsprung-Russell Diagram of the Globular Cluster M92 using Data from the Gaia Mission \n",
    ":class: tip\n",
    "\n",
    "\n",
    "The *Gaia* satellite has collected stellar positions, motions, and brightnesses for nearly two billion stars in the Milky Way. The file \"GaiaM92.csv\" contains example data from *Gaia* specifically for the globular star cluster Messier 92 (M92). To investigate the data, take the following steps:\n",
    "\n",
    "1. Load the .csv file into a dataframe called m92_data. Each row in this datafile is an individual star.\n",
    "\n",
    "2. Plot a histogram of the column \"phot_g_mean_mag\". This is the column that contains the brightnesses of stars.  What do you notice about the distribution?\n",
    "\n",
    "3. Now, make a scatterplot with the column \"bp_rp\" (a proxy for color) on the x-axis and \"phot_g_mean_mag\" (a proxy for luminosity) on the y-axis. Is the distribution in this plane uniform, or do you see patterns/sequences.\n",
    "\n",
    "4. Clean up the scatterplot from part 3: first, invert the y-axis so smaller numbers are at the top of the plot, and limit the x range to -0.5 to 2.  Then, change the marker size and color to be small, black points. Lastly, label both axes something physically meaningful (not just the column names)\n",
    "\n",
    "5. Compare your diagram to the one shown at this link: [Cluster HR Diagram](https://www.mps.mpg.de/5484970/original-1534168518.png?t=eyJ3aWR0aCI6ODAwLCJoZWlnaHQiOjYwMCwib2JqX2lkIjo1NDg0OTcwfQ==--5f4cb09228b20d5b3a71fbd40fa5a346ee619316). Can you observe the same features in your plot?\n"
   ]
  },
  {
   "cell_type": "markdown",
   "id": "b24c28e8-da84-47f2-8938-8b3d808b21d8",
   "metadata": {
    "tags": [],
    "user_expressions": []
   },
   "source": [
    ":::{admonition} Bonus Extension to Exercise 1: The Distance to the Cluster M92 \n",
    ":class: tip\n",
    "\n",
    "The **horizontal branch** of the HR diagram (see Q5 of Exercise 1) is comprised of stars at roughly the same luminosity regardless of temperature. Since we have a sense of the instrinsic (absolute) luminosity of these stars, we can compared that to their observed luminosity to get a sense of their distance. For a globular cluster like M92, we can then average over the distance to these special stars to get a distance to the cluster. In this exercise, we'll do exactly that!\n",
    "\n",
    "\n",
    "1. First, isolate the horizontal branch by filtering based on the phot_g_mean_mag column and the bp_rp column. In practice, you need four selections total which select for stars in this feature (e.g, mag > 15 and mag < 16 and similar for bp_rp). I recommend you impose phot_g_mean_mag < 15.5 as one of them to get the best possible results.\n",
    "\n",
    "2. The \"absolute\" G-band luminosity of stars on the horizontal branch is G = 0.3. Create a new column called \"DistanceModulus\" which is phot_g_mean_mag minus this number.\n",
    "\n",
    "3. The distance modulus (unitless) is related to the distance (in kiloparsecs) via the formula \n",
    "$$ \\rm distance \\ (kpc) = \\frac{1}{1000}\\left(10^{((DistanceModulus/5) + 1)}\\right) $$ \n",
    "Create a column in your dataframe for the distance in kiloparsecs using this formula, and call that column Distance_kpc\n",
    "\n",
    "\n",
    "4. Create a column Distance_lightyears which is just Distance_kpc multiplied by 3262.\n",
    "\n",
    "\n",
    "5. Lastly, Print the average and standard deviation of your Distance_lightyears column.  What distance is the cluster? If you assume the mean value and the standard deviation as the error, does your value match that shown on the Wikipedia page for M92?"
   ]
  },
  {
   "cell_type": "markdown",
   "id": "481c94fe-fb6d-4ade-8dae-dafac3812c01",
   "metadata": {
    "tags": [],
    "user_expressions": []
   },
   "source": [
    ":::{admonition} Exercise 2: Filtering with Proper Motion Information to Identify a Hidden Dwarf Galaxy in Gaia Data\n",
    ":class: tip\n",
    "\n",
    "Now, we will turn to the file \"ReticulumII.csv', which contains a catalog of stars observed by Gaia in a small region around an \"ultra-faint\" dwarf galaxy orbiting the Milky Way named Reticulum II. This galaxy is drowned out by foreground stars from the Milky Way disk, which we can cleverly remove using the information from Gaia.\n",
    "\n",
    "1. The .csv file given has a noticeable change that you will need to account for when loading it. Visually inspect the file to figure out what this change is, and then load the file in with pandas using the appropriate arguments needed to handle the changed format.\n",
    "\n",
    "2. Make a plot of the \"dec\" column (y-axis) vs. the \"ra\" column (x-axis); also, fix the figure size to be square of dimensions 5 x 5 inches. RA (short for Right Ascension) and Dec (short for Declination) are what we call celestial coordinates, and they specify the position of a star, galaxy, or other astronomical object on the sky. \n",
    "\n",
    "\n",
    "3. Remove some Milky Way foreground stars by a cut with on parallax: specifically, the new dataframe should contain only the rows with parallax < 0.75. Parallaxes are related to distances via distance (in pc) = 1/parallax, and so removing stars with large parallax with leave us with a sample of only the more distant stars. Store the output in a new dataframe called filtered_stars.\n",
    "\n",
    "\n",
    "4. Now, make a plot of the same size but now using the \"pmra\" column (x-axis) vs the \"pmdec\" column. Here, the \"pm\" stands for Proper Motion, which is the apparent change in an astronomical object's celestial coordinate position due to its motion in the tangential direction (i.e., not along the line of sight, but instead on the plane of the sky). \n",
    "\n",
    "\n",
    "5. In your plot from (4), see whether you can identify a clump of stars with similar proper motions in both the x and y directions. (hint: look near (0,0), and feel free to change the axes limits!). Then, come up with a rectangular selection based on the pmra/pmdec columns that could be used to select for rows consistent with this signal (e.g.. pmra > -5).\n",
    "\n",
    "6. Filter your parallax-filtered dataframe from (3), which was called filtered_stars,  using the cuts you defined in (5). You can store the output in a dataframe with the same name, filtered_stars.\n",
    "\n",
    "7. Now, plot the same plot from (3) except now using the filtered_stars dataframe. Do you see the dwarf galaxy now?"
   ]
  }
 ],
 "metadata": {
  "kernelspec": {
   "display_name": "Python 3",
   "language": "python",
   "name": "python3"
  },
  "language_info": {
   "codemirror_mode": {
    "name": "ipython",
    "version": 3
   },
   "file_extension": ".py",
   "mimetype": "text/x-python",
   "name": "python",
   "nbconvert_exporter": "python",
   "pygments_lexer": "ipython3",
   "version": "3.7.16"
  }
 },
 "nbformat": 4,
 "nbformat_minor": 5
}
