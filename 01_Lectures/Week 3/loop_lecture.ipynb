{
 "cells": [
  {
   "cell_type": "markdown",
   "metadata": {},
   "source": [
    "# Looping in Python"
   ]
  },
  {
   "cell_type": "markdown",
   "metadata": {},
   "source": [
    "\n",
    "## Part 1: \"for-loops\" and \"while-loops\"\n",
    "\n",
    "This week we will be discussing basic iterable objects (lists, arrays, tuples ...) and how you can use them to repeat operations. \n",
    "\n",
    "For example lets say you want to print something out several times. Last week you learned some numpy basics so lets start with that..."
   ]
  },
  {
   "cell_type": "code",
   "execution_count": 1,
   "metadata": {},
   "outputs": [
    {
     "name": "stdout",
     "output_type": "stream",
     "text": [
      "[0 1 2 3 4]\n"
     ]
    }
   ],
   "source": [
    "import numpy as np #importing numpy\n",
    "\n",
    "print(np.arange(5)) # this is an array with 5 elements"
   ]
  },
  {
   "cell_type": "code",
   "execution_count": 2,
   "metadata": {},
   "outputs": [
    {
     "name": "stdout",
     "output_type": "stream",
     "text": [
      "0\n",
      "1\n",
      "2\n",
      "3\n",
      "4\n"
     ]
    }
   ],
   "source": [
    "# start the for loop\n",
    "for i in np.arange(5): # pay attention to the syntax (\":\") here! \n",
    "    print(i)"
   ]
  },
  {
   "cell_type": "markdown",
   "metadata": {},
   "source": [
    "This is an example of a \"for-loop\" which is the most basic looping fucntionality in Python. \n",
    "\n",
    "It is intiialized by typing `for` in front of the the variable `i` which is a an element `in` the iterable `np.arange(5)`. \n",
    "\n",
    "It works by iterating over each element in the numpy array. Importantly, the variable `i` can be anything as long as you are consistent. \n",
    "\n",
    "It is effectively a dummy variable that represents each element in the iterable. "
   ]
  },
  {
   "cell_type": "code",
   "execution_count": 3,
   "metadata": {},
   "outputs": [
    {
     "name": "stdout",
     "output_type": "stream",
     "text": [
      "0\n",
      "1\n",
      "2\n",
      "3\n",
      "4\n"
     ]
    }
   ],
   "source": [
    "for wowza in np.arange(5): #now instead of \"i\" I used the \"wowza\" variable\n",
    "    print(wowza)"
   ]
  },
  {
   "cell_type": "markdown",
   "metadata": {},
   "source": [
    "You could do somethign similar with a \"while-loop\" which unlike the \"for-loop\" iterates as long as some condition is met. For example:"
   ]
  },
  {
   "cell_type": "code",
   "execution_count": 4,
   "metadata": {},
   "outputs": [
    {
     "name": "stdout",
     "output_type": "stream",
     "text": [
      "0\n",
      "1\n",
      "2\n",
      "3\n",
      "4\n"
     ]
    }
   ],
   "source": [
    "# Initialize a counter\n",
    "counter = 0\n",
    "\n",
    "# Define the condition for the while loop\n",
    "while counter < 5:\n",
    "    print(counter)\n",
    "    counter += 1  # Increment the counter"
   ]
  },
  {
   "cell_type": "markdown",
   "metadata": {},
   "source": [
    "TBH, I have never used a \"while loop\" and don't see any advantage of it compared to a \"for loop\". \n",
    "\n",
    "Intially, you might not see this looping business as incredibly useful but lets take a more complicated example..."
   ]
  },
  {
   "cell_type": "code",
   "execution_count": 5,
   "metadata": {},
   "outputs": [
    {
     "name": "stdout",
     "output_type": "stream",
     "text": [
      "    *\n",
      "   ***\n",
      "  *****\n",
      " *******\n",
      "*********\n"
     ]
    }
   ],
   "source": [
    "# Define the height of the tree\n",
    "height = 5\n",
    "\n",
    "# Using a for loop to print a Christmas tree\n",
    "for i in range(1, height + 1): \n",
    "    spaces = \" \" * (height - i)\n",
    "    stars = \"*\" * (2 * i - 1)\n",
    "    print(spaces + stars)"
   ]
  },
  {
   "cell_type": "markdown",
   "metadata": {},
   "source": [
    "This would be kind annoying to print out by actually typing out the spaces and the stars, especially if you want to make the tree larger.."
   ]
  },
  {
   "cell_type": "code",
   "execution_count": 6,
   "metadata": {},
   "outputs": [
    {
     "name": "stdout",
     "output_type": "stream",
     "text": [
      "           *\n",
      "          ***\n",
      "         *****\n",
      "        *******\n",
      "       *********\n",
      "      ***********\n",
      "     *************\n",
      "    ***************\n",
      "   *****************\n",
      "  *******************\n",
      " *********************\n",
      "***********************\n"
     ]
    }
   ],
   "source": [
    "# Define the height of the tree\n",
    "height = 12\n",
    "\n",
    "# Using a for loop to print a Christmas tree\n",
    "for i in range(1, height + 1): \n",
    "    spaces = \" \" * (height - i)\n",
    "    stars = \"*\" * (2 * i - 1)\n",
    "    print(spaces + stars)"
   ]
  },
  {
   "cell_type": "markdown",
   "metadata": {},
   "source": [
    "Above we have the `range` function which creates a \"range\" instance. This is another example of an iterable"
   ]
  },
  {
   "cell_type": "markdown",
   "metadata": {},
   "source": [
    "## Part 2: Iterables\n",
    "\n",
    "Okay so now that we have the basic syntax of these two loops, lets talk iterables. Lets start with a list"
   ]
  },
  {
   "cell_type": "code",
   "execution_count": 8,
   "metadata": {},
   "outputs": [],
   "source": [
    "my_grocery_list = [\"apples\", \"oranges\", \"dorritos\", \"mustard\", \"eggs\", \"gummy bears\"] \n",
    "# pay attention to the syntax here! ([] square brackets!)"
   ]
  },
  {
   "cell_type": "markdown",
   "metadata": {},
   "source": [
    "how many things do I have in my list? and what is each element? and can I iterate over these random things that aren't integers?"
   ]
  },
  {
   "cell_type": "code",
   "execution_count": 9,
   "metadata": {},
   "outputs": [
    {
     "name": "stdout",
     "output_type": "stream",
     "text": [
      "6\n",
      "<class 'str'>\n"
     ]
    }
   ],
   "source": [
    "print( len(my_grocery_list) )\n",
    "\n",
    "print( type(my_grocery_list[2]))"
   ]
  },
  {
   "cell_type": "code",
   "execution_count": 10,
   "metadata": {},
   "outputs": [
    {
     "name": "stdout",
     "output_type": "stream",
     "text": [
      "oh shoot I forgot the mustard\n",
      "oh shoot I forgot the eggs\n"
     ]
    }
   ],
   "source": [
    "for food in my_grocery_list[3:5]:\n",
    "    print(\"oh shoot I forgot the\", food)"
   ]
  },
  {
   "cell_type": "markdown",
   "metadata": {},
   "source": [
    "As we can see there are 6 `str` elements in the list and iterating over the 3rd and 4th element is perfectly easy!\n",
    "\n",
    " In other words the iterable can be an interger, a string, a list itslef, basically any data type! Lets now loop over a dictionary!"
   ]
  },
  {
   "cell_type": "code",
   "execution_count": 11,
   "metadata": {},
   "outputs": [],
   "source": [
    "# Define a treasure map dictionary\n",
    "treasure_map = {\n",
    "    'Start': 'You find yourself on a mysterious island.',\n",
    "    'Palm Tree': 'Under the palm tree, you discover a clue written in the sand.',\n",
    "    'Cave Entrance': 'Following the clue, you reach the entrance of a dark cave.',\n",
    "    'Treasure Room': 'After navigating through the cave, you discover the hidden treasure room!',\n",
    "    'X marks the spot': 'You find the treasure chest buried under a giant \"X\" on the floor.'\n",
    "}"
   ]
  },
  {
   "cell_type": "code",
   "execution_count": 12,
   "metadata": {},
   "outputs": [
    {
     "name": "stdout",
     "output_type": "stream",
     "text": [
      "You are at Start: You find yourself on a mysterious island.\n",
      "Thanks for playing! Adventure complete.\n"
     ]
    }
   ],
   "source": [
    "# Use a for loop to explore the treasure map\n",
    "for location, description in treasure_map.items():\n",
    "    print(f'You are at {location}: {description}')\n",
    "    user_input = input('Do you want to continue the adventure? (yes/no): ')\n",
    "    \n",
    "    if user_input.lower() != 'yes':\n",
    "        print('Thanks for playing! Adventure complete.')\n",
    "        break"
   ]
  },
  {
   "cell_type": "markdown",
   "metadata": {},
   "source": [
    "## Part 3: Double for-loops ... Tread carefully!"
   ]
  },
  {
   "cell_type": "markdown",
   "metadata": {},
   "source": [
    "Pretend you are sampling ages by asking 10 random people in the grocery store.\n",
    "\n",
    "\n",
    "You do this expirement three times in the same grocery store on Monday, Tuesday and Wednesday.\n",
    "\n",
    "\n",
    "You now have three lists of numbers that (rather conviently) are the same length. "
   ]
  },
  {
   "cell_type": "code",
   "execution_count": 13,
   "metadata": {},
   "outputs": [],
   "source": [
    "list_Mon = [5, 12, 3, 5, 67, 1, 2, 34, 2, 89]\n",
    "\n",
    "list_Tues = [15, 45, 21, 2, 8, 9, 54, 99, 17, 51]\n",
    "\n",
    "list_Wed = [32, 65, 11, 9, 5, 75, 21, 14, 39, 71]"
   ]
  },
  {
   "cell_type": "markdown",
   "metadata": {},
   "source": [
    "Now lets say you wanted to know if any of these people could have been around to see the 2001 superbowl. How would you go about doing so?"
   ]
  },
  {
   "cell_type": "code",
   "execution_count": 14,
   "metadata": {},
   "outputs": [
    {
     "ename": "TypeError",
     "evalue": "'>' not supported between instances of 'list' and 'int'",
     "output_type": "error",
     "traceback": [
      "\u001b[0;31m---------------------------------------------------------------------------\u001b[0m",
      "\u001b[0;31mTypeError\u001b[0m                                 Traceback (most recent call last)",
      "\u001b[1;32m/Users/jsmonzon/Research/materials-development/Week3/lecture.ipynb Cell 27\u001b[0m line \u001b[0;36m2\n\u001b[1;32m      <a href='vscode-notebook-cell:/Users/jsmonzon/Research/materials-development/Week3/lecture.ipynb#X43sZmlsZQ%3D%3D?line=0'>1</a>\u001b[0m min_age \u001b[39m=\u001b[39m \u001b[39m2023\u001b[39m \u001b[39m-\u001b[39m \u001b[39m2001\u001b[39m\n\u001b[0;32m----> <a href='vscode-notebook-cell:/Users/jsmonzon/Research/materials-development/Week3/lecture.ipynb#X43sZmlsZQ%3D%3D?line=1'>2</a>\u001b[0m list_Mon \u001b[39m>\u001b[39;49m min_age\n",
      "\u001b[0;31mTypeError\u001b[0m: '>' not supported between instances of 'list' and 'int'"
     ]
    }
   ],
   "source": [
    "min_age = 2023 - 2001\n",
    "list_Mon > min_age"
   ]
  },
  {
   "cell_type": "markdown",
   "metadata": {},
   "source": [
    "well that doesn't seem to work! so maybe we use a handy loop!"
   ]
  },
  {
   "cell_type": "code",
   "execution_count": 15,
   "metadata": {},
   "outputs": [
    {
     "name": "stdout",
     "output_type": "stream",
     "text": [
      "[False, False, False, False, True, False, False, True, False, True]\n",
      "only 3 people are old enough!\n"
     ]
    }
   ],
   "source": [
    "bool_Mon = []\n",
    "for i in list_Mon:\n",
    "    bool_Mon.append(i > min_age)\n",
    "\n",
    "print(bool_Mon)\n",
    "print(\"only \" +str(sum(bool_Mon)) + \" people are old enough!\")"
   ]
  },
  {
   "cell_type": "markdown",
   "metadata": {},
   "source": [
    "okay but what about the other days? Maybe we iterate over a list of lists?"
   ]
  },
  {
   "cell_type": "code",
   "execution_count": 16,
   "metadata": {},
   "outputs": [
    {
     "name": "stdout",
     "output_type": "stream",
     "text": [
      "[False, False, False, False, True, False, False, True, False, True, False, True, False, False, False, False, True, True, False, True, True, True, False, False, False, True, False, False, True, True]\n",
      "only 12 people are old enough!\n"
     ]
    }
   ],
   "source": [
    "all_ages = [list_Mon, list_Tues, list_Wed]\n",
    "all_bool = []\n",
    "\n",
    "for list in all_ages:\n",
    "    for i in list:\n",
    "        all_bool.append(i > min_age)\n",
    "\n",
    "\n",
    "print(all_bool)\n",
    "print(\"only \" +str(sum(all_bool)) + \" people are old enough!\")"
   ]
  },
  {
   "cell_type": "markdown",
   "metadata": {},
   "source": [
    "Great so the double for-loop seems to work fine!, but lets say it wasn't just 10 people each day, and it wasn't just for three days. \n",
    "\n",
    "Instead, lets say you and your friends talked to 100,000 people each day for 10 years (10x365 days)\n",
    "\n",
    "Now since I can't generate that many numbers on the spot I will use the numpy.random package. We will discuss this more later..."
   ]
  },
  {
   "cell_type": "code",
   "execution_count": 17,
   "metadata": {},
   "outputs": [],
   "source": [
    "all_ages_BIG = np.random.randint(0,100, size=(3650,100000)).tolist()"
   ]
  },
  {
   "cell_type": "markdown",
   "metadata": {},
   "source": [
    "lets try the same scheme as before with the double for-loop!"
   ]
  },
  {
   "cell_type": "code",
   "execution_count": 18,
   "metadata": {},
   "outputs": [],
   "source": [
    "all_bool_BIG = []\n",
    "\n",
    "for list in all_ages_BIG:\n",
    "    for i in list:\n",
    "        all_bool_BIG.append(i > min_age)"
   ]
  },
  {
   "cell_type": "code",
   "execution_count": 19,
   "metadata": {},
   "outputs": [
    {
     "name": "stdout",
     "output_type": "stream",
     "text": [
      "10^8.448775123083287 people are old enough!\n"
     ]
    }
   ],
   "source": [
    "print(\"10^\" +str(np.log10(sum(all_bool_BIG))) + \" people are old enough!\")"
   ]
  },
  {
   "cell_type": "markdown",
   "metadata": {},
   "source": [
    "that is A LOT of people! so much so that it took our computer ~43 seconds to compute that number! \n",
    "\n",
    "\n",
    "worst of all this is for a relatively simple operation! anything slightly more complicated would greatly impact the preformance of this scheme.\n",
    "\n",
    "\n",
    "We can do a lot better than that (namely by using numpy arrays)"
   ]
  },
  {
   "cell_type": "code",
   "execution_count": 20,
   "metadata": {},
   "outputs": [
    {
     "name": "stdout",
     "output_type": "stream",
     "text": [
      "10^8.448763231936013 people are old enough!\n"
     ]
    }
   ],
   "source": [
    "all_ages_BIG = np.random.randint(0,100, size=(3650,100000))\n",
    "\n",
    "wow = np.sum(all_ages_BIG > min_age)\n",
    "\n",
    "print(\"10^\" +str(np.log10(wow)) + \" people are old enough!\")"
   ]
  },
  {
   "cell_type": "markdown",
   "metadata": {},
   "source": [
    "that only took 3 seconds! so be careful when constructing these seemingly harmless tools and remember double-for loops are a LAST RESORT!"
   ]
  }
 ],
 "metadata": {
  "kernelspec": {
   "display_name": "subhalos",
   "language": "python",
   "name": "python3"
  },
  "language_info": {
   "codemirror_mode": {
    "name": "ipython",
    "version": 3
   },
   "file_extension": ".py",
   "mimetype": "text/x-python",
   "name": "python",
   "nbconvert_exporter": "python",
   "pygments_lexer": "ipython3",
   "version": "3.10.9"
  }
 },
 "nbformat": 4,
 "nbformat_minor": 2
}
