{
 "cells": [
  {
   "cell_type": "markdown",
   "id": "6b8d3d74-a2b9-4fb9-821b-e64cb65c37e4",
   "metadata": {
    "tags": [],
    "user_expressions": []
   },
   "source": [
    "# First Python Codes"
   ]
  },
  {
   "cell_type": "markdown",
   "id": "ee82cbdd-7a8e-45ea-86d8-09f9d2292404",
   "metadata": {
    "tags": [],
    "user_expressions": []
   },
   "source": [
    "Last week, we focused on how to navigate the Terminal, and set up our environments from which we can run Python. **This week, we're going to actually *run* Python.** By the end of this part of today's lesson, you will be able to...\n",
    "\n",
    "- Run Python interactively through the Terminal\n",
    "- Create, edit, and run .py \"scripts\": saveable, reproducible Python codes\n",
    "- Understand and demonstrate the basic use of the print() function\n",
    "- Write and run your own classic \"Hello World!\" Python script\n",
    "- Write a multi-line Python script and understand basic program layout\n"
   ]
  },
  {
   "cell_type": "markdown",
   "id": "a47b24f3-54a9-4de3-ac19-a4ff0d8fc5d3",
   "metadata": {
    "tags": [],
    "user_expressions": []
   },
   "source": [
    "## A Quick Reminder"
   ]
  },
  {
   "cell_type": "markdown",
   "id": "b9a172ef-000c-46a3-8240-0196c585f998",
   "metadata": {
    "tags": [],
    "user_expressions": []
   },
   "source": [
    "Last week, we set up conda environments that we'll be using for the whole Astro-RPS series. Before we move forward, you'll want to move into your \"working directory\" where you've been working on everything up till now (reminder: you can use ```cd [dirname]``` to navigate to your working directory from within the terminal). Once you've done that, activate the astro-rps environment:\n",
    "\n",
    "```{code-block} bash\n",
    "conda activate astro-rps\n",
    "```"
   ]
  },
  {
   "cell_type": "markdown",
   "id": "6f02c1fd-5696-4b6c-8d99-672c5eebabff",
   "metadata": {
    "tags": [],
    "user_expressions": []
   },
   "source": [
    "Now, you can activate Python in the same terminal by simply typing:"
   ]
  },
  {
   "cell_type": "markdown",
   "id": "de507609-603f-4928-b215-776372251235",
   "metadata": {
    "tags": [],
    "user_expressions": []
   },
   "source": [
    "```{code-block} bash\n",
    "python\n",
    "```"
   ]
  },
  {
   "cell_type": "markdown",
   "id": "895dd876-5406-4862-bcb1-c968e5d5a577",
   "metadata": {
    "tags": [],
    "user_expressions": []
   },
   "source": [
    "or equivalently, "
   ]
  },
  {
   "cell_type": "markdown",
   "id": "f1307a19-4bda-4c68-84ef-3c6c80f60c99",
   "metadata": {
    "tags": [],
    "user_expressions": []
   },
   "source": [
    "```{code-block} bash\n",
    "python3.8\n",
    "```"
   ]
  },
  {
   "cell_type": "markdown",
   "id": "6d2e9a1f-69a7-4d4e-ac4d-96c4bf429b2d",
   "metadata": {
    "tags": [],
    "user_expressions": []
   },
   "source": [
    "If things work properly, you should see a message that includes a few details about the Python version you are running, your operating system, etc. If you do, you should see a blinking cursor ready for you to type code in, often preceded by a >>>. From here, we should already be able to do some basic calculations."
   ]
  },
  {
   "cell_type": "markdown",
   "id": "92834d2a-3178-406c-85d0-20fed680d402",
   "metadata": {
    "tags": [],
    "user_expressions": []
   },
   "source": [
    ":::{admonition} Exercise One: Basic Mathematical Operations\n",
    ":class: tip\n",
    "\n",
    "In your shell/terminal where you have started up Python, try adding two numbers as below:\n",
    "\n",
    "```{code-block} python\n",
    "10 + 2\n",
    "```\n",
    "(hit enter when you're done typing). This should return a single number. Then, try \n",
    "\n",
    "```{code-block} python\n",
    "print(10+2)\n",
    "```\n",
    "again, hit enter. Is the output the same, or different? What happens when you swap out the + with \"-\", then \"/\", then \"*\". What do each of these return?\n",
    "\n",
    "Lastly, try: \n",
    "```{code-block} python\n",
    "print(10 / 0)\n",
    "```\n",
    "What happens?\n",
    "\n",
    ":::"
   ]
  },
  {
   "cell_type": "markdown",
   "id": "dc0ec3fa-4b0b-4495-9c2a-7c9c784e61f3",
   "metadata": {
    "user_expressions": []
   },
   "source": [
    "Now, in the same terminal, type \n",
    "```{code-block} bash\n",
    "exit()\n",
    "```"
   ]
  },
  {
   "cell_type": "markdown",
   "id": "dc029611-2a7a-45cb-81ad-ce2727235ad0",
   "metadata": {
    "tags": [],
    "user_expressions": []
   },
   "source": [
    "and hit enter. Once you've done so, congrats! You've started, written, completed, and quit your first Python session."
   ]
  },
  {
   "cell_type": "markdown",
   "id": "59985d19-a593-4590-809f-49a3257199a6",
   "metadata": {
    "tags": [],
    "user_expressions": []
   },
   "source": [
    "From here on, we actually will not recommend you use just \"python\" and instead recommend:\n",
    "```{code-block} python\n",
    "   ipython\n",
    "```"
   ]
  },
  {
   "cell_type": "markdown",
   "id": "3692dcf8-2991-4545-85da-ab9f7c40d2e5",
   "metadata": {
    "user_expressions": []
   },
   "source": [
    "The differences are mostly unimportant, but it has some conveniences (like colored text for different keywords) that make it nicer to use."
   ]
  },
  {
   "cell_type": "markdown",
   "id": "bdbc4521-78be-4756-80cf-de32bc2c11bd",
   "metadata": {
    "tags": [],
    "user_expressions": []
   },
   "source": [
    ":::{admonition} Running Python Interactively in the Terminal vs. \"Scripting\"\n",
    ":class: important\n",
    "When we run Python interactively like we did above, then quit, **none of the operations and outputs are saved**. While you can sometimes use the up arrowkey to see recent commands and perhaps re-run them that way manually, this this obviously isn't the way most codes are written: we normally care a lot about saving our work so that we can expand upon it later and re-run. So, in short, don't do work in interactive Python sessions that you want to preserve later.\n",
    "\n",
    "What do we instead? We create **scripts**. This is just a fancy way of saying \"codes that we save in files\". In Python, these have the file extension .py, i.e., you might call your script \"code.py\" (or hopefully something more descriptive). \n",
    "\n",
    ":::\n"
   ]
  },
  {
   "cell_type": "markdown",
   "id": "176c0432-7212-41a0-875a-f31512bfe696",
   "metadata": {
    "tags": [],
    "user_expressions": []
   },
   "source": [
    "To create a script, first exit Python. This should you leave in a normal bash shell, from which you can type"
   ]
  },
  {
   "cell_type": "markdown",
   "id": "9215fa11-a6c7-4d30-9111-e1125ea8ad66",
   "metadata": {
    "tags": [],
    "user_expressions": []
   },
   "source": [
    "```{code-block} bash\n",
    "touch first_script.py\n",
    "```"
   ]
  },
  {
   "cell_type": "markdown",
   "id": "931e1ba6-a1c6-4d45-a9e4-57fdc79f4792",
   "metadata": {
    "tags": [],
    "user_expressions": []
   },
   "source": [
    "The command \"touch\" simply creates a basic text file with the name provided afterwards (here, first_script.py). We are now free to edit this file through whatever means we want: for now, open it up in whatever text editor you prefer (e.g., TextEdit, Notepad, Text Editor for Mac, Windows, and Linux respectively). "
   ]
  },
  {
   "cell_type": "markdown",
   "id": "edd2b6e9-a500-45d6-a4d0-6812b76292d3",
   "metadata": {
    "tags": [],
    "user_expressions": []
   },
   "source": [
    "Now, try adding \n",
    "\n",
    "```{code-block} python\n",
    " print(\"Hello World!\")\n",
    "``` \n",
    "into that file and save it. Then, open up a bash terminal (*don't type python*) and type\n",
    "\n",
    "```{code-block} bash\n",
    "python first_script.py\n",
    "```"
   ]
  },
  {
   "cell_type": "markdown",
   "id": "754c0539-f902-45f7-aa00-34584902250d",
   "metadata": {
    "tags": [],
    "user_expressions": []
   },
   "source": [
    "from within the same directory where you saved the file. If you're in the right place, your bash shell should print out the words Hello World. If you run into an error, check first that you're in the right directory (and if not, use cd to get there)."
   ]
  },
  {
   "cell_type": "markdown",
   "id": "9bfac98d-a3b7-499a-ac24-4fd22778e3f8",
   "metadata": {
    "tags": [],
    "user_expressions": []
   },
   "source": [
    "## Comments"
   ]
  },
  {
   "cell_type": "markdown",
   "id": "b10b1771-3ba7-4c99-8079-54e2a4f0a79a",
   "metadata": {
    "tags": [],
    "user_expressions": []
   },
   "source": [
    "What if we want to put something into the code that we don't want to run? In that case, we can **comment** lines using the #. For our script above, we could add a description of what the code is doing as follows:"
   ]
  },
  {
   "cell_type": "markdown",
   "id": "0ee49152-f5fc-48ef-ade4-89347f26e6e2",
   "metadata": {
    "tags": [],
    "user_expressions": []
   },
   "source": [
    "```{code-block} python\n",
    " # This is a program to print the words Hello World.\n",
    " print(\"Hello World!\") # this is the line that does the printing.\n",
    "```\n",
    "As can be seen, anything after the hashtag is completely ignored by Python.  This is true whether you've put the commented phrase on its own line or at the end of another line. "
   ]
  },
  {
   "cell_type": "markdown",
   "id": "61b04d7d-0791-4029-a9dd-3654a665e738",
   "metadata": {
    "tags": [],
    "user_expressions": []
   },
   "source": [
    "There's not much more to comments than this! Broadly speaking, commenting is vital piece of making sure codes are understandable. We encourage you to include comments throughout your codes that indicate what important lines are doing. This will help avoid the situation where you log on a week later and totally lose the train of thought that you had the previous week (speaking from experience, we promise this really will happen)."
   ]
  },
  {
   "cell_type": "markdown",
   "id": "2c313a18-635f-4833-8d4e-7f9462825e0b",
   "metadata": {
    "tags": [],
    "user_expressions": []
   },
   "source": [
    "## Writing Multi-line Programs"
   ]
  },
  {
   "cell_type": "markdown",
   "id": "65023e53-0e28-4d00-a1a2-e6a05ccdd518",
   "metadata": {
    "tags": [],
    "user_expressions": []
   },
   "source": [
    "With the basics down, we can start to complexify. In Python, distinct commands are separated onto different lines. In most situations, Python is linear: lines are executed from the top to the bottom. To see this for a case when you want to print two different things, you can write the code:\n",
    "\n",
    "```{code-block} python\n",
    "# This code prints a phrase and a number.\n",
    "print(\"Hello World!\")\n",
    "print(5+5)\n",
    "``` "
   ]
  },
  {
   "cell_type": "markdown",
   "id": "7f6ce29e-65d9-4391-a8bc-57193314aecd",
   "metadata": {
    "tags": [],
    "user_expressions": []
   },
   "source": [
    "Each print statement has an implicit (but hidden) command at the end that tells it to move to the next line after printing, so you should find that this prints out each result on its own line. If you don't want that, one choice of syntax to avoid that is:"
   ]
  },
  {
   "cell_type": "markdown",
   "id": "b5ff5f55-d510-4a8d-9eac-52e5af00b3da",
   "metadata": {
    "tags": [],
    "user_expressions": []
   },
   "source": [
    "```{code-block} python\n",
    "print(\"Hello World!\", 5+5)\n",
    "``` "
   ]
  },
  {
   "cell_type": "markdown",
   "id": "0a9e9e11-2940-418a-8e9c-e1df861aaf5c",
   "metadata": {
    "tags": [],
    "user_expressions": []
   },
   "source": [
    "where all we've done is separate the things we want by commas. As we'll later discuss, print() is what we call a **function** that can take any number of arguments (things inside the parantheses)."
   ]
  },
  {
   "cell_type": "markdown",
   "id": "b24295db-94dc-4b5c-b191-d4be53f97973",
   "metadata": {
    "tags": [],
    "user_expressions": []
   },
   "source": [
    ":::{admonition} Does the spacing and layout of the script file matter?\n",
    ":class: important\n",
    "**Yes and no**. In general, \"vertical\" spacing in Python does not matter - you can feel free to hit enter as many times between the lines in your .py file. The number of spaces within the middle of a line also doesn't matter, so print(5 + 5) yields the same result as print(5   &nbsp; &nbsp;  +  &nbsp; &nbsp; 5). However, *horizontal **aligment** does matter*. Lines should generally all start at the same left-justification, unless you are working with if statements, loops, or creating your own functions (more on each of those later). Let's try to write a very simple code to demonstrate this.\n",
    ":::\n"
   ]
  },
  {
   "cell_type": "markdown",
   "id": "ace4de7f-8245-415c-b7b5-5d765ceebf9a",
   "metadata": {
    "tags": [],
    "user_expressions": []
   },
   "source": [
    ":::{admonition} Exercise Two: Testing Python Spacing Rules\n",
    ":class: tip\n",
    "In your first_codes.py file, add a tab or some spaces before the start of the second line:\n",
    "\n",
    "```{code-block} python\n",
    "print(\"Hello World!\")\n",
    "    print(5+5)\n",
    "``` \n",
    "\n",
    ":::"
   ]
  },
  {
   "cell_type": "markdown",
   "id": "995068b2-e7f6-4b64-b336-08d9b77044be",
   "metadata": {
    "tags": [],
    "user_expressions": []
   },
   "source": [
    "When you try to run this script, you should find that \"Hello World\" does *not* print. Instead, you will get an IndentationError - telling you that Python expected the second line to be left-aligned with the first line. You might wonder: why does the first line not work, even if the error is on the second line?"
   ]
  },
  {
   "cell_type": "markdown",
   "id": "1a7e43a7-1f6f-4607-baef-cb7eecf290be",
   "metadata": {
    "tags": [],
    "user_expressions": []
   },
   "source": [
    "The short answer is that Python does a quick check before running your code to see if there any obvious bugs. This procedure is not quite as robust as in some other programming languages, and it won't catch things like DivideByZero errors, infinite loops, etc. However, it will raise an immediate error if it seems things like unusual spacing or undefined variables (more on the latter in the next notebook).  Thus, for the example above, the error is raised *before* the first line of code is actually run, breaking the program flow. "
   ]
  },
  {
   "cell_type": "markdown",
   "id": "955893a6-0838-429d-9a57-f689aa15f203",
   "metadata": {
    "tags": [],
    "user_expressions": []
   },
   "source": [
    "## What if we want to store information between lines?"
   ]
  },
  {
   "cell_type": "markdown",
   "id": "5f144e78-12b2-4de7-8885-956b8a1e9fe1",
   "metadata": {
    "tags": [],
    "user_expressions": []
   },
   "source": [
    "Thus far, we've only done a very simple set of computations and immediately printed the result. What if we instead wanted to store the result of that calculation for later? In that case, we will want to define a **variable**. It's best to see this by example:"
   ]
  },
  {
   "cell_type": "markdown",
   "id": "3364309f-769b-4695-bf68-1e4c5ec4dcaf",
   "metadata": {
    "tags": [],
    "user_expressions": []
   },
   "source": [
    "```{code-block} python\n",
    "result = 5 + 5 \n",
    "print(result)\n",
    "``` "
   ]
  },
  {
   "cell_type": "markdown",
   "id": "15fe31c2-e3ac-4589-af69-911ef5acef61",
   "metadata": {
    "tags": [],
    "user_expressions": []
   },
   "source": [
    "Here, we have stored the result of the 5+5 . We could have named \"result\" anything we wanted - you're free to choose the name (within certain rules - e.g., t can't start with a number). In this context, the = sign acts as a so-called \"assignment operator\": it takes whatever is on the righthand side and stores it in whatever we have called the variable on the lefthand side. It has nothing to do with equalities or truth/falsity. "
   ]
  },
  {
   "cell_type": "markdown",
   "id": "e650bb63-94be-41b3-9d44-786733a1f473",
   "metadata": {
    "tags": [],
    "user_expressions": []
   },
   "source": [
    "We now have everything we need to write our first **useful** Python program. Let's use an example from astrophysics:"
   ]
  },
  {
   "cell_type": "markdown",
   "id": "829727d9-91c9-4ee5-a4bd-c4501c274601",
   "metadata": {
    "tags": [],
    "user_expressions": []
   },
   "source": [
    ":::{admonition} Exercise Three: The Stefan-Boltzmann Law\n",
    ":class: tip\n",
    "\n",
    "Create a new code file called \"SB.py\". Within SB.py, write the necessary code to calculate the Luminosity (L) of a star according to the Stefan-Boltzmann law,\n",
    "$$ L = 4\\pi R^2 \\sigma T^4$$\n",
    "\n",
    "In doing so, define a unique variable for each of L, pi, sigma, R, and T (where the latter are radius and temperature); don't just put the computation in a print statement. Using pi = $3.14$ and sigma = $5.67 * 10^{-8} \\rm \\ W/m^{2}/K^{4}$, \n",
    "what is the luminosity of a star with $R = 7 * 10^8$ meters and $T = 5776$ K? You can assume the units work out (and therefore you can ignore them in Python). **Hint**: use the ** to use powers in Python, e.g., 2 ** 3 will give you 8.\n",
    "\n",
    "\n",
    "Print $L$ and compare your value to the Solar luminosity, $3.8 * 10^{26}$ Watts. Is your value greater, less than, or equal to the Solar luminosity?\n",
    "\n",
    "\n",
    "\n",
    ":::"
   ]
  }
 ],
 "metadata": {
  "kernelspec": {
   "display_name": "Python 3",
   "language": "python",
   "name": "python3"
  },
  "language_info": {
   "codemirror_mode": {
    "name": "ipython",
    "version": 3
   },
   "file_extension": ".py",
   "mimetype": "text/x-python",
   "name": "python",
   "nbconvert_exporter": "python",
   "pygments_lexer": "ipython3",
   "version": "3.7.16"
  }
 },
 "nbformat": 4,
 "nbformat_minor": 5
}
