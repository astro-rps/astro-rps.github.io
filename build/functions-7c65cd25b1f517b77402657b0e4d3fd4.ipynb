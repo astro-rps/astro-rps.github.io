{
 "cells": [
  {
   "cell_type": "markdown",
   "metadata": {
    "editable": true,
    "slideshow": {
     "slide_type": "slide"
    },
    "tags": []
   },
   "source": [
    "# Functions in Python"
   ]
  },
  {
   "cell_type": "markdown",
   "metadata": {
    "editable": true,
    "slideshow": {
     "slide_type": "slide"
    },
    "tags": []
   },
   "source": [
    "Functions in programming languages work the say way as in mathematics. For example, you will be familiar with trigonometric functions:\n",
    "\n",
    "$$\n",
    "f(x) = sin(x)\n",
    "$$"
   ]
  },
  {
   "cell_type": "markdown",
   "metadata": {},
   "source": [
    "In this case, we have some `function`, $f$, which has parenthesis defining its arguments (in this case, `x`). In this case, we are returning $sin(x)$, though we could have constructed an arbitrary function of other functions, e.g., $f(x) = sin(x)cos^2(x)$."
   ]
  },
  {
   "cell_type": "markdown",
   "metadata": {
    "editable": true,
    "slideshow": {
     "slide_type": "slide"
    },
    "tags": []
   },
   "source": [
    ":::{note}\n",
    "As a reminder, we are already *using* functions in Python all the time --- we are simply using functions built into the language, such as the `list()` function to generate a list, or the `np.min()` function to return the minimum value from some collection. \n",
    ":::"
   ]
  },
  {
   "cell_type": "markdown",
   "metadata": {
    "editable": true,
    "slideshow": {
     "slide_type": "slide"
    },
    "tags": []
   },
   "source": [
    "Now let's define a Python function. Let's make a function that returns the combination of `sin` and `cos` squared above."
   ]
  },
  {
   "cell_type": "code",
   "execution_count": 4,
   "metadata": {},
   "outputs": [],
   "source": [
    "import numpy as np\n",
    "def f(x):\n",
    "    answer = np.sin(x)*np.cos(x)**2 \n",
    "    return answer"
   ]
  },
  {
   "cell_type": "markdown",
   "metadata": {
    "editable": true,
    "slideshow": {
     "slide_type": "slide"
    },
    "tags": []
   },
   "source": [
    "Here we are using the special Python `reserved` word `def` to define the name of the function (here `f`), and in parenthesis, we add the `arguments` to the function (here `x`). We end the line in a colon (much like a loop). "
   ]
  },
  {
   "cell_type": "markdown",
   "metadata": {
    "editable": true,
    "slideshow": {
     "slide_type": "slide"
    },
    "tags": []
   },
   "source": [
    "\"Inside\" the function, we indent our code (four spaces or a tab) and then place any computations we want to carry out. Here, we compute `answer` to be the multiplication of our two trig functions.\n",
    "\n",
    "Finally, we use the reserved word `return` to \"return\" this answer from the inside of the function back out into the rest of our code.\n",
    "\n",
    "```{note}\n",
    "This has to do with something called _scope_, which we will get to shortly\n",
    "```"
   ]
  },
  {
   "cell_type": "markdown",
   "metadata": {
    "editable": true,
    "slideshow": {
     "slide_type": "slide"
    },
    "tags": []
   },
   "source": [
    "To *use* our function, we simply call it:"
   ]
  },
  {
   "cell_type": "code",
   "execution_count": 5,
   "metadata": {},
   "outputs": [
    {
     "name": "stdout",
     "output_type": "stream",
     "text": [
      "0.3692301313020644\n"
     ]
    }
   ],
   "source": [
    "returned_answer = f(0.5)\n",
    "print(returned_answer)"
   ]
  },
  {
   "cell_type": "markdown",
   "metadata": {
    "editable": true,
    "slideshow": {
     "slide_type": "slide"
    },
    "tags": []
   },
   "source": [
    "As we can see, the `answer` from the function gets stored in the variable `returned_answer` as the output of the function. This should look familiar to how you call any Python function (including those imported from libraries, though they may be prepended with the library name, e.g., `np.function()`).\n",
    "\n",
    ":::{note}\n",
    "While we first compute `answer` in the function, then return it, we could have simply returned the calculation (as it was one line), e.g., \n",
    "```python\n",
    "def f(x):\n",
    "    return np.sin(x)*np.cos(x)**2\n",
    "```\n",
    ":::"
   ]
  },
  {
   "cell_type": "markdown",
   "metadata": {
    "editable": true,
    "slideshow": {
     "slide_type": "slide"
    },
    "tags": []
   },
   "source": [
    "## Scope "
   ]
  },
  {
   "cell_type": "markdown",
   "metadata": {
    "editable": true,
    "slideshow": {
     "slide_type": "slide"
    },
    "tags": []
   },
   "source": [
    "Functions are useful for many reasons. To list some obvious ones, they allow a calculation to be encapsulated and the code *reused*. If we need the output of that multiplication many times in our code, we can call `f(x)` instead of writing out `np.sin(x)*np.cos(x)**2`. Now in this case, that's not so bad --- but we can write functions with many more steps (lines of code)."
   ]
  },
  {
   "cell_type": "markdown",
   "metadata": {
    "editable": true,
    "slideshow": {
     "slide_type": "slide"
    },
    "tags": []
   },
   "source": [
    "Beyond that, functions are useful due to their `local scope`. What does that mean?\n",
    "\n",
    "So far, when we have written scripts in python, we define `variables` directly on lines of the file (or in the interpreter). At any later time, we can *access* those variables via their names. "
   ]
  },
  {
   "cell_type": "markdown",
   "metadata": {
    "editable": true,
    "slideshow": {
     "slide_type": "slide"
    },
    "tags": []
   },
   "source": [
    ":::{warning} Exercise\n",
    "Try running `print(answer)`, to get the value of the variable we defined in our function.\n",
    ":::"
   ]
  },
  {
   "cell_type": "markdown",
   "metadata": {
    "editable": true,
    "slideshow": {
     "slide_type": "slide"
    },
    "tags": []
   },
   "source": [
    "You should find that we can't!"
   ]
  },
  {
   "cell_type": "code",
   "execution_count": 2,
   "metadata": {},
   "outputs": [
    {
     "ename": "NameError",
     "evalue": "name 'answer' is not defined",
     "output_type": "error",
     "traceback": [
      "\u001b[0;31m---------------------------------------------------------------------------\u001b[0m",
      "\u001b[0;31mNameError\u001b[0m                                 Traceback (most recent call last)",
      "Cell \u001b[0;32mIn[2], line 1\u001b[0m\n\u001b[0;32m----> 1\u001b[0m \u001b[38;5;28mprint\u001b[39m(\u001b[43manswer\u001b[49m)\n",
      "\u001b[0;31mNameError\u001b[0m: name 'answer' is not defined"
     ]
    }
   ],
   "source": [
    "print(answer)"
   ]
  },
  {
   "cell_type": "markdown",
   "metadata": {
    "editable": true,
    "slideshow": {
     "slide_type": "slide"
    },
    "tags": []
   },
   "source": [
    "The reason `answer` is not defined is because any variable defined *inside* a function is local *only to that function*. You can think of it like an automotive assembly line at a factory. Raw materials (the `arguments`) enter at one end, the factory uses a set of screws, bolts, etc., to build the car, and the final car is `returned`. We are not concerned with the steps that happened inside the factory, and those variables (like tools) are reused every time the function is called.  "
   ]
  },
  {
   "cell_type": "markdown",
   "metadata": {
    "editable": true,
    "slideshow": {
     "slide_type": "slide"
    },
    "tags": []
   },
   "source": [
    "More formally, Python defines several levels of `scope`. Scope defines where a variable is allocated and accessible. Variables made in a Python script are in the scope of that module. When you `run` that script, your interpreter can access any variable you made in the script."
   ]
  },
  {
   "cell_type": "code",
   "execution_count": 3,
   "metadata": {
    "editable": true,
    "slideshow": {
     "slide_type": "slide"
    },
    "tags": []
   },
   "outputs": [],
   "source": [
    "a = 10 \n",
    "b = 20"
   ]
  },
  {
   "cell_type": "code",
   "execution_count": 4,
   "metadata": {},
   "outputs": [
    {
     "name": "stdout",
     "output_type": "stream",
     "text": [
      "10\n",
      "20\n"
     ]
    }
   ],
   "source": [
    "print(a)\n",
    "print(b)"
   ]
  },
  {
   "cell_type": "markdown",
   "metadata": {
    "editable": true,
    "slideshow": {
     "slide_type": "slide"
    },
    "tags": []
   },
   "source": [
    "Functions define their own `local scope`, which is limited just to the function. Variables made there only \"exist\" inside the function. That said, a function *can* retrieve variables from a *larger* scope:"
   ]
  },
  {
   "cell_type": "code",
   "execution_count": 7,
   "metadata": {
    "editable": true,
    "slideshow": {
     "slide_type": "slide"
    },
    "tags": []
   },
   "outputs": [
    {
     "name": "stdout",
     "output_type": "stream",
     "text": [
      "20\n"
     ]
    }
   ],
   "source": [
    "a = 10 \n",
    "def f(x):\n",
    "    return a + x\n",
    "\n",
    "print(f(10))"
   ]
  },
  {
   "cell_type": "markdown",
   "metadata": {
    "editable": true,
    "slideshow": {
     "slide_type": "slide"
    },
    "tags": []
   },
   "source": [
    ":::{danger} \n",
    "It is generally considered *bad practice* to use variables from a larger scope than the function within a function. Think about it: Functions are beneficial because they are self-contained units of callable code. We should be able to, for example, copy and paste our function into a different file and use it there. If the function relies explictly on variables outside the function, we can't do this.\n",
    ":::"
   ]
  },
  {
   "cell_type": "markdown",
   "metadata": {
    "editable": true,
    "slideshow": {
     "slide_type": "slide"
    },
    "tags": []
   },
   "source": [
    "## Type Annotations and Docstrings"
   ]
  },
  {
   "cell_type": "markdown",
   "metadata": {
    "editable": true,
    "slideshow": {
     "slide_type": "slide"
    },
    "tags": []
   },
   "source": [
    "So far, we've defined our functions minimally. But there are two steps we can take to make our functions better *documented*. Documentation is extremely important in code; we've covered comments, and this is the next step for making clear the behavior of our code. Let's start with a new, slightly more complex function:"
   ]
  },
  {
   "cell_type": "code",
   "execution_count": 40,
   "metadata": {
    "editable": true,
    "slideshow": {
     "slide_type": "slide"
    },
    "tags": []
   },
   "outputs": [],
   "source": [
    "def kepler_period(sma_au):\n",
    "    return np.sqrt(sma_au**3/7.496e-6)"
   ]
  },
  {
   "cell_type": "code",
   "execution_count": 41,
   "metadata": {},
   "outputs": [
    {
     "data": {
      "text/plain": [
       "365.2457835357012"
      ]
     },
     "execution_count": 41,
     "metadata": {},
     "output_type": "execute_result"
    }
   ],
   "source": [
    "kepler_period(1) #should give earth's year in days!"
   ]
  },
  {
   "cell_type": "markdown",
   "metadata": {
    "editable": true,
    "slideshow": {
     "slide_type": "slide"
    },
    "tags": []
   },
   "source": [
    "Technically, this function is already more documented than our previous functions, because its *name* and *arguments* are clearer in defining what they should be. But we can do more. First, we will `annotate` the arguments:"
   ]
  },
  {
   "cell_type": "code",
   "execution_count": 42,
   "metadata": {
    "editable": true,
    "slideshow": {
     "slide_type": "slide"
    },
    "tags": []
   },
   "outputs": [],
   "source": [
    "def kepler_period(sma_au:float)->float: \n",
    "    return np.sqrt(sma_au**3/7.496e-6)"
   ]
  },
  {
   "cell_type": "markdown",
   "metadata": {
    "editable": true,
    "slideshow": {
     "slide_type": "slide"
    },
    "tags": []
   },
   "source": [
    "We add a colon to each argument and specify the `type` (for example, `float`, `int`, `str`, `dict`), and at the end, we use an arrow (->) to indicate the return type of the function, before the final colon.\n",
    "\n",
    ":::{warning}\n",
    "By default, Python does not *enforce* on execution that your inputs to functions match their type annotations. But external packages (like `mypy` or `pydantic`) can be used with your code to do this. \n",
    ":::"
   ]
  },
  {
   "cell_type": "markdown",
   "metadata": {
    "editable": true,
    "slideshow": {
     "slide_type": "slide"
    },
    "tags": []
   },
   "source": [
    "We'll return to deeper questions about type annotations later (e.g., what if multiple types are acceptable?) \n",
    "\n",
    "For now, let's add a `docstring` --- this is a specialized string within our function which can be used to verbose-ly define its arguments and returns. "
   ]
  },
  {
   "cell_type": "code",
   "execution_count": 43,
   "metadata": {
    "editable": true,
    "slideshow": {
     "slide_type": "slide"
    },
    "tags": []
   },
   "outputs": [],
   "source": [
    "def kepler_period(sma_au:float)->float: \n",
    "    \"\"\"\n",
    "    Returns the orbital period (in days) for solar system bodies given their semimajor axis length (in AU).\n",
    "\n",
    "    Parameters\n",
    "    ----------\n",
    "    sma_au: float\n",
    "        body's semimajor axis (sma) in AU units \n",
    "    \n",
    "    Returns\n",
    "    -------\n",
    "    period: float\n",
    "        the orbital period (in days). \n",
    "    \"\"\"\n",
    "    return np.sqrt(distance_au**3/7.496e-6)"
   ]
  },
  {
   "cell_type": "markdown",
   "metadata": {
    "editable": true,
    "slideshow": {
     "slide_type": "slide"
    },
    "tags": []
   },
   "source": [
    "The docstring, defined with triple quotes (which allows multiline strings) now gives a sentence-long description of the function, defines the arguments and returns, and their data types, as well as notating optional arguments and indicating their default values. For a one line function, this is a bit overkill, but for functions you write for your research, it can be very useful to have good documentation. We can see the documentation for *any* Python function via the `help()` function: "
   ]
  },
  {
   "cell_type": "code",
   "execution_count": 44,
   "metadata": {
    "editable": true,
    "slideshow": {
     "slide_type": "slide"
    },
    "tags": []
   },
   "outputs": [
    {
     "name": "stdout",
     "output_type": "stream",
     "text": [
      "Help on function kepler_period in module __main__:\n",
      "\n",
      "kepler_period(sma_au: float) -> float\n",
      "    Returns the orbital period (in days) for solar system bodies given their semimajor axis length (in AU).\n",
      "    \n",
      "    Parameters\n",
      "    ----------\n",
      "    sma_au: float\n",
      "        body's semimajor axis (sma) in AU units \n",
      "    \n",
      "    Returns\n",
      "    -------\n",
      "    period: float\n",
      "        the orbital period (in days).\n",
      "\n"
     ]
    }
   ],
   "source": [
    "help(kepler_period)"
   ]
  },
  {
   "cell_type": "markdown",
   "metadata": {
    "editable": true,
    "slideshow": {
     "slide_type": "slide"
    },
    "tags": []
   },
   "source": [
    "There's even more we can add. For example, the docstring for any `numpy` function will be *very* verbose:"
   ]
  },
  {
   "cell_type": "code",
   "execution_count": 15,
   "metadata": {},
   "outputs": [
    {
     "name": "stdout",
     "output_type": "stream",
     "text": [
      "Help on _ArrayFunctionDispatcher in module numpy:\n",
      "\n",
      "argmax(a, axis=None, out=None, *, keepdims=<no value>)\n",
      "    Returns the indices of the maximum values along an axis.\n",
      "    \n",
      "    Parameters\n",
      "    ----------\n",
      "    a : array_like\n",
      "        Input array.\n",
      "    axis : int, optional\n",
      "        By default, the index is into the flattened array, otherwise\n",
      "        along the specified axis.\n",
      "    out : array, optional\n",
      "        If provided, the result will be inserted into this array. It should\n",
      "        be of the appropriate shape and dtype.\n",
      "    keepdims : bool, optional\n",
      "        If this is set to True, the axes which are reduced are left\n",
      "        in the result as dimensions with size one. With this option,\n",
      "        the result will broadcast correctly against the array.\n",
      "    \n",
      "        .. versionadded:: 1.22.0\n",
      "    \n",
      "    Returns\n",
      "    -------\n",
      "    index_array : ndarray of ints\n",
      "        Array of indices into the array. It has the same shape as `a.shape`\n",
      "        with the dimension along `axis` removed. If `keepdims` is set to True,\n",
      "        then the size of `axis` will be 1 with the resulting array having same\n",
      "        shape as `a.shape`.\n",
      "    \n",
      "    See Also\n",
      "    --------\n",
      "    ndarray.argmax, argmin\n",
      "    amax : The maximum value along a given axis.\n",
      "    unravel_index : Convert a flat index into an index tuple.\n",
      "    take_along_axis : Apply ``np.expand_dims(index_array, axis)``\n",
      "                      from argmax to an array as if by calling max.\n",
      "    \n",
      "    Notes\n",
      "    -----\n",
      "    In case of multiple occurrences of the maximum values, the indices\n",
      "    corresponding to the first occurrence are returned.\n",
      "    \n",
      "    Examples\n",
      "    --------\n",
      "    >>> a = np.arange(6).reshape(2,3) + 10\n",
      "    >>> a\n",
      "    array([[10, 11, 12],\n",
      "           [13, 14, 15]])\n",
      "    >>> np.argmax(a)\n",
      "    5\n",
      "    >>> np.argmax(a, axis=0)\n",
      "    array([1, 1, 1])\n",
      "    >>> np.argmax(a, axis=1)\n",
      "    array([2, 2])\n",
      "    \n",
      "    Indexes of the maximal elements of a N-dimensional array:\n",
      "    \n",
      "    >>> ind = np.unravel_index(np.argmax(a, axis=None), a.shape)\n",
      "    >>> ind\n",
      "    (1, 2)\n",
      "    >>> a[ind]\n",
      "    15\n",
      "    \n",
      "    >>> b = np.arange(6)\n",
      "    >>> b[1] = 5\n",
      "    >>> b\n",
      "    array([0, 5, 2, 3, 4, 5])\n",
      "    >>> np.argmax(b)  # Only the first occurrence is returned.\n",
      "    1\n",
      "    \n",
      "    >>> x = np.array([[4,2,3], [1,0,3]])\n",
      "    >>> index_array = np.argmax(x, axis=-1)\n",
      "    >>> # Same as np.amax(x, axis=-1, keepdims=True)\n",
      "    >>> np.take_along_axis(x, np.expand_dims(index_array, axis=-1), axis=-1)\n",
      "    array([[4],\n",
      "           [3]])\n",
      "    >>> # Same as np.amax(x, axis=-1)\n",
      "    >>> np.take_along_axis(x, np.expand_dims(index_array, axis=-1), axis=-1).squeeze(axis=-1)\n",
      "    array([4, 3])\n",
      "    \n",
      "    Setting `keepdims` to `True`,\n",
      "    \n",
      "    >>> x = np.arange(24).reshape((2, 3, 4))\n",
      "    >>> res = np.argmax(x, axis=1, keepdims=True)\n",
      "    >>> res.shape\n",
      "    (2, 1, 4)\n",
      "\n"
     ]
    }
   ],
   "source": [
    "import numpy as np\n",
    "help(np.argmax)"
   ]
  },
  {
   "cell_type": "markdown",
   "metadata": {
    "editable": true,
    "slideshow": {
     "slide_type": "slide"
    },
    "tags": []
   },
   "source": [
    "You can see the formatting is the same, but there are extra sections. You are welcome to add these to your own functions, but that is likely not neccesary until you begin distributing your code to others to use. "
   ]
  },
  {
   "cell_type": "markdown",
   "metadata": {
    "editable": true,
    "slideshow": {
     "slide_type": "slide"
    },
    "tags": []
   },
   "source": [
    "## Optional Arguments "
   ]
  },
  {
   "cell_type": "markdown",
   "metadata": {
    "editable": true,
    "slideshow": {
     "slide_type": "slide"
    },
    "tags": []
   },
   "source": [
    "Thus far, our kepler function has only one argument: the semimajor axis. This is possible because we use the constant slope derived for kepler's laws that is specific to *our* solar system (depends on the Sun's mass) and *our* universe (depends on the magnitude of the gravitational constant $G$). "
   ]
  },
  {
   "cell_type": "markdown",
   "metadata": {
    "editable": true,
    "slideshow": {
     "slide_type": "slide"
    },
    "tags": []
   },
   "source": [
    "The formula itself for Kepler's third law is \n",
    "\n",
    "$$\n",
    "\\frac{a^3}{P^2} = \\frac{G(M+m)}{4\\pi^2} \\approx \\frac{GM}{4\\pi^2}\n",
    "$$\n",
    "\n",
    "Let's implement this in our function, but *not* require the user to supply $M$ and $G$ by default:"
   ]
  },
  {
   "cell_type": "code",
   "execution_count": 49,
   "metadata": {
    "editable": true,
    "slideshow": {
     "slide_type": "slide"
    },
    "tags": []
   },
   "outputs": [],
   "source": [
    "def kepler_period(sma_au:float,\n",
    "                  star_mass: float = 1.989e+30,\n",
    "                  G: float = 6.674e-11)->float: \n",
    "    \"\"\"\n",
    "    Returns the orbital period (in days) for solar system bodies given their semimajor axis length (in AU).\n",
    "\n",
    "    Parameters\n",
    "    ----------\n",
    "    sma_au: float\n",
    "        body's semimajor axis (sma) in AU units \n",
    "    star_mass: float, optional\n",
    "        mass of the stellar (dominating) body, in kg, default 1.989e30 (sun's mass)\n",
    "    G: float, optional\n",
    "        gravitational constant in SI units, default 6.674e-11\n",
    "    Returns\n",
    "    -------\n",
    "    period: float\n",
    "        the orbital period (in days). \n",
    "    \"\"\"\n",
    "    sma_meters = 1.496e+11 * sma_au \n",
    "    P_squared = (4*np.pi**2*sma_meters**3)/(G*star_mass)\n",
    "    return np.sqrt(P_squared)*1.15741e-5"
   ]
  },
  {
   "cell_type": "markdown",
   "metadata": {
    "editable": true,
    "slideshow": {
     "slide_type": "slide"
    },
    "tags": []
   },
   "source": [
    "Let's test that our function can still work with *just* a `sma_au` provided (and of course that it is still correct!)"
   ]
  },
  {
   "cell_type": "code",
   "execution_count": 50,
   "metadata": {},
   "outputs": [
    {
     "data": {
      "text/plain": [
       "365.21953254318385"
      ]
     },
     "execution_count": 50,
     "metadata": {},
     "output_type": "execute_result"
    }
   ],
   "source": [
    "kepler_period(1)"
   ]
  },
  {
   "cell_type": "markdown",
   "metadata": {
    "editable": true,
    "slideshow": {
     "slide_type": "slide"
    },
    "tags": []
   },
   "source": [
    "With a bit of extra unit massaging (putting everything in SI units, then converting the end result from seconds to days), we see we get earth's period out accurately. However, if we wished, we could now start playing with solar system parameters:"
   ]
  },
  {
   "cell_type": "code",
   "execution_count": 51,
   "metadata": {
    "editable": true,
    "slideshow": {
     "slide_type": "slide"
    },
    "tags": []
   },
   "outputs": [
    {
     "data": {
      "text/plain": [
       "230.34902887820553"
      ]
     },
     "execution_count": 51,
     "metadata": {},
     "output_type": "execute_result"
    }
   ],
   "source": [
    "kepler_period(1,star_mass=5e30)"
   ]
  },
  {
   "cell_type": "markdown",
   "metadata": {
    "editable": true,
    "slideshow": {
     "slide_type": "slide"
    },
    "tags": []
   },
   "source": [
    "So if our sun were $5\\times10^{30}\\; \\rm kg$ rather than  $2\\times10^{30}\\; \\rm kg$, the earth's year would only be 230 days long.\n",
    "Notice that because `star_mass` is a non-positional argument, we had to give its name explicitly when adding it in. This is why optional arguments are also called `keyword` arguments --- we can give some, none, or all, and in any order (after the positional arguments)."
   ]
  },
  {
   "cell_type": "markdown",
   "metadata": {
    "editable": true,
    "slideshow": {
     "slide_type": "slide"
    },
    "tags": []
   },
   "source": [
    "\n",
    ":::{warning}\n",
    "When defining a function that has both `positional` (required) and optional arguments, the positional arguments must come first, Thus, \n",
    "```python\n",
    "def func(a,b,c=1,d=3):\n",
    "    ...\n",
    "```\n",
    "is legal, but \n",
    "```python\n",
    "def func(a=2,b,c,d):\n",
    "    ...\n",
    "```\n",
    "is not."
   ]
  },
  {
   "cell_type": "markdown",
   "metadata": {
    "editable": true,
    "slideshow": {
     "slide_type": "slide"
    },
    "tags": []
   },
   "source": [
    "As a (quick) preview of what is to come, here's that same function again, but I'll allow the `astropy` package to handle all the unit conversions for us:"
   ]
  },
  {
   "cell_type": "code",
   "execution_count": 53,
   "metadata": {
    "editable": true,
    "slideshow": {
     "slide_type": "slide"
    },
    "tags": []
   },
   "outputs": [],
   "source": [
    "import astropy.units as u \n",
    "import astropy.constants as ac\n",
    "def kepler_period(sma:u.Quantity,\n",
    "                  star_mass: u.Quantity = 1*u.Msun,\n",
    "                  G: u.Quantity = ac.G)->u.Quantity: \n",
    "    \"\"\"\n",
    "    Returns the orbital period (in days) for solar system bodies given their semimajor axis length in any length units.\n",
    "\n",
    "    Parameters\n",
    "    ----------\n",
    "    sma: u.Quantity\n",
    "        body's semimajor axis (sma) in any length units\n",
    "    star_mass: u.Quantity, optional\n",
    "        mass of the stellar (dominating) body, in any mass units\n",
    "    G: u.Quantity, optional\n",
    "        gravitational constant in any appropriate units.\n",
    "    Returns\n",
    "    -------\n",
    "    period: u.Quantity\n",
    "        the orbital period (in days). \n",
    "    \"\"\"\n",
    "    P_squared = (4*np.pi**2*sma**3)/(G*star_mass)\n",
    "    return np.sqrt(P_squared).to(u.day)"
   ]
  },
  {
   "cell_type": "code",
   "execution_count": 56,
   "metadata": {
    "editable": true,
    "slideshow": {
     "slide_type": "slide"
    },
    "tags": []
   },
   "outputs": [
    {
     "name": "stdout",
     "output_type": "stream",
     "text": [
      "785.9815854803609 d\n",
      "365.2568983840419 d\n"
     ]
    }
   ],
   "source": [
    "print(kepler_period(sma=2.1*u.AU, star_mass=2*u.Msun))\n",
    "print(kepler_period(sma=1*u.AU))"
   ]
  },
  {
   "cell_type": "markdown",
   "metadata": {
    "editable": true,
    "slideshow": {
     "slide_type": "slide"
    },
    "tags": []
   },
   "source": [
    "## Extra arguments and keyword arguments, Packing, and Unpacking"
   ]
  },
  {
   "cell_type": "markdown",
   "metadata": {
    "editable": true,
    "slideshow": {
     "slide_type": "slide"
    },
    "tags": []
   },
   "source": [
    "In some cases, it is useful to define a function which takes in an arbitrary set of arguments. \n",
    "For example, if the output of a previous function produces an unknown number of items, we may wish to admit all of them to the next function we call. "
   ]
  },
  {
   "cell_type": "markdown",
   "metadata": {
    "editable": true,
    "slideshow": {
     "slide_type": "slide"
    },
    "tags": []
   },
   "source": [
    "We will handle this using a Python technique known as *packing* (and *unpacking*). \n",
    "This is a special operation that allows iterables (e.g. `lists` or `dictionaries`) to be created from function argument lists, or to be turned *into* inputs to a function.\n",
    "\n",
    "Let's see an example:"
   ]
  },
  {
   "cell_type": "code",
   "execution_count": 25,
   "metadata": {
    "editable": true,
    "slideshow": {
     "slide_type": "slide"
    },
    "tags": []
   },
   "outputs": [
    {
     "data": {
      "text/plain": [
       "3.3010299956639813"
      ]
     },
     "execution_count": 25,
     "metadata": {},
     "output_type": "execute_result"
    }
   ],
   "source": [
    "args = [1,2,3]\n",
    "magnitude(*args)"
   ]
  },
  {
   "cell_type": "markdown",
   "metadata": {
    "editable": true,
    "slideshow": {
     "slide_type": "slide"
    },
    "tags": []
   },
   "source": [
    "What happened here? Our `magnitude()` function, recall, takes 3 inputs. But `args` is a single list. \n",
    "Under the hood, the asterisk in the function call tells Python to *unpack* the list and feed each value as a separate argument to the function, in order. "
   ]
  },
  {
   "cell_type": "markdown",
   "metadata": {
    "editable": true,
    "slideshow": {
     "slide_type": "slide"
    },
    "tags": []
   },
   "source": [
    "We can play a similar game with `dictionaries` --- here, we will need a double-asterisk:"
   ]
  },
  {
   "cell_type": "code",
   "execution_count": 28,
   "metadata": {
    "editable": true,
    "slideshow": {
     "slide_type": "slide"
    },
    "tags": []
   },
   "outputs": [
    {
     "data": {
      "text/plain": [
       "3.3010299956639813"
      ]
     },
     "execution_count": 28,
     "metadata": {},
     "output_type": "execute_result"
    }
   ],
   "source": [
    "kwargs = {'flux_1':1,'flux_2':2,'zeropoint':3}\n",
    "magnitude(**kwargs)"
   ]
  },
  {
   "cell_type": "markdown",
   "metadata": {
    "editable": true,
    "slideshow": {
     "slide_type": "slide"
    },
    "tags": []
   },
   "source": [
    "Essentially, `**kwargs` in the function call gets translated to `flux_1=1,flux_2=2,zeropoint=3`, as we would normally provide the function."
   ]
  },
  {
   "cell_type": "markdown",
   "metadata": {
    "editable": true,
    "slideshow": {
     "slide_type": "slide"
    },
    "tags": []
   },
   "source": [
    "These are examples of unpacking a single object into parts to feed into a function. What about the reverse? \n",
    "Let's start with an example:"
   ]
  },
  {
   "cell_type": "code",
   "execution_count": 32,
   "metadata": {
    "editable": true,
    "slideshow": {
     "slide_type": "slide"
    },
    "tags": []
   },
   "outputs": [],
   "source": [
    "def dist_from_parallax(*args):\n",
    "    \"\"\"Simple function to return distance (pc) from a parallax (in ''). \n",
    "    Takes any number of input parallaxes and returns a list of distances.\n",
    "    \"\"\"\n",
    "    return_list = []\n",
    "    for parallax in args:\n",
    "        return_list.append(1/parallax)\n",
    "    return return_list"
   ]
  },
  {
   "cell_type": "markdown",
   "metadata": {
    "editable": true,
    "slideshow": {
     "slide_type": "slide"
    },
    "tags": []
   },
   "source": [
    "When we use the asterisk operator in the *definition* of a functions arguments, we do the reverse of the unpacking above.\n",
    "Here, we take any inputs to the function (an arbitrary number of inputs), and *pack* them into a list we are calling `args`. \n",
    "That list `args` is available inside the function, where we loop over it to calculate distances from the inputs (assuming they are parallaxes)."
   ]
  },
  {
   "cell_type": "code",
   "execution_count": 30,
   "metadata": {
    "editable": true,
    "slideshow": {
     "slide_type": "slide"
    },
    "tags": []
   },
   "outputs": [
    {
     "data": {
      "text/plain": [
       "[1.0]"
      ]
     },
     "execution_count": 30,
     "metadata": {},
     "output_type": "execute_result"
    }
   ],
   "source": [
    "dist_from_parallax(1)"
   ]
  },
  {
   "cell_type": "code",
   "execution_count": 31,
   "metadata": {
    "editable": true,
    "slideshow": {
     "slide_type": ""
    },
    "tags": []
   },
   "outputs": [
    {
     "data": {
      "text/plain": [
       "[0.625, 0.2222222222222222, 0.3125, 0.13157894736842105, 0.09900990099009901]"
      ]
     },
     "execution_count": 31,
     "metadata": {},
     "output_type": "execute_result"
    }
   ],
   "source": [
    "dist_from_parallax(1.6,4.5,3.2,7.6,10.1)"
   ]
  },
  {
   "cell_type": "markdown",
   "metadata": {
    "editable": true,
    "slideshow": {
     "slide_type": "slide"
    },
    "tags": []
   },
   "source": [
    ":::{note}\n",
    "In practice, it would probably better to write this function to expect a single iterable (`list` or `array`), and to do the calculation in a vectorized way.\n",
    ":::"
   ]
  },
  {
   "cell_type": "markdown",
   "metadata": {
    "editable": true,
    "slideshow": {
     "slide_type": "slide"
    },
    "tags": []
   },
   "source": [
    "We can play the same game with keyword arguments (i.e., *pack* extra arguments given with names (like `star_mass=10*u.Msun`) into a dictionary accessible in the function.\n",
    "Here I'll use an example more typical --- adding `kwargs` to a function that already has some arguments."
   ]
  },
  {
   "cell_type": "code",
   "execution_count": 57,
   "metadata": {
    "editable": true,
    "slideshow": {
     "slide_type": "slide"
    },
    "tags": []
   },
   "outputs": [],
   "source": [
    "def get_solarsystem_periods(semi_major_axes:list,**kwargs)->list:\n",
    "    periods = []\n",
    "    for i in semi_major_axes:\n",
    "        periods.append(kepler_period(i,**kwargs))\n",
    "    return periods"
   ]
  },
  {
   "cell_type": "markdown",
   "metadata": {
    "editable": true,
    "slideshow": {
     "slide_type": "slide"
    },
    "tags": []
   },
   "source": [
    "Here, I've made what a coder would call a `wrapper`. This function's goal is to get the periods for a list of input semimajor axes (i.e., feed in the sma for Mercury, Venus, Earth,...), then spit out a list with all the periods. \n",
    "\n",
    "We know that our `kepler_period()` function needs that one input (here, fed in from the loop as `i`), but that it *can* take extra parameters for the star mass and gravitational constant. Instead of making those *explicit* arguments of our wrapper, we can use `**kwargs` to tell it to take any extra arguments and make a dictionary out of them.  "
   ]
  },
  {
   "cell_type": "markdown",
   "metadata": {
    "editable": true,
    "slideshow": {
     "slide_type": "slide"
    },
    "tags": []
   },
   "source": [
    "Inside our function, there is now a variable called `kwargs` which is a dictionary. We *could* do stuff with it here, if we desired. But I simply pass it into our internal call to `kepler_period()`. Note that I use the `**` operator *again*, now to *unpack* that dictionary back into functional arguments. "
   ]
  },
  {
   "cell_type": "markdown",
   "metadata": {
    "editable": true,
    "slideshow": {
     "slide_type": "slide"
    },
    "tags": []
   },
   "source": [
    ":::{warning}\n",
    "Can you see a way this could currently go wrong? There is a circumstance when passing kwargs to our wrapper that will generate an error.\n",
    ":::\n",
    ":::{warning} See Answer\n",
    ":class: dropdown\n",
    "Because `kepler_period()` does not accept arbitrary kwargs, if we ran `get_solar_system_periods([1*u.AU,2*u.AU],star_mass=10*u.Msun,bad_arg=10)`, we would get an error because `bad_arg` would be passed to `kepler_period()` which does not have that argument defined. \n",
    "\n",
    "We could stay safe from this by adding `**kwargs` as an argument to `kepler_period()`, then any proper (defined) kwargs would be caught, and extra ones would get shoved into a dictionary that could be safely ignored.\n",
    ":::"
   ]
  },
  {
   "cell_type": "markdown",
   "metadata": {
    "slideshow": {
     "slide_type": "slide"
    },
    "tags": []
   },
   "source": [
    "## Summary"
   ]
  },
  {
   "cell_type": "markdown",
   "metadata": {
    "slideshow": {
     "slide_type": "slide"
    },
    "tags": []
   },
   "source": [
    "### Summary\n",
    "\n",
    "- `Functions` allow us to encapsulate short (ish), general tasks into a clean, easy to debug framework\n",
    "- Because of their local scope, we can be sure all variables passed through are treated the same way \n",
    "- Functions take arguments, including required (positional) and optional (keyword) ones. \n",
    "- One can use `*args` and `**kwargs` to allow arbitrary inputs, or to unpack `lists` and `dicts` into function calls"
   ]
  }
 ],
 "metadata": {
  "kernelspec": {
   "display_name": "Python 3 (ipykernel)",
   "language": "python",
   "name": "python3"
  },
  "language_info": {
   "codemirror_mode": {
    "name": "ipython",
    "version": 3
   },
   "file_extension": ".py",
   "mimetype": "text/x-python",
   "name": "python",
   "nbconvert_exporter": "python",
   "pygments_lexer": "ipython3",
   "version": "3.11.6"
  }
 },
 "nbformat": 4,
 "nbformat_minor": 4
}
