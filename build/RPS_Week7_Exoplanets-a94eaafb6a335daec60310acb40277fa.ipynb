{
 "cells": [
  {
   "cell_type": "markdown",
   "id": "89baa8c6-9264-4e95-bdfc-1d71eb67f9fb",
   "metadata": {},
   "source": [
    "# Astro-RPS Week 7 Lab:  Exploring the Diversity of Known Exoplanets"
   ]
  },
  {
   "attachments": {},
   "cell_type": "markdown",
   "id": "32d159ac-c0b3-482e-962c-f8a326c7d535",
   "metadata": {},
   "source": [
    "A classic figure often seen in exoplanet research is the mass-separation plot for known exoplanets color-coded according to their detection method. One version of this figure is shown here: \n",
    "\n",
    "![](Mass-separation-plot-for-known-exoplanets-color-coded-according-to-their-detection.png)"
   ]
  },
  {
   "cell_type": "markdown",
   "id": "b1d2f2c6-307e-4611-a9fa-57fa6de1da5d",
   "metadata": {},
   "source": [
    "The x-axis of this figure shows the mass of the planet on a log scale, typically measured in Jupiter masses (where 1 Jupiter mass equals approximately 1.898 × 10^27 kg). The y-axis, also on a log scale, represents the planet-star separation distance, often expressed in astronomical units (AU), with 1 AU equivalent to the average distance between the Earth and the Sun (approximately 149.6 million kilometers). Each data point plotted signifies an individual exoplanet, and the color coding of the data points corresponds to the method employed for exoplanet detection."
   ]
  },
  {
   "cell_type": "markdown",
   "id": "5a144e41-31aa-4561-8142-e5461aa6b553",
   "metadata": {},
   "source": [
    "Here are a few brief descriptions of how the four listed detection methods work:\n",
    "\n",
    "1. **Transit Method**: In this technique, exoplanets are detected by observing the periodic dimming of a star's light as a planet passes in front of it (transits) from our line of sight. By measuring the decrease in brightness during transit events, astronomers can infer the presence and characteristics of orbiting planets.\n",
    "\n",
    "2. **Radial Velocity Method**: This method detects exoplanets by measuring the small periodic shifts in the star's radial velocity caused by the gravitational pull of an orbiting planet. As the planet orbits the star, it causes the star to wobble slightly, which can be detected through Doppler spectroscopy.\n",
    "\n",
    "3. **Microlensing**: Exoplanets can be detected through gravitational microlensing, where the gravitational field of a foreground star bends and magnifies the light of a background star as well as any orbiting planets. The presence of an exoplanet around the foreground star can be inferred from the temporary increase in brightness observed during the microlensing event.\n",
    "\n",
    "4. **Transit Timing Variations (TTV)**: TTV detects exoplanets by measuring the variations in the timing of transit events caused by gravitational interactions between multiple planets within a system. These deviations from the expected transit times provide information about the masses and orbits of the interacting planets.\n",
    "\n",
    "In addition to these four, there are a number of other methods of detecting planets (such as direct imaging)! \n",
    "\n",
    "This figure illustrates how different detection methods have been more/less successful in finding certain types of exoplanets, revealing biases or limitations in the different detection techniques."
   ]
  },
  {
   "cell_type": "markdown",
   "id": "d14c6eaa-2170-42dd-8ffd-bcefa9b77b1b",
   "metadata": {
    "tags": []
   },
   "source": [
    ":::{admonition} Exercise 1: Recreating the Classic Mass-Distance Plot\n",
    ":class: tip\n",
    "\n",
    "1. Download the full catalog of known exoplanet properties from the NASA Exoplanet Archive. Navigate to the Data Page of https://exoplanetarchive.ipac.caltech.edu/ , then to the \"Confirmed Planetary Systems\" link. Hit Download Table --> download as csv.\n",
    "2. Within a Jupyter notebook, load the table you just downloaded into a Pandas dataframe.\n",
    "3. Using the \"np.unique\" function in numpy applied to your dataframe, figure out all the possible exoplanet discovery methods report in this table (note: as mentioned above the four methods shown in the provided figure are not the only possible methods)!\n",
    "4. Try to recreate the figure shown above using the same units, axis scaling (logarithmic scale), and labels/legend! To do this, filter your pandas dataframe by each discovery method and use different calls to plt.scatter() to plot them in stylistically distinct ways. \n"
   ]
  },
  {
   "cell_type": "markdown",
   "id": "55ea4e37-3988-444d-a012-6dfd70922b7a",
   "metadata": {},
   "source": [
    ":::{admonition} Exercise 2: Recreating Another Classic Plot: Period-Radius Diagram\n",
    ":class: tip\n",
    "\n",
    "1. Using the same full exoplanet dataframe you downloaded and opened for exercise 1, trying plotting the exoplanet period-radius diagram. This is another classic exoplanet figure! The x-axis typically represents the logarithm of the orbital period of exoplanets, measured in days. The y-axis represents the logarithm of the radius of exoplanets, usually measured in terms of Earth radii. \n"
   ]
  }
 ],
 "metadata": {
  "kernelspec": {
   "display_name": "Python 3 (ipykernel)",
   "language": "python",
   "name": "python3"
  },
  "language_info": {
   "codemirror_mode": {
    "name": "ipython",
    "version": 3
   },
   "file_extension": ".py",
   "mimetype": "text/x-python",
   "name": "python",
   "nbconvert_exporter": "python",
   "pygments_lexer": "ipython3",
   "version": "3.11.6"
  }
 },
 "nbformat": 4,
 "nbformat_minor": 5
}
