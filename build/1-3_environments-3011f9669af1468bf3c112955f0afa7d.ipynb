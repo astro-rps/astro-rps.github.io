{
 "cells": [
  {
   "cell_type": "markdown",
   "id": "6b8d3d74-a2b9-4fb9-821b-e64cb65c37e4",
   "metadata": {},
   "source": [
    "# The Python Ecosystem and Virtual Environments "
   ]
  },
  {
   "cell_type": "markdown",
   "id": "ee82cbdd-7a8e-45ea-86d8-09f9d2292404",
   "metadata": {},
   "source": [
    "Now that we have a foundational understanding of UNIX and filesystems, let's explore the Python programming language and its ecosystem. Python is widely used in scientific computing, and understanding its installation, package management, and the use of virtual environments is crucial."
   ]
  },
  {
   "cell_type": "markdown",
   "id": "6eb6a780-4c8f-44c8-837a-e81a78c3cbdd",
   "metadata": {},
   "source": [
    "## Python Installation and Package Management \n",
    "\n",
    "Python can be installed in different ways on your computer. Usually, when we use python we also use external libraries. An external library is basically a collection of useful code written by someone else that you can acess without having to rewrite it yourself (you will learn more about these over the next few weeks). Python relies on package managers to install, update, and manage external libraries. The two primary package managers are:\n",
    "\n",
    "- **pip**: The default Python package installer.\n",
    "  - Example: `pip install package_name`\n",
    "\n",
    "- **Conda**: A cross-language package manager that simplifies dependency management.\n",
    "  - Example: `conda install package_name`\n",
    "\n",
    "Understanding how to use these package managers is essential for incorporating external libraries into your Python projects. You might also encounter **homebrew** or **MacPorts**. These are two other popular package managers, but they are not as common in astronomy. "
   ]
  },
  {
   "cell_type": "markdown",
   "id": "fc6e7bb0-a063-48f7-91da-8b262642b379",
   "metadata": {},
   "source": [
    "### Using Conda as a Package Manager\n",
    "\n",
    "When we use `conda`, we have the option of using different distributions:\n",
    "- **Miniconda**: A minimal installer for the Conda package manager, which only includes Conda and Python.\n",
    "- **Anaconda**: A distribution that includes Python, Conda, and a large array of pre installed packages.\n",
    "\n",
    "One of the features of conda (as opposed to pip) is that we can create **virtual environments**. You should all now have miniconda installed, so we can start making a virtual environment! "
   ]
  },
  {
   "cell_type": "markdown",
   "id": "99f8d0ee-f27d-40a7-827b-f2bbe8eb18e5",
   "metadata": {},
   "source": [
    "## Python Virtual Environments\n",
    "\n",
    "### What is a Virtual Environment? \n",
    "\n",
    "A virtual environment in Python is a self-contained directory that encapsulates a specific Python interpreter along with its associated libraries and scripts. It allows you to create isolated environments for different projects, each with its own set of dependencies, without affecting the system-wide Python installation.\n",
    "\n",
    "### Why Use Virtual Environments?\n",
    "\n",
    "When working on multiple projects, each with its own set of dependencies, managing packages can become challenging. Virtual environments provide an isolated space for each project, allowing you to avoid conflicts between different project requirements. Code in pacakges and libraries can often change with new releases and versions, so it's important to work in environments to keep track of your Python version and the versions of the external packages you use. \n",
    "\n",
    ":::{note}\n",
    "It is always a good idea to create a *new* environment when you are starting a new research project, installing a particularly complex code that has a lot of dependencies, or developing your own piece of software.\n",
    ":::"
   ]
  },
  {
   "cell_type": "markdown",
   "id": "3de0f665-f871-4474-83bf-8d1421162054",
   "metadata": {},
   "source": [
    ":::{admonition} _Exercise One: Make an Environment_\n",
    ":class: tip\n",
    "\n",
    "In your shell/terminal, write \n",
    "\n",
    "```{code-block} bash\n",
    "conda create -n astro-rps python=3.9 numpy scipy matplotlib astropy pandas jupyterlab ipython ipykernel nb_conda_kernels\n",
    "```\n",
    "\n",
    "This line creates as conda virtual environment called `astro-rps`. When you run this, you will eventually get a prompt asking for a `Y/n` input; type `Y` and hit enter. \n",
    ":::\n",
    "\n",
    "\n",
    "What this commmand does is create a new environment with the name you give it. We've specifically told it to use Python 3.11. We've also given it a list of packages that can be installed via conda; I chose these because they are universally useful in astronomy and we will need them anyway. You *can* specify their versions here, as we did for python, but for now, we just want the latest versions. \n",
    "\n",
    ":::{admonition} _Exercise Two: Activate Your Environment_\n",
    ":class: tip\n",
    "\n",
    "Once your environment is created, you'll see instructions for \"activating\" it. Follow them, e.g.,\n",
    "\n",
    "```{code-block} bash\n",
    "conda activate astro-rps\n",
    "```"
   ]
  },
  {
   "cell_type": "markdown",
   "id": "67d82948-1d31-4cc6-b1cf-1271cac43bf3",
   "metadata": {},
   "source": [
    "Once inside the environment, you should see its name on the left hand side of your terminal prompt, in parenthesis. Lets install a few more things, but this time, using `pip`, the standard python package installer\n",
    "```{code-block} bash\n",
    "pip install tqdm \n",
    "pip install astroquery\n",
    "```"
   ]
  },
  {
   "cell_type": "markdown",
   "id": "2c3489e7-3ccd-4160-b315-3886b6c8304e",
   "metadata": {},
   "source": [
    ":::{admonition} Installing Individual Pacakges: Conda vs. Pip\n",
    ":class: important\n",
    "When do we install a package using `conda`, and when do we use `pip`? This is a bit messy, but in general, I suggest checking first if a conda version of the package is available. If it is, try installing via `conda` first. If not, or if that fails, then fall back on using `pip` (*Inside your environment of course!*). Using `pip` inside an environment will still mean you are only installing to that environment, but some of `conda`'s ways of measuring package dependencies and compatibility don't extend to things installed with `pip`. Generally, we create environments with the \"big things\" installed with conda (as above), then install smaller, or pip-only things, inside with pip.\n",
    ":::\n"
   ]
  }
 ],
 "metadata": {
  "kernelspec": {
   "display_name": "Python 3 (ipykernel)",
   "language": "python",
   "name": "python3"
  },
  "language_info": {
   "codemirror_mode": {
    "name": "ipython",
    "version": 3
   },
   "file_extension": ".py",
   "mimetype": "text/x-python",
   "name": "python",
   "nbconvert_exporter": "python",
   "pygments_lexer": "ipython3",
   "version": "3.11.6"
  }
 },
 "nbformat": 4,
 "nbformat_minor": 5
}
