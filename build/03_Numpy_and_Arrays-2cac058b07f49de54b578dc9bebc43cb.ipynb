{
 "cells": [
  {
   "cell_type": "markdown",
   "id": "6b8d3d74-a2b9-4fb9-821b-e64cb65c37e4",
   "metadata": {
    "tags": [],
    "user_expressions": []
   },
   "source": [
    "# Numpy and Arrays"
   ]
  },
  {
   "cell_type": "markdown",
   "id": "ee82cbdd-7a8e-45ea-86d8-09f9d2292404",
   "metadata": {
    "tags": [],
    "user_expressions": []
   },
   "source": [
    "One major data type that we have not yet introduced is the **array** -- a close sibling of the list. One reason we've isolated it here is because it is not included in default Python -- instead, it's included in a **package** that we can import. The array offers many important advantages over the list when it comes to vectorized operations (which we'll define below). \n",
    "\n",
    "By the end of the day, you'll be able to \n",
    "- Import the numpy package\n",
    "- Construct and manipulate numpy arrays\n",
    "- Compare and contrast numpy arrays and lists\n",
    "- Apply numpy functions for simple but important calculations"
   ]
  },
  {
   "cell_type": "markdown",
   "id": "1cb52212-9cef-48f1-81d0-63e33ef67da5",
   "metadata": {
    "tags": [],
    "user_expressions": []
   },
   "source": [
    "In tandem with this notebook, I recommend creating a new script that you can use as a playground - it's best not to use python interactiely in the shell as we move to more sophisticated programs."
   ]
  },
  {
   "cell_type": "markdown",
   "id": "8be91924-4fcc-43e6-bd58-41e09125a20e",
   "metadata": {
    "tags": [],
    "user_expressions": []
   },
   "source": [
    "## Importing Numpy (and other Packages)\n"
   ]
  },
  {
   "cell_type": "markdown",
   "id": "abbcec36-115a-469a-9d73-787a9ca53d02",
   "metadata": {
    "user_expressions": []
   },
   "source": [
    "As part of your conda environment for this series, you downloaded a number of packages that are ubiquitously used throughout Python programming in any context. One of those packages is called **numpy**, which is short for numerical Python. You can import this package via the line "
   ]
  },
  {
   "cell_type": "markdown",
   "id": "c92bf900-6ec4-4227-a58f-a1510d95783d",
   "metadata": {
    "tags": [],
    "user_expressions": []
   },
   "source": [
    "``` {code-block} python \n",
    "import numpy as np\n",
    "```\n",
    "where the \"as np\" part is optional and just defines an alias (short name) that can save you a bit of typing later on.  After you've done this, you now have access to a large number of useful data structures and efficient, practical functions available as part of the package!"
   ]
  },
  {
   "cell_type": "markdown",
   "id": "e158e70a-ae52-448d-b2e4-221649d436de",
   "metadata": {
    "tags": [],
    "user_expressions": []
   },
   "source": [
    "Import statements only needed to be called once at the start of the program (whether that be a script or in a python shell). Generally, we like to include them in a block at the top of the code, e.g.,\n",
    "``` {code-block} python \n",
    "import numpy as np\n",
    "import scipy\n",
    "import astropy\n",
    "```"
   ]
  },
  {
   "cell_type": "markdown",
   "id": "d6998d86-7782-4022-a2b5-5102dc5b0a07",
   "metadata": {
    "tags": [],
    "user_expressions": []
   },
   "source": [
    "We won't go into any more detail about packages for the day, but we will dig into the numpy package specifically since it complements the rest of the material we were discussing about data types."
   ]
  },
  {
   "cell_type": "markdown",
   "id": "56dfbdda-c780-4309-8129-436298d572e8",
   "metadata": {
    "tags": [],
    "user_expressions": []
   },
   "source": [
    "### Motivating numpy: The Problem with Lists and the need for Arrays"
   ]
  },
  {
   "cell_type": "markdown",
   "id": "60bbcbff-355d-4319-893e-8d6d6dbde3b9",
   "metadata": {
    "tags": [],
    "user_expressions": []
   },
   "source": [
    "The main purpose of numpy is to allow for efficient data handling and computation, including for multidimensional collections of objects.  Numpy achieves this by improving on the list data type through a new data type called an \"array\". To understand why the array is different (and better), let's define one of each:"
   ]
  },
  {
   "cell_type": "markdown",
   "id": "400ced45-407f-4bfa-8626-8b2f4c32839a",
   "metadata": {
    "tags": [],
    "user_expressions": []
   },
   "source": [
    "``` {code-block} python \n",
    "\n",
    "# define a list using default Python\n",
    "list1 = [1,3,5]\n",
    "\n",
    "# np.array() is a function that takes a list as an argument and converts it into an array\n",
    "array1 = np.array([1,3,5]) \n",
    "\n",
    "print(list1)\n",
    "print(array1)\n",
    "``` "
   ]
  },
  {
   "cell_type": "markdown",
   "id": "d7de108a-56e6-42e8-a619-dbd0db833e9d",
   "metadata": {
    "tags": [],
    "user_expressions": []
   },
   "source": [
    "Let's now say we want to add 10 to each element in list1 and array1. You might think of trying:\n",
    "``` {code-block} python \n",
    "print(list1 + 10)\n",
    "```\n",
    "but evidently that returns an error. Default Python doesn't think you can simply add a single number to a list, because they are incompatible datatypes. Contrast that with numpy:\n",
    "``` {code-block} python \n",
    "print(array1 + 10)\n",
    "```\n",
    "which has the expected effect of adding 10 to each element.\n"
   ]
  },
  {
   "cell_type": "markdown",
   "id": "4be1de70-ead6-4965-94c5-b750ce2be957",
   "metadata": {
    "tags": [],
    "user_expressions": []
   },
   "source": [
    ":::{admonition} Exercise One: An Unusual Property of Lists\n",
    ":class: tip\n",
    "First, define a list of numbers called **nums**. Then, try to multiply this list by 5. Does it return an error? If not, what does it return?\n",
    "\n",
    "Now, make a new variable **num_arr** by converting **nums** from a list into a numpy array. Then, try multiplying by 5 again. What happens this time?\n",
    "\n",
    ":::"
   ]
  },
  {
   "cell_type": "markdown",
   "id": "b015424f-5c43-494f-9991-a17e4d82b46d",
   "metadata": {
    "tags": [],
    "user_expressions": []
   },
   "source": [
    "A related behavior of list is seen if you try adding them:\n",
    "```{code-block} python \n",
    "print([1,3,5] + [2,4,6])\n",
    "```"
   ]
  },
  {
   "cell_type": "markdown",
   "id": "6af3ead0-2717-4131-8f0b-56b2a5c15d4e",
   "metadata": {
    "tags": [],
    "user_expressions": []
   },
   "source": [
    "versues if you try with arrays,\n",
    "\n",
    "```{code-block} python \n",
    "a = np.array([1,3,5])\n",
    "b = np.array([2,4,6])\n",
    "print(a+b)\n",
    "```"
   ]
  },
  {
   "cell_type": "markdown",
   "id": "ed868ee2-f382-40c5-90cb-3ecb39d4745b",
   "metadata": {
    "tags": [],
    "user_expressions": []
   },
   "source": [
    "In short, numpy usually does what you expect to see from vectors: we call these element-wise operations."
   ]
  },
  {
   "cell_type": "markdown",
   "id": "e63c3bb2-22db-4d06-89e6-dd390414ae59",
   "metadata": {
    "tags": [],
    "user_expressions": []
   },
   "source": [
    "**The numpy advantage**, in short, is being able to do vector operations. This works much faster than looping through eac (which is a generally slow thing to do in Python).\n",
    "\n",
    "While we're here, **one disadvantage** of numpy arrays is that unlike lists, all elements in a numpy array must be the same data type. Thus, you can't have an array [\"cat\", 6], for example, while you could for a list."
   ]
  },
  {
   "cell_type": "markdown",
   "id": "b486c8bb-7334-4f1d-b2d0-21ee3aab4365",
   "metadata": {
    "tags": [],
    "user_expressions": []
   },
   "source": [
    "## More reasons to use numpy: A myriad of useful functions"
   ]
  },
  {
   "cell_type": "markdown",
   "id": "5397648c-c9cb-46b1-a2a9-0e7301bb9ab9",
   "metadata": {
    "tags": [],
    "user_expressions": []
   },
   "source": [
    "Even if you don't care about arrays, numpy offers many useful convenience functions that are not offered in default Python."
   ]
  },
  {
   "cell_type": "markdown",
   "id": "f867163b-f108-4b6a-b8a3-490fb36a4a04",
   "metadata": {
    "tags": [],
    "user_expressions": []
   },
   "source": [
    " For example, you might want to try to compute the cosine of an angle:\n",
    "``` {code-block} python \n",
    "print(np.cos(10)) ## cosine function\n",
    "```"
   ]
  },
  {
   "cell_type": "markdown",
   "id": "832d6fc7-77cd-40c2-b756-df85f2c1bfb8",
   "metadata": {
    "tags": [],
    "user_expressions": []
   },
   "source": [
    "or generate N evenly-spaced numbers between two endpoints of an interval,\n",
    "``` {code-block} python \n",
    "low = 0\n",
    "high = 100\n",
    "N = 101\n",
    "arr = np.linspace(low,high,N) ## generate 51 evenly spaced numbers between 0 and 5\n",
    "print(arr)\n",
    "```"
   ]
  },
  {
   "cell_type": "markdown",
   "id": "9fd98114-c671-42a8-938e-e6be568f6893",
   "metadata": {
    "user_expressions": []
   },
   "source": [
    "or get the mean and median of a list/array quickly:\n",
    "``` {code-block} python \n",
    "\n",
    "vals = [1,3,5,7,9]\n",
    "print(np.mean(vals), np.median(vals))\n"
   ]
  },
  {
   "cell_type": "markdown",
   "id": "fbb9c772-9750-40c6-88e3-9a987152cb1a",
   "metadata": {
    "tags": [],
    "user_expressions": []
   },
   "source": [
    "Note that in the above example, vals is actually a list - not an array. That's fine - numpy will do the conversion for you under the hood."
   ]
  },
  {
   "cell_type": "markdown",
   "id": "688facd3-a92a-46f2-b9fd-13b6d466360a",
   "metadata": {
    "tags": [],
    "user_expressions": []
   },
   "source": [
    "This might not seem that impressive yet, but it becomes really useful when dealing with multi-dimensional data. If we wanted, for example, we could definite a numpy array of zeros of shaping 50x50 as follows:"
   ]
  },
  {
   "cell_type": "markdown",
   "id": "3d309c92-6411-479f-b2e9-caeb4150d782",
   "metadata": {
    "tags": [],
    "user_expressions": []
   },
   "source": [
    "``` {code-block} python \n",
    "blank_image = np.zeros((50,50))\n",
    "print(blank_image)\n",
    "``` \n",
    "\n",
    "We could then add or mulyiply a scalar value easily, or take the mean, or all at once!)\n",
    "\n",
    "``` {code-block} python \n",
    "print(np.mean(5*blank_image + 2))\n",
    "``` "
   ]
  },
  {
   "cell_type": "markdown",
   "id": "f023ef93-ae4d-42d7-9ada-f9176133227c",
   "metadata": {
    "tags": [],
    "user_expressions": []
   },
   "source": [
    "and it just acts like a giant vector. You can see where this might be going when it comes to manipulating astronomical images!"
   ]
  }
 ],
 "metadata": {
  "kernelspec": {
   "display_name": "Python 3",
   "language": "python",
   "name": "python3"
  },
  "language_info": {
   "codemirror_mode": {
    "name": "ipython",
    "version": 3
   },
   "file_extension": ".py",
   "mimetype": "text/x-python",
   "name": "python",
   "nbconvert_exporter": "python",
   "pygments_lexer": "ipython3",
   "version": "3.7.16"
  }
 },
 "nbformat": 4,
 "nbformat_minor": 5
}
