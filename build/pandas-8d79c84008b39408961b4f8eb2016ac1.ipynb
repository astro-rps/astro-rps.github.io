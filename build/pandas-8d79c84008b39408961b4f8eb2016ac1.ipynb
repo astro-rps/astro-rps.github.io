{
 "cells": [
  {
   "cell_type": "markdown",
   "id": "d4e36714",
   "metadata": {
    "tags": [],
    "user_expressions": []
   },
   "source": [
    "# Pandas\n",
    "\n",
    "\n",
    "\n",
    "\n",
    "In this notebook lecture, we will cover:\n",
    "- Loading, filtering, and manipulating tabular data with the **pandas** package\n"
   ]
  },
  {
   "cell_type": "code",
   "execution_count": 3,
   "id": "0d92767d",
   "metadata": {},
   "outputs": [],
   "source": [
    "import pandas as pd\n",
    "import numpy as np\n",
    "import matplotlib.pyplot as plt\n",
    "\n",
    "%matplotlib inline "
   ]
  },
  {
   "cell_type": "markdown",
   "id": "d1f965d4-7ebb-470f-b199-25a1bc7f33dc",
   "metadata": {
    "user_expressions": []
   },
   "source": [
    "# 0. Tabular Data Handling with Numpy"
   ]
  },
  {
   "cell_type": "markdown",
   "id": "86d09757-78d3-478f-ae91-89079555861c",
   "metadata": {
    "tags": [],
    "user_expressions": []
   },
   "source": [
    "Let's say we have data in a file called \"GaiaM92.csv\" and we want to open it in Python. One option is to use numpy:"
   ]
  },
  {
   "cell_type": "code",
   "execution_count": 5,
   "id": "21e1a5b1-da40-4216-9a7d-7359a71eea8c",
   "metadata": {},
   "outputs": [
    {
     "data": {
      "text/plain": [
       "array([[ 2.59278972e+02,  4.31089818e+01,             nan, ...,\n",
       "                    nan,  1.95672800e+01,             nan],\n",
       "       [ 2.59289978e+02,  4.31050111e+01,             nan, ...,\n",
       "                    nan,  1.84345000e+01,  6.32349000e-01],\n",
       "       [ 2.59289054e+02,  4.31133782e+01,             nan, ...,\n",
       "                    nan,  1.92420200e+01,             nan],\n",
       "       ...,\n",
       "       [ 2.59257393e+02,  4.31632966e+01, -3.17254579e+00, ...,\n",
       "         1.17721990e+00,  1.90242880e+01,  6.21408460e-01],\n",
       "       [ 2.59272586e+02,  4.31676046e+01, -3.12183086e-01, ...,\n",
       "         4.06385234e+00,  1.78788530e+01,  6.74488070e-01],\n",
       "       [ 2.59270560e+02,  4.31673887e+01, -2.00777306e-01, ...,\n",
       "         1.26197385e+00,  1.91982980e+01,  7.78442400e-01]])"
      ]
     },
     "execution_count": 5,
     "metadata": {},
     "output_type": "execute_result"
    }
   ],
   "source": [
    "data = np.genfromtxt(\"./GaiaM92.csv\", delimiter=\",\", skip_header=1)\n",
    "data"
   ]
  },
  {
   "cell_type": "markdown",
   "id": "ff78c060-feeb-4d0e-b584-c49da51b1790",
   "metadata": {
    "user_expressions": []
   },
   "source": [
    "If we wanted to access rows, we could do the following:"
   ]
  },
  {
   "cell_type": "code",
   "execution_count": 108,
   "id": "53d718a5-5a1e-47f7-a219-5c86249b0d38",
   "metadata": {},
   "outputs": [
    {
     "name": "stdout",
     "output_type": "stream",
     "text": [
      "[259.27897188  43.10898178          nan          nan          nan\n",
      "  19.56728             nan]\n"
     ]
    }
   ],
   "source": [
    "print(data[0])"
   ]
  },
  {
   "cell_type": "markdown",
   "id": "72978a09-1a5f-44c7-97b4-c120f6a15c23",
   "metadata": {
    "user_expressions": []
   },
   "source": [
    "Or if we wanted to access specific columns:"
   ]
  },
  {
   "cell_type": "code",
   "execution_count": 109,
   "id": "ff6d9f84-352a-4285-9744-ceab95efc049",
   "metadata": {},
   "outputs": [
    {
     "name": "stdout",
     "output_type": "stream",
     "text": [
      "[259.27897188 259.28997796 259.28905426 ... 259.25739277 259.2725861\n",
      " 259.27056011]\n"
     ]
    }
   ],
   "source": [
    "print(data[:, 0])"
   ]
  },
  {
   "cell_type": "markdown",
   "id": "53ac7d6a-0866-40d0-a68c-b8b19fd42971",
   "metadata": {
    "tags": [],
    "user_expressions": []
   },
   "source": [
    "This works, but isn't very inuitive or user-friendly. Fortunately, there is a much nicer way to do the same operations using the package **pandas**!"
   ]
  },
  {
   "cell_type": "markdown",
   "id": "ed9deef1",
   "metadata": {
    "user_expressions": []
   },
   "source": [
    "# 1. What is Pandas, and why should I use it?"
   ]
  },
  {
   "cell_type": "markdown",
   "id": "a5acb6f2",
   "metadata": {
    "user_expressions": []
   },
   "source": [
    "Officially, pandas is a ``$ \\textit{a fast, powerful, flexible and easy to use open source data analysis and manipulation tool}$\" (https://pandas.pydata.org/). \n",
    "\n",
    "In practice, **it's a very user-friendly package for working with tabular data with Python**."
   ]
  },
  {
   "cell_type": "markdown",
   "id": "3eb67337",
   "metadata": {
    "user_expressions": []
   },
   "source": [
    "### When to use pandas"
   ]
  },
  {
   "cell_type": "markdown",
   "id": "b92268f7",
   "metadata": {
    "user_expressions": []
   },
   "source": [
    "Pandas offers a convenient, easy-to-visualize interface to tabular data, including the reading/writing steps. This makes it ideal for: \n",
    "\n",
    "**(1)** working with small or medium-sized datasets \n",
    "\n",
    "**(2)** manipulating data within Jupyter notebooks, and\n",
    "\n",
    "**(3)** exporting Python data to files."
   ]
  },
  {
   "cell_type": "markdown",
   "id": "d79c42cf",
   "metadata": {
    "user_expressions": []
   },
   "source": [
    "This notebook will explore each of these cases in some form or another."
   ]
  },
  {
   "cell_type": "markdown",
   "id": "6650ef4c",
   "metadata": {
    "user_expressions": []
   },
   "source": [
    "### When not to use pandas "
   ]
  },
  {
   "cell_type": "markdown",
   "id": "42ce4919",
   "metadata": {
    "user_expressions": []
   },
   "source": [
    "**(1)** The first thing to note is that **pandas is never necessary**: this is a pretty important point. There are other packages than can do everything that pandas can do, and most of its functionality can be reproduced with numpy alone. This being said, **pandas is often the most convenient/user-friendly option**. "
   ]
  },
  {
   "cell_type": "markdown",
   "id": "c4e5b8a6",
   "metadata": {
    "user_expressions": []
   },
   "source": [
    "**(2)** This user-friendliness comes with some overhead, i.e., it makes code a bit slower. For this reason, **pandas is not a good option if you are trying to have maximally-fast code** and **not a good option for huge datasets**. "
   ]
  },
  {
   "cell_type": "markdown",
   "id": "4c0a682d",
   "metadata": {
    "user_expressions": []
   },
   "source": [
    "**(3)** If you need to be very careful about datatypes, pandas is probably not the best tool to use. I almost never run into such situations, but if exporting data with datatypes is important, then csv files (which pandas excels at) are not an option, and you should consider fits files instead."
   ]
  },
  {
   "cell_type": "markdown",
   "id": "b0843697",
   "metadata": {
    "tags": [],
    "user_expressions": []
   },
   "source": [
    "# 2. \"DataFrames\": pandas' key tool"
   ]
  },
  {
   "cell_type": "markdown",
   "id": "8bd3c724",
   "metadata": {
    "user_expressions": []
   },
   "source": [
    "The key tool that pandas introduces is the **DataFrame**. Fundamentally, it's just a 2D datastructure with rows and columns (and sometimes an index) -- i.e., it's basically a table."
   ]
  },
  {
   "cell_type": "markdown",
   "id": "02c7a9e8",
   "metadata": {
    "user_expressions": []
   },
   "source": [
    "## 2a. Creating a DataFrame from a file"
   ]
  },
  {
   "cell_type": "markdown",
   "id": "65169e46",
   "metadata": {
    "user_expressions": []
   },
   "source": [
    "Pandas can be a very flexible tool for loading in datafiles in many different formats. The one you might most often run into is using data contained in .csv files. Here's how you could load that with pandas:"
   ]
  },
  {
   "cell_type": "code",
   "execution_count": 6,
   "id": "8e9a106e",
   "metadata": {},
   "outputs": [],
   "source": [
    "filepath = \"./GaiaM92.csv\"\n",
    "df = pd.read_csv(\n",
    "    filepath\n",
    ")  ## df is short for dataframe; this is fairly typical notation for pandas"
   ]
  },
  {
   "cell_type": "markdown",
   "id": "3c62283d",
   "metadata": {
    "user_expressions": []
   },
   "source": [
    "**That's it!**. That's all it takes to generate a Pandas dataframe from a file. This assumes that the file itself has a row that is just the column names, but that's pretty much it on the input formatting side. Let's crack it open and see what it contains:"
   ]
  },
  {
   "cell_type": "code",
   "execution_count": 111,
   "id": "fabbe0b8",
   "metadata": {},
   "outputs": [
    {
     "data": {
      "text/html": [
       "<div>\n",
       "<style scoped>\n",
       "    .dataframe tbody tr th:only-of-type {\n",
       "        vertical-align: middle;\n",
       "    }\n",
       "\n",
       "    .dataframe tbody tr th {\n",
       "        vertical-align: top;\n",
       "    }\n",
       "\n",
       "    .dataframe thead th {\n",
       "        text-align: right;\n",
       "    }\n",
       "</style>\n",
       "<table border=\"1\" class=\"dataframe\">\n",
       "  <thead>\n",
       "    <tr style=\"text-align: right;\">\n",
       "      <th></th>\n",
       "      <th>ra</th>\n",
       "      <th>dec</th>\n",
       "      <th>parallax</th>\n",
       "      <th>pmra</th>\n",
       "      <th>pmdec</th>\n",
       "      <th>phot_g_mean_mag</th>\n",
       "      <th>bp_rp</th>\n",
       "    </tr>\n",
       "  </thead>\n",
       "  <tbody>\n",
       "    <tr>\n",
       "      <th>0</th>\n",
       "      <td>259.278972</td>\n",
       "      <td>43.108982</td>\n",
       "      <td>NaN</td>\n",
       "      <td>NaN</td>\n",
       "      <td>NaN</td>\n",
       "      <td>19.567280</td>\n",
       "      <td>NaN</td>\n",
       "    </tr>\n",
       "    <tr>\n",
       "      <th>1</th>\n",
       "      <td>259.289978</td>\n",
       "      <td>43.105011</td>\n",
       "      <td>NaN</td>\n",
       "      <td>NaN</td>\n",
       "      <td>NaN</td>\n",
       "      <td>18.434500</td>\n",
       "      <td>0.632349</td>\n",
       "    </tr>\n",
       "    <tr>\n",
       "      <th>2</th>\n",
       "      <td>259.289054</td>\n",
       "      <td>43.113378</td>\n",
       "      <td>NaN</td>\n",
       "      <td>NaN</td>\n",
       "      <td>NaN</td>\n",
       "      <td>19.242020</td>\n",
       "      <td>NaN</td>\n",
       "    </tr>\n",
       "    <tr>\n",
       "      <th>3</th>\n",
       "      <td>259.290390</td>\n",
       "      <td>43.106504</td>\n",
       "      <td>1.533711</td>\n",
       "      <td>-5.808720</td>\n",
       "      <td>-1.708472</td>\n",
       "      <td>19.921402</td>\n",
       "      <td>NaN</td>\n",
       "    </tr>\n",
       "    <tr>\n",
       "      <th>4</th>\n",
       "      <td>259.306256</td>\n",
       "      <td>43.110687</td>\n",
       "      <td>1.106775</td>\n",
       "      <td>-4.624149</td>\n",
       "      <td>-1.093990</td>\n",
       "      <td>19.992563</td>\n",
       "      <td>NaN</td>\n",
       "    </tr>\n",
       "    <tr>\n",
       "      <th>...</th>\n",
       "      <td>...</td>\n",
       "      <td>...</td>\n",
       "      <td>...</td>\n",
       "      <td>...</td>\n",
       "      <td>...</td>\n",
       "      <td>...</td>\n",
       "      <td>...</td>\n",
       "    </tr>\n",
       "    <tr>\n",
       "      <th>8049</th>\n",
       "      <td>259.256567</td>\n",
       "      <td>43.162198</td>\n",
       "      <td>-0.325821</td>\n",
       "      <td>-5.009718</td>\n",
       "      <td>-0.854994</td>\n",
       "      <td>19.102306</td>\n",
       "      <td>NaN</td>\n",
       "    </tr>\n",
       "    <tr>\n",
       "      <th>8050</th>\n",
       "      <td>259.265129</td>\n",
       "      <td>43.164826</td>\n",
       "      <td>NaN</td>\n",
       "      <td>NaN</td>\n",
       "      <td>NaN</td>\n",
       "      <td>20.134605</td>\n",
       "      <td>0.631699</td>\n",
       "    </tr>\n",
       "    <tr>\n",
       "      <th>8051</th>\n",
       "      <td>259.257393</td>\n",
       "      <td>43.163297</td>\n",
       "      <td>-3.172546</td>\n",
       "      <td>-7.635612</td>\n",
       "      <td>1.177220</td>\n",
       "      <td>19.024288</td>\n",
       "      <td>0.621408</td>\n",
       "    </tr>\n",
       "    <tr>\n",
       "      <th>8052</th>\n",
       "      <td>259.272586</td>\n",
       "      <td>43.167605</td>\n",
       "      <td>-0.312183</td>\n",
       "      <td>-4.403949</td>\n",
       "      <td>4.063852</td>\n",
       "      <td>17.878853</td>\n",
       "      <td>0.674488</td>\n",
       "    </tr>\n",
       "    <tr>\n",
       "      <th>8053</th>\n",
       "      <td>259.270560</td>\n",
       "      <td>43.167389</td>\n",
       "      <td>-0.200777</td>\n",
       "      <td>-0.786033</td>\n",
       "      <td>1.261974</td>\n",
       "      <td>19.198298</td>\n",
       "      <td>0.778442</td>\n",
       "    </tr>\n",
       "  </tbody>\n",
       "</table>\n",
       "<p>8054 rows × 7 columns</p>\n",
       "</div>"
      ],
      "text/plain": [
       "              ra        dec  parallax      pmra     pmdec  phot_g_mean_mag  \\\n",
       "0     259.278972  43.108982       NaN       NaN       NaN        19.567280   \n",
       "1     259.289978  43.105011       NaN       NaN       NaN        18.434500   \n",
       "2     259.289054  43.113378       NaN       NaN       NaN        19.242020   \n",
       "3     259.290390  43.106504  1.533711 -5.808720 -1.708472        19.921402   \n",
       "4     259.306256  43.110687  1.106775 -4.624149 -1.093990        19.992563   \n",
       "...          ...        ...       ...       ...       ...              ...   \n",
       "8049  259.256567  43.162198 -0.325821 -5.009718 -0.854994        19.102306   \n",
       "8050  259.265129  43.164826       NaN       NaN       NaN        20.134605   \n",
       "8051  259.257393  43.163297 -3.172546 -7.635612  1.177220        19.024288   \n",
       "8052  259.272586  43.167605 -0.312183 -4.403949  4.063852        17.878853   \n",
       "8053  259.270560  43.167389 -0.200777 -0.786033  1.261974        19.198298   \n",
       "\n",
       "         bp_rp  \n",
       "0          NaN  \n",
       "1     0.632349  \n",
       "2          NaN  \n",
       "3          NaN  \n",
       "4          NaN  \n",
       "...        ...  \n",
       "8049       NaN  \n",
       "8050  0.631699  \n",
       "8051  0.621408  \n",
       "8052  0.674488  \n",
       "8053  0.778442  \n",
       "\n",
       "[8054 rows x 7 columns]"
      ]
     },
     "execution_count": 111,
     "metadata": {},
     "output_type": "execute_result"
    }
   ],
   "source": [
    "df"
   ]
  },
  {
   "cell_type": "markdown",
   "id": "572d82cf",
   "metadata": {
    "user_expressions": []
   },
   "source": [
    "The table above looks very nice! It's clearly formatted, shows you the column names without lots of extraneous info (e.g. datatypes), etc. It even tells you the dimensions of the table!\n",
    "\n",
    "As you can also see, there are some entries in this table that are showing \"NaN\" (\"not a number\"). And that's OK! Pandas is great at filling in missing entries from tables, which is one reason to use the package in the first place."
   ]
  },
  {
   "cell_type": "markdown",
   "id": "10e2d24a",
   "metadata": {
    "user_expressions": []
   },
   "source": [
    "Now, the output of the above is obviously truncated. If you want to preview the first 5 rows, you can do:\n"
   ]
  },
  {
   "cell_type": "code",
   "execution_count": 112,
   "id": "39538ce5",
   "metadata": {},
   "outputs": [
    {
     "data": {
      "text/html": [
       "<div>\n",
       "<style scoped>\n",
       "    .dataframe tbody tr th:only-of-type {\n",
       "        vertical-align: middle;\n",
       "    }\n",
       "\n",
       "    .dataframe tbody tr th {\n",
       "        vertical-align: top;\n",
       "    }\n",
       "\n",
       "    .dataframe thead th {\n",
       "        text-align: right;\n",
       "    }\n",
       "</style>\n",
       "<table border=\"1\" class=\"dataframe\">\n",
       "  <thead>\n",
       "    <tr style=\"text-align: right;\">\n",
       "      <th></th>\n",
       "      <th>ra</th>\n",
       "      <th>dec</th>\n",
       "      <th>parallax</th>\n",
       "      <th>pmra</th>\n",
       "      <th>pmdec</th>\n",
       "      <th>phot_g_mean_mag</th>\n",
       "      <th>bp_rp</th>\n",
       "    </tr>\n",
       "  </thead>\n",
       "  <tbody>\n",
       "    <tr>\n",
       "      <th>0</th>\n",
       "      <td>259.278972</td>\n",
       "      <td>43.108982</td>\n",
       "      <td>NaN</td>\n",
       "      <td>NaN</td>\n",
       "      <td>NaN</td>\n",
       "      <td>19.567280</td>\n",
       "      <td>NaN</td>\n",
       "    </tr>\n",
       "    <tr>\n",
       "      <th>1</th>\n",
       "      <td>259.289978</td>\n",
       "      <td>43.105011</td>\n",
       "      <td>NaN</td>\n",
       "      <td>NaN</td>\n",
       "      <td>NaN</td>\n",
       "      <td>18.434500</td>\n",
       "      <td>0.632349</td>\n",
       "    </tr>\n",
       "    <tr>\n",
       "      <th>2</th>\n",
       "      <td>259.289054</td>\n",
       "      <td>43.113378</td>\n",
       "      <td>NaN</td>\n",
       "      <td>NaN</td>\n",
       "      <td>NaN</td>\n",
       "      <td>19.242020</td>\n",
       "      <td>NaN</td>\n",
       "    </tr>\n",
       "    <tr>\n",
       "      <th>3</th>\n",
       "      <td>259.290390</td>\n",
       "      <td>43.106504</td>\n",
       "      <td>1.533711</td>\n",
       "      <td>-5.808720</td>\n",
       "      <td>-1.708472</td>\n",
       "      <td>19.921402</td>\n",
       "      <td>NaN</td>\n",
       "    </tr>\n",
       "    <tr>\n",
       "      <th>4</th>\n",
       "      <td>259.306256</td>\n",
       "      <td>43.110687</td>\n",
       "      <td>1.106775</td>\n",
       "      <td>-4.624149</td>\n",
       "      <td>-1.093990</td>\n",
       "      <td>19.992563</td>\n",
       "      <td>NaN</td>\n",
       "    </tr>\n",
       "    <tr>\n",
       "      <th>5</th>\n",
       "      <td>259.268118</td>\n",
       "      <td>43.104699</td>\n",
       "      <td>-1.036598</td>\n",
       "      <td>-4.683732</td>\n",
       "      <td>-0.519738</td>\n",
       "      <td>19.920280</td>\n",
       "      <td>0.756393</td>\n",
       "    </tr>\n",
       "    <tr>\n",
       "      <th>6</th>\n",
       "      <td>259.268331</td>\n",
       "      <td>43.104789</td>\n",
       "      <td>NaN</td>\n",
       "      <td>NaN</td>\n",
       "      <td>NaN</td>\n",
       "      <td>20.417160</td>\n",
       "      <td>NaN</td>\n",
       "    </tr>\n",
       "    <tr>\n",
       "      <th>7</th>\n",
       "      <td>259.268817</td>\n",
       "      <td>43.106339</td>\n",
       "      <td>-0.031390</td>\n",
       "      <td>-5.688505</td>\n",
       "      <td>0.143810</td>\n",
       "      <td>19.317175</td>\n",
       "      <td>NaN</td>\n",
       "    </tr>\n",
       "    <tr>\n",
       "      <th>8</th>\n",
       "      <td>259.268159</td>\n",
       "      <td>43.105793</td>\n",
       "      <td>-0.770001</td>\n",
       "      <td>-1.065605</td>\n",
       "      <td>4.497394</td>\n",
       "      <td>19.669512</td>\n",
       "      <td>-0.181538</td>\n",
       "    </tr>\n",
       "    <tr>\n",
       "      <th>9</th>\n",
       "      <td>259.267877</td>\n",
       "      <td>43.105856</td>\n",
       "      <td>NaN</td>\n",
       "      <td>NaN</td>\n",
       "      <td>NaN</td>\n",
       "      <td>20.450974</td>\n",
       "      <td>NaN</td>\n",
       "    </tr>\n",
       "  </tbody>\n",
       "</table>\n",
       "</div>"
      ],
      "text/plain": [
       "           ra        dec  parallax      pmra     pmdec  phot_g_mean_mag  \\\n",
       "0  259.278972  43.108982       NaN       NaN       NaN        19.567280   \n",
       "1  259.289978  43.105011       NaN       NaN       NaN        18.434500   \n",
       "2  259.289054  43.113378       NaN       NaN       NaN        19.242020   \n",
       "3  259.290390  43.106504  1.533711 -5.808720 -1.708472        19.921402   \n",
       "4  259.306256  43.110687  1.106775 -4.624149 -1.093990        19.992563   \n",
       "5  259.268118  43.104699 -1.036598 -4.683732 -0.519738        19.920280   \n",
       "6  259.268331  43.104789       NaN       NaN       NaN        20.417160   \n",
       "7  259.268817  43.106339 -0.031390 -5.688505  0.143810        19.317175   \n",
       "8  259.268159  43.105793 -0.770001 -1.065605  4.497394        19.669512   \n",
       "9  259.267877  43.105856       NaN       NaN       NaN        20.450974   \n",
       "\n",
       "      bp_rp  \n",
       "0       NaN  \n",
       "1  0.632349  \n",
       "2       NaN  \n",
       "3       NaN  \n",
       "4       NaN  \n",
       "5  0.756393  \n",
       "6       NaN  \n",
       "7       NaN  \n",
       "8 -0.181538  \n",
       "9       NaN  "
      ]
     },
     "execution_count": 112,
     "metadata": {},
     "output_type": "execute_result"
    }
   ],
   "source": [
    "df.head(10)"
   ]
  },
  {
   "cell_type": "markdown",
   "id": "54bc15b8",
   "metadata": {
    "user_expressions": []
   },
   "source": [
    "Have a long list of columns? You can print them easily:"
   ]
  },
  {
   "cell_type": "code",
   "execution_count": 113,
   "id": "effd4bff",
   "metadata": {},
   "outputs": [
    {
     "name": "stdout",
     "output_type": "stream",
     "text": [
      "Index(['ra', 'dec', 'parallax', 'pmra', 'pmdec', 'phot_g_mean_mag', 'bp_rp'], dtype='object')\n"
     ]
    }
   ],
   "source": [
    "print(df.columns)"
   ]
  },
  {
   "cell_type": "markdown",
   "id": "02b4be53",
   "metadata": {
    "user_expressions": []
   },
   "source": [
    "## 2b. Isolating Columns!"
   ]
  },
  {
   "cell_type": "markdown",
   "id": "ca667d5c",
   "metadata": {
    "user_expressions": []
   },
   "source": [
    "Pandas makes it trivial to access certain columns in your data. This is in contrast to raw numpy arrays. To do so with pandas, we can simply use the following notation:"
   ]
  },
  {
   "cell_type": "code",
   "execution_count": 114,
   "id": "9ff3ca75",
   "metadata": {},
   "outputs": [
    {
     "data": {
      "text/plain": [
       "0       259.278972\n",
       "1       259.289978\n",
       "2       259.289054\n",
       "3       259.290390\n",
       "4       259.306256\n",
       "           ...    \n",
       "8049    259.256567\n",
       "8050    259.265129\n",
       "8051    259.257393\n",
       "8052    259.272586\n",
       "8053    259.270560\n",
       "Name: ra, Length: 8054, dtype: float64"
      ]
     },
     "execution_count": 114,
     "metadata": {},
     "output_type": "execute_result"
    }
   ],
   "source": [
    "df[\"ra\"]"
   ]
  },
  {
   "cell_type": "markdown",
   "id": "4f02da13",
   "metadata": {
    "user_expressions": []
   },
   "source": [
    "The above is what we call a **Series** in pandas. It functions basically the same as a numpy array, but carries with it an index. If you just want the values, you can add \".values\" to the end:"
   ]
  },
  {
   "cell_type": "code",
   "execution_count": 115,
   "id": "33ddd4d0",
   "metadata": {},
   "outputs": [
    {
     "data": {
      "text/plain": [
       "array([259.27897188, 259.28997796, 259.28905426, ..., 259.25739277,\n",
       "       259.2725861 , 259.27056011])"
      ]
     },
     "execution_count": 115,
     "metadata": {},
     "output_type": "execute_result"
    }
   ],
   "source": [
    "df[\"ra\"].values"
   ]
  },
  {
   "cell_type": "markdown",
   "id": "331a17fe",
   "metadata": {
    "user_expressions": []
   },
   "source": [
    "**Importantly, the above is a numpy array already**! This makes it somewhat clearer what is going on \"under the hood\": pandas dataframes are very similar to organized collections of numpy arrays."
   ]
  },
  {
   "cell_type": "markdown",
   "id": "db61174f",
   "metadata": {
    "user_expressions": []
   },
   "source": [
    "If you want a single row, you will need the index of that row. For the case of index 0, this looks like:"
   ]
  },
  {
   "cell_type": "code",
   "execution_count": 116,
   "id": "109c2534",
   "metadata": {},
   "outputs": [
    {
     "data": {
      "text/plain": [
       "array([259.27897188,  43.10898178,          nan,          nan,\n",
       "                nan,  19.56728   ,          nan])"
      ]
     },
     "execution_count": 116,
     "metadata": {},
     "output_type": "execute_result"
    }
   ],
   "source": [
    "df.iloc[0].values"
   ]
  },
  {
   "cell_type": "markdown",
   "id": "1cba4628",
   "metadata": {
    "user_expressions": []
   },
   "source": [
    "## 2c. Creating new columns in an existing dataframe"
   ]
  },
  {
   "cell_type": "code",
   "execution_count": 117,
   "id": "9957e4d2-846c-4ee4-932c-2c2aa93d202b",
   "metadata": {},
   "outputs": [
    {
     "data": {
      "text/html": [
       "<div>\n",
       "<style scoped>\n",
       "    .dataframe tbody tr th:only-of-type {\n",
       "        vertical-align: middle;\n",
       "    }\n",
       "\n",
       "    .dataframe tbody tr th {\n",
       "        vertical-align: top;\n",
       "    }\n",
       "\n",
       "    .dataframe thead th {\n",
       "        text-align: right;\n",
       "    }\n",
       "</style>\n",
       "<table border=\"1\" class=\"dataframe\">\n",
       "  <thead>\n",
       "    <tr style=\"text-align: right;\">\n",
       "      <th></th>\n",
       "      <th>ra</th>\n",
       "      <th>dec</th>\n",
       "      <th>parallax</th>\n",
       "      <th>pmra</th>\n",
       "      <th>pmdec</th>\n",
       "      <th>phot_g_mean_mag</th>\n",
       "      <th>bp_rp</th>\n",
       "    </tr>\n",
       "  </thead>\n",
       "  <tbody>\n",
       "    <tr>\n",
       "      <th>0</th>\n",
       "      <td>259.278972</td>\n",
       "      <td>43.108982</td>\n",
       "      <td>NaN</td>\n",
       "      <td>NaN</td>\n",
       "      <td>NaN</td>\n",
       "      <td>19.567280</td>\n",
       "      <td>NaN</td>\n",
       "    </tr>\n",
       "    <tr>\n",
       "      <th>1</th>\n",
       "      <td>259.289978</td>\n",
       "      <td>43.105011</td>\n",
       "      <td>NaN</td>\n",
       "      <td>NaN</td>\n",
       "      <td>NaN</td>\n",
       "      <td>18.434500</td>\n",
       "      <td>0.632349</td>\n",
       "    </tr>\n",
       "    <tr>\n",
       "      <th>2</th>\n",
       "      <td>259.289054</td>\n",
       "      <td>43.113378</td>\n",
       "      <td>NaN</td>\n",
       "      <td>NaN</td>\n",
       "      <td>NaN</td>\n",
       "      <td>19.242020</td>\n",
       "      <td>NaN</td>\n",
       "    </tr>\n",
       "    <tr>\n",
       "      <th>3</th>\n",
       "      <td>259.290390</td>\n",
       "      <td>43.106504</td>\n",
       "      <td>1.533711</td>\n",
       "      <td>-5.808720</td>\n",
       "      <td>-1.708472</td>\n",
       "      <td>19.921402</td>\n",
       "      <td>NaN</td>\n",
       "    </tr>\n",
       "    <tr>\n",
       "      <th>4</th>\n",
       "      <td>259.306256</td>\n",
       "      <td>43.110687</td>\n",
       "      <td>1.106775</td>\n",
       "      <td>-4.624149</td>\n",
       "      <td>-1.093990</td>\n",
       "      <td>19.992563</td>\n",
       "      <td>NaN</td>\n",
       "    </tr>\n",
       "    <tr>\n",
       "      <th>...</th>\n",
       "      <td>...</td>\n",
       "      <td>...</td>\n",
       "      <td>...</td>\n",
       "      <td>...</td>\n",
       "      <td>...</td>\n",
       "      <td>...</td>\n",
       "      <td>...</td>\n",
       "    </tr>\n",
       "    <tr>\n",
       "      <th>8049</th>\n",
       "      <td>259.256567</td>\n",
       "      <td>43.162198</td>\n",
       "      <td>-0.325821</td>\n",
       "      <td>-5.009718</td>\n",
       "      <td>-0.854994</td>\n",
       "      <td>19.102306</td>\n",
       "      <td>NaN</td>\n",
       "    </tr>\n",
       "    <tr>\n",
       "      <th>8050</th>\n",
       "      <td>259.265129</td>\n",
       "      <td>43.164826</td>\n",
       "      <td>NaN</td>\n",
       "      <td>NaN</td>\n",
       "      <td>NaN</td>\n",
       "      <td>20.134605</td>\n",
       "      <td>0.631699</td>\n",
       "    </tr>\n",
       "    <tr>\n",
       "      <th>8051</th>\n",
       "      <td>259.257393</td>\n",
       "      <td>43.163297</td>\n",
       "      <td>-3.172546</td>\n",
       "      <td>-7.635612</td>\n",
       "      <td>1.177220</td>\n",
       "      <td>19.024288</td>\n",
       "      <td>0.621408</td>\n",
       "    </tr>\n",
       "    <tr>\n",
       "      <th>8052</th>\n",
       "      <td>259.272586</td>\n",
       "      <td>43.167605</td>\n",
       "      <td>-0.312183</td>\n",
       "      <td>-4.403949</td>\n",
       "      <td>4.063852</td>\n",
       "      <td>17.878853</td>\n",
       "      <td>0.674488</td>\n",
       "    </tr>\n",
       "    <tr>\n",
       "      <th>8053</th>\n",
       "      <td>259.270560</td>\n",
       "      <td>43.167389</td>\n",
       "      <td>-0.200777</td>\n",
       "      <td>-0.786033</td>\n",
       "      <td>1.261974</td>\n",
       "      <td>19.198298</td>\n",
       "      <td>0.778442</td>\n",
       "    </tr>\n",
       "  </tbody>\n",
       "</table>\n",
       "<p>8054 rows × 7 columns</p>\n",
       "</div>"
      ],
      "text/plain": [
       "              ra        dec  parallax      pmra     pmdec  phot_g_mean_mag  \\\n",
       "0     259.278972  43.108982       NaN       NaN       NaN        19.567280   \n",
       "1     259.289978  43.105011       NaN       NaN       NaN        18.434500   \n",
       "2     259.289054  43.113378       NaN       NaN       NaN        19.242020   \n",
       "3     259.290390  43.106504  1.533711 -5.808720 -1.708472        19.921402   \n",
       "4     259.306256  43.110687  1.106775 -4.624149 -1.093990        19.992563   \n",
       "...          ...        ...       ...       ...       ...              ...   \n",
       "8049  259.256567  43.162198 -0.325821 -5.009718 -0.854994        19.102306   \n",
       "8050  259.265129  43.164826       NaN       NaN       NaN        20.134605   \n",
       "8051  259.257393  43.163297 -3.172546 -7.635612  1.177220        19.024288   \n",
       "8052  259.272586  43.167605 -0.312183 -4.403949  4.063852        17.878853   \n",
       "8053  259.270560  43.167389 -0.200777 -0.786033  1.261974        19.198298   \n",
       "\n",
       "         bp_rp  \n",
       "0          NaN  \n",
       "1     0.632349  \n",
       "2          NaN  \n",
       "3          NaN  \n",
       "4          NaN  \n",
       "...        ...  \n",
       "8049       NaN  \n",
       "8050  0.631699  \n",
       "8051  0.621408  \n",
       "8052  0.674488  \n",
       "8053  0.778442  \n",
       "\n",
       "[8054 rows x 7 columns]"
      ]
     },
     "execution_count": 117,
     "metadata": {},
     "output_type": "execute_result"
    }
   ],
   "source": [
    "df"
   ]
  },
  {
   "cell_type": "markdown",
   "id": "1a387bbc",
   "metadata": {
    "user_expressions": []
   },
   "source": [
    "Want to use a column (or more than one!) to create a new column! It's super simple with pandas. Let's see how that works:"
   ]
  },
  {
   "cell_type": "code",
   "execution_count": 118,
   "id": "00ec34a2",
   "metadata": {},
   "outputs": [],
   "source": [
    "df[\"NewColumn\"] = np.sqrt(df[\"pmra\"] ** 2 + df[\"pmdec\"] ** 2)"
   ]
  },
  {
   "cell_type": "markdown",
   "id": "2095066e",
   "metadata": {
    "user_expressions": []
   },
   "source": [
    "Now if we re-show the dataframe, our new column will be there"
   ]
  },
  {
   "cell_type": "code",
   "execution_count": 119,
   "id": "f0b9cb80",
   "metadata": {},
   "outputs": [
    {
     "data": {
      "text/html": [
       "<div>\n",
       "<style scoped>\n",
       "    .dataframe tbody tr th:only-of-type {\n",
       "        vertical-align: middle;\n",
       "    }\n",
       "\n",
       "    .dataframe tbody tr th {\n",
       "        vertical-align: top;\n",
       "    }\n",
       "\n",
       "    .dataframe thead th {\n",
       "        text-align: right;\n",
       "    }\n",
       "</style>\n",
       "<table border=\"1\" class=\"dataframe\">\n",
       "  <thead>\n",
       "    <tr style=\"text-align: right;\">\n",
       "      <th></th>\n",
       "      <th>ra</th>\n",
       "      <th>dec</th>\n",
       "      <th>parallax</th>\n",
       "      <th>pmra</th>\n",
       "      <th>pmdec</th>\n",
       "      <th>phot_g_mean_mag</th>\n",
       "      <th>bp_rp</th>\n",
       "      <th>NewColumn</th>\n",
       "    </tr>\n",
       "  </thead>\n",
       "  <tbody>\n",
       "    <tr>\n",
       "      <th>0</th>\n",
       "      <td>259.278972</td>\n",
       "      <td>43.108982</td>\n",
       "      <td>NaN</td>\n",
       "      <td>NaN</td>\n",
       "      <td>NaN</td>\n",
       "      <td>19.567280</td>\n",
       "      <td>NaN</td>\n",
       "      <td>NaN</td>\n",
       "    </tr>\n",
       "    <tr>\n",
       "      <th>1</th>\n",
       "      <td>259.289978</td>\n",
       "      <td>43.105011</td>\n",
       "      <td>NaN</td>\n",
       "      <td>NaN</td>\n",
       "      <td>NaN</td>\n",
       "      <td>18.434500</td>\n",
       "      <td>0.632349</td>\n",
       "      <td>NaN</td>\n",
       "    </tr>\n",
       "    <tr>\n",
       "      <th>2</th>\n",
       "      <td>259.289054</td>\n",
       "      <td>43.113378</td>\n",
       "      <td>NaN</td>\n",
       "      <td>NaN</td>\n",
       "      <td>NaN</td>\n",
       "      <td>19.242020</td>\n",
       "      <td>NaN</td>\n",
       "      <td>NaN</td>\n",
       "    </tr>\n",
       "    <tr>\n",
       "      <th>3</th>\n",
       "      <td>259.290390</td>\n",
       "      <td>43.106504</td>\n",
       "      <td>1.533711</td>\n",
       "      <td>-5.808720</td>\n",
       "      <td>-1.708472</td>\n",
       "      <td>19.921402</td>\n",
       "      <td>NaN</td>\n",
       "      <td>6.054759</td>\n",
       "    </tr>\n",
       "    <tr>\n",
       "      <th>4</th>\n",
       "      <td>259.306256</td>\n",
       "      <td>43.110687</td>\n",
       "      <td>1.106775</td>\n",
       "      <td>-4.624149</td>\n",
       "      <td>-1.093990</td>\n",
       "      <td>19.992563</td>\n",
       "      <td>NaN</td>\n",
       "      <td>4.751796</td>\n",
       "    </tr>\n",
       "  </tbody>\n",
       "</table>\n",
       "</div>"
      ],
      "text/plain": [
       "           ra        dec  parallax      pmra     pmdec  phot_g_mean_mag  \\\n",
       "0  259.278972  43.108982       NaN       NaN       NaN        19.567280   \n",
       "1  259.289978  43.105011       NaN       NaN       NaN        18.434500   \n",
       "2  259.289054  43.113378       NaN       NaN       NaN        19.242020   \n",
       "3  259.290390  43.106504  1.533711 -5.808720 -1.708472        19.921402   \n",
       "4  259.306256  43.110687  1.106775 -4.624149 -1.093990        19.992563   \n",
       "\n",
       "      bp_rp  NewColumn  \n",
       "0       NaN        NaN  \n",
       "1  0.632349        NaN  \n",
       "2       NaN        NaN  \n",
       "3       NaN   6.054759  \n",
       "4       NaN   4.751796  "
      ]
     },
     "execution_count": 119,
     "metadata": {},
     "output_type": "execute_result"
    }
   ],
   "source": [
    "df.head()"
   ]
  },
  {
   "cell_type": "markdown",
   "id": "fa0a2c83",
   "metadata": {
    "user_expressions": []
   },
   "source": [
    "What if you have an entirely new column that is not dependent on other columns (as in the case above?). Let's see the case of adding a new column of random numbers."
   ]
  },
  {
   "cell_type": "code",
   "execution_count": 120,
   "id": "5b50ec79",
   "metadata": {},
   "outputs": [],
   "source": [
    "df[\"NewColumn2\"] = np.random.uniform(\n",
    "    size=len(df)\n",
    ")  ## fill new column with random numbers between 0 and 1"
   ]
  },
  {
   "cell_type": "code",
   "execution_count": 121,
   "id": "14050222",
   "metadata": {
    "scrolled": true
   },
   "outputs": [
    {
     "data": {
      "text/html": [
       "<div>\n",
       "<style scoped>\n",
       "    .dataframe tbody tr th:only-of-type {\n",
       "        vertical-align: middle;\n",
       "    }\n",
       "\n",
       "    .dataframe tbody tr th {\n",
       "        vertical-align: top;\n",
       "    }\n",
       "\n",
       "    .dataframe thead th {\n",
       "        text-align: right;\n",
       "    }\n",
       "</style>\n",
       "<table border=\"1\" class=\"dataframe\">\n",
       "  <thead>\n",
       "    <tr style=\"text-align: right;\">\n",
       "      <th></th>\n",
       "      <th>ra</th>\n",
       "      <th>dec</th>\n",
       "      <th>parallax</th>\n",
       "      <th>pmra</th>\n",
       "      <th>pmdec</th>\n",
       "      <th>phot_g_mean_mag</th>\n",
       "      <th>bp_rp</th>\n",
       "      <th>NewColumn</th>\n",
       "      <th>NewColumn2</th>\n",
       "    </tr>\n",
       "  </thead>\n",
       "  <tbody>\n",
       "    <tr>\n",
       "      <th>0</th>\n",
       "      <td>259.278972</td>\n",
       "      <td>43.108982</td>\n",
       "      <td>NaN</td>\n",
       "      <td>NaN</td>\n",
       "      <td>NaN</td>\n",
       "      <td>19.567280</td>\n",
       "      <td>NaN</td>\n",
       "      <td>NaN</td>\n",
       "      <td>0.111252</td>\n",
       "    </tr>\n",
       "    <tr>\n",
       "      <th>1</th>\n",
       "      <td>259.289978</td>\n",
       "      <td>43.105011</td>\n",
       "      <td>NaN</td>\n",
       "      <td>NaN</td>\n",
       "      <td>NaN</td>\n",
       "      <td>18.434500</td>\n",
       "      <td>0.632349</td>\n",
       "      <td>NaN</td>\n",
       "      <td>0.732642</td>\n",
       "    </tr>\n",
       "    <tr>\n",
       "      <th>2</th>\n",
       "      <td>259.289054</td>\n",
       "      <td>43.113378</td>\n",
       "      <td>NaN</td>\n",
       "      <td>NaN</td>\n",
       "      <td>NaN</td>\n",
       "      <td>19.242020</td>\n",
       "      <td>NaN</td>\n",
       "      <td>NaN</td>\n",
       "      <td>0.112738</td>\n",
       "    </tr>\n",
       "    <tr>\n",
       "      <th>3</th>\n",
       "      <td>259.290390</td>\n",
       "      <td>43.106504</td>\n",
       "      <td>1.533711</td>\n",
       "      <td>-5.808720</td>\n",
       "      <td>-1.708472</td>\n",
       "      <td>19.921402</td>\n",
       "      <td>NaN</td>\n",
       "      <td>6.054759</td>\n",
       "      <td>0.827502</td>\n",
       "    </tr>\n",
       "    <tr>\n",
       "      <th>4</th>\n",
       "      <td>259.306256</td>\n",
       "      <td>43.110687</td>\n",
       "      <td>1.106775</td>\n",
       "      <td>-4.624149</td>\n",
       "      <td>-1.093990</td>\n",
       "      <td>19.992563</td>\n",
       "      <td>NaN</td>\n",
       "      <td>4.751796</td>\n",
       "      <td>0.128081</td>\n",
       "    </tr>\n",
       "  </tbody>\n",
       "</table>\n",
       "</div>"
      ],
      "text/plain": [
       "           ra        dec  parallax      pmra     pmdec  phot_g_mean_mag  \\\n",
       "0  259.278972  43.108982       NaN       NaN       NaN        19.567280   \n",
       "1  259.289978  43.105011       NaN       NaN       NaN        18.434500   \n",
       "2  259.289054  43.113378       NaN       NaN       NaN        19.242020   \n",
       "3  259.290390  43.106504  1.533711 -5.808720 -1.708472        19.921402   \n",
       "4  259.306256  43.110687  1.106775 -4.624149 -1.093990        19.992563   \n",
       "\n",
       "      bp_rp  NewColumn  NewColumn2  \n",
       "0       NaN        NaN    0.111252  \n",
       "1  0.632349        NaN    0.732642  \n",
       "2       NaN        NaN    0.112738  \n",
       "3       NaN   6.054759    0.827502  \n",
       "4       NaN   4.751796    0.128081  "
      ]
     },
     "execution_count": 121,
     "metadata": {},
     "output_type": "execute_result"
    }
   ],
   "source": [
    "df.head()"
   ]
  },
  {
   "cell_type": "markdown",
   "id": "05b11c8a",
   "metadata": {
    "user_expressions": []
   },
   "source": [
    "## 2d. Other ways to load in tables:"
   ]
  },
  {
   "cell_type": "markdown",
   "id": "6914859d",
   "metadata": {
    "user_expressions": []
   },
   "source": [
    "As noted before, there's a number of other ways you can load tabular data from files. For example,"
   ]
  },
  {
   "cell_type": "code",
   "execution_count": 122,
   "id": "e107d7d3",
   "metadata": {},
   "outputs": [],
   "source": [
    "df2 = pd.read_csv(\n",
    "    \"https://support.staffbase.com/hc/en-us/article_attachments/360009197011/username-password-recovery-code.csv\"\n",
    ")"
   ]
  },
  {
   "cell_type": "code",
   "execution_count": 123,
   "id": "06dfa1e3",
   "metadata": {},
   "outputs": [
    {
     "data": {
      "text/html": [
       "<div>\n",
       "<style scoped>\n",
       "    .dataframe tbody tr th:only-of-type {\n",
       "        vertical-align: middle;\n",
       "    }\n",
       "\n",
       "    .dataframe tbody tr th {\n",
       "        vertical-align: top;\n",
       "    }\n",
       "\n",
       "    .dataframe thead th {\n",
       "        text-align: right;\n",
       "    }\n",
       "</style>\n",
       "<table border=\"1\" class=\"dataframe\">\n",
       "  <thead>\n",
       "    <tr style=\"text-align: right;\">\n",
       "      <th></th>\n",
       "      <th>Username; Identifier;One-time password;Recovery code;First name;Last name;Department;Location</th>\n",
       "    </tr>\n",
       "  </thead>\n",
       "  <tbody>\n",
       "    <tr>\n",
       "      <th>0</th>\n",
       "      <td>booker12;9012;12se74;rb9012;Rachel;Booker;Sale...</td>\n",
       "    </tr>\n",
       "    <tr>\n",
       "      <th>1</th>\n",
       "      <td>grey07;2070;04ap67;lg2070;Laura;Grey;Depot;London</td>\n",
       "    </tr>\n",
       "    <tr>\n",
       "      <th>2</th>\n",
       "      <td>johnson81;4081;30no86;cj4081;Craig;Johnson;Dep...</td>\n",
       "    </tr>\n",
       "    <tr>\n",
       "      <th>3</th>\n",
       "      <td>jenkins46;9346;14ju73;mj9346;Mary;Jenkins;Engi...</td>\n",
       "    </tr>\n",
       "    <tr>\n",
       "      <th>4</th>\n",
       "      <td>smith79;5079;09ja61;js5079;Jamie;Smith;Enginee...</td>\n",
       "    </tr>\n",
       "  </tbody>\n",
       "</table>\n",
       "</div>"
      ],
      "text/plain": [
       "  Username; Identifier;One-time password;Recovery code;First name;Last name;Department;Location\n",
       "0  booker12;9012;12se74;rb9012;Rachel;Booker;Sale...                                           \n",
       "1  grey07;2070;04ap67;lg2070;Laura;Grey;Depot;London                                           \n",
       "2  johnson81;4081;30no86;cj4081;Craig;Johnson;Dep...                                           \n",
       "3  jenkins46;9346;14ju73;mj9346;Mary;Jenkins;Engi...                                           \n",
       "4  smith79;5079;09ja61;js5079;Jamie;Smith;Enginee...                                           "
      ]
     },
     "execution_count": 123,
     "metadata": {},
     "output_type": "execute_result"
    }
   ],
   "source": [
    "df2"
   ]
  },
  {
   "cell_type": "markdown",
   "id": "2fa530c6",
   "metadata": {
    "user_expressions": []
   },
   "source": [
    "Oh no! It looks mangled. The problem here is that the **delimeter** is wrong. In other words, the character specifying the separation between entries is not correct. Before it was a comma (hence the \"c\" in csv file), but here it's a semicolon. \n",
    "\n",
    "Pandas can handle that. Just use the \"delimeter = \" argument as below:"
   ]
  },
  {
   "cell_type": "code",
   "execution_count": 124,
   "id": "bde4a4e1",
   "metadata": {},
   "outputs": [],
   "source": [
    "df2 = pd.read_csv(\n",
    "    \"https://support.staffbase.com/hc/en-us/article_attachments/360009197011/username-password-recovery-code.csv\",\n",
    "    delimiter=\";\",\n",
    ")"
   ]
  },
  {
   "cell_type": "code",
   "execution_count": 125,
   "id": "7cb0b9d4",
   "metadata": {},
   "outputs": [
    {
     "data": {
      "text/html": [
       "<div>\n",
       "<style scoped>\n",
       "    .dataframe tbody tr th:only-of-type {\n",
       "        vertical-align: middle;\n",
       "    }\n",
       "\n",
       "    .dataframe tbody tr th {\n",
       "        vertical-align: top;\n",
       "    }\n",
       "\n",
       "    .dataframe thead th {\n",
       "        text-align: right;\n",
       "    }\n",
       "</style>\n",
       "<table border=\"1\" class=\"dataframe\">\n",
       "  <thead>\n",
       "    <tr style=\"text-align: right;\">\n",
       "      <th></th>\n",
       "      <th>Username</th>\n",
       "      <th>Identifier</th>\n",
       "      <th>One-time password</th>\n",
       "      <th>Recovery code</th>\n",
       "      <th>First name</th>\n",
       "      <th>Last name</th>\n",
       "      <th>Department</th>\n",
       "      <th>Location</th>\n",
       "    </tr>\n",
       "  </thead>\n",
       "  <tbody>\n",
       "    <tr>\n",
       "      <th>0</th>\n",
       "      <td>booker12</td>\n",
       "      <td>9012</td>\n",
       "      <td>12se74</td>\n",
       "      <td>rb9012</td>\n",
       "      <td>Rachel</td>\n",
       "      <td>Booker</td>\n",
       "      <td>Sales</td>\n",
       "      <td>Manchester</td>\n",
       "    </tr>\n",
       "    <tr>\n",
       "      <th>1</th>\n",
       "      <td>grey07</td>\n",
       "      <td>2070</td>\n",
       "      <td>04ap67</td>\n",
       "      <td>lg2070</td>\n",
       "      <td>Laura</td>\n",
       "      <td>Grey</td>\n",
       "      <td>Depot</td>\n",
       "      <td>London</td>\n",
       "    </tr>\n",
       "    <tr>\n",
       "      <th>2</th>\n",
       "      <td>johnson81</td>\n",
       "      <td>4081</td>\n",
       "      <td>30no86</td>\n",
       "      <td>cj4081</td>\n",
       "      <td>Craig</td>\n",
       "      <td>Johnson</td>\n",
       "      <td>Depot</td>\n",
       "      <td>London</td>\n",
       "    </tr>\n",
       "    <tr>\n",
       "      <th>3</th>\n",
       "      <td>jenkins46</td>\n",
       "      <td>9346</td>\n",
       "      <td>14ju73</td>\n",
       "      <td>mj9346</td>\n",
       "      <td>Mary</td>\n",
       "      <td>Jenkins</td>\n",
       "      <td>Engineering</td>\n",
       "      <td>Manchester</td>\n",
       "    </tr>\n",
       "    <tr>\n",
       "      <th>4</th>\n",
       "      <td>smith79</td>\n",
       "      <td>5079</td>\n",
       "      <td>09ja61</td>\n",
       "      <td>js5079</td>\n",
       "      <td>Jamie</td>\n",
       "      <td>Smith</td>\n",
       "      <td>Engineering</td>\n",
       "      <td>Manchester</td>\n",
       "    </tr>\n",
       "  </tbody>\n",
       "</table>\n",
       "</div>"
      ],
      "text/plain": [
       "    Username   Identifier One-time password Recovery code First name  \\\n",
       "0   booker12         9012            12se74        rb9012     Rachel   \n",
       "1     grey07         2070            04ap67        lg2070      Laura   \n",
       "2  johnson81         4081            30no86        cj4081      Craig   \n",
       "3  jenkins46         9346            14ju73        mj9346       Mary   \n",
       "4    smith79         5079            09ja61        js5079      Jamie   \n",
       "\n",
       "  Last name   Department    Location  \n",
       "0    Booker        Sales  Manchester  \n",
       "1      Grey        Depot      London  \n",
       "2   Johnson        Depot      London  \n",
       "3   Jenkins  Engineering  Manchester  \n",
       "4     Smith  Engineering  Manchester  "
      ]
     },
     "execution_count": 125,
     "metadata": {},
     "output_type": "execute_result"
    }
   ],
   "source": [
    "df2"
   ]
  },
  {
   "cell_type": "markdown",
   "id": "16c6b99f",
   "metadata": {
    "user_expressions": []
   },
   "source": [
    "and voila! It's fixed. The same can even be done if the delimiter is whitespace, in which case you want to use the delim_whitespace = True argument to read_csv().In short: pandas can handle data that is not simply a generic .csv file."
   ]
  },
  {
   "cell_type": "markdown",
   "id": "0a2429e8",
   "metadata": {
    "user_expressions": []
   },
   "source": [
    "## 2e. Saving Dataframes"
   ]
  },
  {
   "cell_type": "markdown",
   "id": "8dcd5f7c",
   "metadata": {
    "user_expressions": []
   },
   "source": [
    "To save a dataframe (e.g., after you have made edits), one need only call .to_csv():"
   ]
  },
  {
   "cell_type": "code",
   "execution_count": 126,
   "id": "98e18597",
   "metadata": {},
   "outputs": [],
   "source": [
    "df.to_csv(\"Modified_data.csv\")"
   ]
  },
  {
   "cell_type": "markdown",
   "id": "910b79a8",
   "metadata": {
    "user_expressions": []
   },
   "source": [
    "which will save your file."
   ]
  },
  {
   "cell_type": "markdown",
   "id": "aa6e6ae1",
   "metadata": {
    "user_expressions": []
   },
   "source": [
    "# 3. Creating Dataframes \"From Scratch'': a great way to save results"
   ]
  },
  {
   "cell_type": "markdown",
   "id": "9c0aad57",
   "metadata": {
    "user_expressions": []
   },
   "source": [
    "Oftentimes, we don't have begin data in a file, but we want to save the data into one. For example, one situation that often comes up in research is that you have run trials / a Monte Carlo simulation and you want a way to export that information (e.g., for exact reproducibility of your plots). \n",
    "\n",
    "Let's generate some mock data to demonstrate this:"
   ]
  },
  {
   "cell_type": "code",
   "execution_count": 127,
   "id": "1e5af7d6",
   "metadata": {},
   "outputs": [],
   "source": [
    "array_1 = np.random.normal(size=1000)\n",
    "array_2 = 10 * array_1"
   ]
  },
  {
   "cell_type": "markdown",
   "id": "a0eac35e",
   "metadata": {
    "user_expressions": []
   },
   "source": [
    "and here's how to make that into a dataframe assuming each array above is its own column:"
   ]
  },
  {
   "cell_type": "code",
   "execution_count": 128,
   "id": "2b164945",
   "metadata": {},
   "outputs": [],
   "source": [
    "combined = np.column_stack([array_1, array_2])"
   ]
  },
  {
   "cell_type": "code",
   "execution_count": 129,
   "id": "82fd9b86",
   "metadata": {},
   "outputs": [],
   "source": [
    "new_dataframe = pd.DataFrame(combined)"
   ]
  },
  {
   "cell_type": "code",
   "execution_count": 130,
   "id": "1e16a3c7",
   "metadata": {},
   "outputs": [
    {
     "data": {
      "text/html": [
       "<div>\n",
       "<style scoped>\n",
       "    .dataframe tbody tr th:only-of-type {\n",
       "        vertical-align: middle;\n",
       "    }\n",
       "\n",
       "    .dataframe tbody tr th {\n",
       "        vertical-align: top;\n",
       "    }\n",
       "\n",
       "    .dataframe thead th {\n",
       "        text-align: right;\n",
       "    }\n",
       "</style>\n",
       "<table border=\"1\" class=\"dataframe\">\n",
       "  <thead>\n",
       "    <tr style=\"text-align: right;\">\n",
       "      <th></th>\n",
       "      <th>0</th>\n",
       "      <th>1</th>\n",
       "    </tr>\n",
       "  </thead>\n",
       "  <tbody>\n",
       "    <tr>\n",
       "      <th>0</th>\n",
       "      <td>0.600289</td>\n",
       "      <td>6.002889</td>\n",
       "    </tr>\n",
       "    <tr>\n",
       "      <th>1</th>\n",
       "      <td>0.835341</td>\n",
       "      <td>8.353410</td>\n",
       "    </tr>\n",
       "    <tr>\n",
       "      <th>2</th>\n",
       "      <td>0.876270</td>\n",
       "      <td>8.762703</td>\n",
       "    </tr>\n",
       "    <tr>\n",
       "      <th>3</th>\n",
       "      <td>1.515567</td>\n",
       "      <td>15.155666</td>\n",
       "    </tr>\n",
       "    <tr>\n",
       "      <th>4</th>\n",
       "      <td>-0.140828</td>\n",
       "      <td>-1.408279</td>\n",
       "    </tr>\n",
       "    <tr>\n",
       "      <th>...</th>\n",
       "      <td>...</td>\n",
       "      <td>...</td>\n",
       "    </tr>\n",
       "    <tr>\n",
       "      <th>995</th>\n",
       "      <td>-1.444972</td>\n",
       "      <td>-14.449715</td>\n",
       "    </tr>\n",
       "    <tr>\n",
       "      <th>996</th>\n",
       "      <td>0.467964</td>\n",
       "      <td>4.679637</td>\n",
       "    </tr>\n",
       "    <tr>\n",
       "      <th>997</th>\n",
       "      <td>1.380318</td>\n",
       "      <td>13.803183</td>\n",
       "    </tr>\n",
       "    <tr>\n",
       "      <th>998</th>\n",
       "      <td>-0.835870</td>\n",
       "      <td>-8.358704</td>\n",
       "    </tr>\n",
       "    <tr>\n",
       "      <th>999</th>\n",
       "      <td>0.457075</td>\n",
       "      <td>4.570748</td>\n",
       "    </tr>\n",
       "  </tbody>\n",
       "</table>\n",
       "<p>1000 rows × 2 columns</p>\n",
       "</div>"
      ],
      "text/plain": [
       "            0          1\n",
       "0    0.600289   6.002889\n",
       "1    0.835341   8.353410\n",
       "2    0.876270   8.762703\n",
       "3    1.515567  15.155666\n",
       "4   -0.140828  -1.408279\n",
       "..        ...        ...\n",
       "995 -1.444972 -14.449715\n",
       "996  0.467964   4.679637\n",
       "997  1.380318  13.803183\n",
       "998 -0.835870  -8.358704\n",
       "999  0.457075   4.570748\n",
       "\n",
       "[1000 rows x 2 columns]"
      ]
     },
     "execution_count": 130,
     "metadata": {},
     "output_type": "execute_result"
    }
   ],
   "source": [
    "new_dataframe"
   ]
  },
  {
   "cell_type": "markdown",
   "id": "ba49a7e8",
   "metadata": {
    "user_expressions": []
   },
   "source": [
    "This obviously doesn't have column names, but we can add them easily:"
   ]
  },
  {
   "cell_type": "code",
   "execution_count": 131,
   "id": "cf776248",
   "metadata": {},
   "outputs": [
    {
     "data": {
      "text/html": [
       "<div>\n",
       "<style scoped>\n",
       "    .dataframe tbody tr th:only-of-type {\n",
       "        vertical-align: middle;\n",
       "    }\n",
       "\n",
       "    .dataframe tbody tr th {\n",
       "        vertical-align: top;\n",
       "    }\n",
       "\n",
       "    .dataframe thead th {\n",
       "        text-align: right;\n",
       "    }\n",
       "</style>\n",
       "<table border=\"1\" class=\"dataframe\">\n",
       "  <thead>\n",
       "    <tr style=\"text-align: right;\">\n",
       "      <th></th>\n",
       "      <th>col1</th>\n",
       "      <th>col2</th>\n",
       "    </tr>\n",
       "  </thead>\n",
       "  <tbody>\n",
       "    <tr>\n",
       "      <th>0</th>\n",
       "      <td>0.600289</td>\n",
       "      <td>6.002889</td>\n",
       "    </tr>\n",
       "    <tr>\n",
       "      <th>1</th>\n",
       "      <td>0.835341</td>\n",
       "      <td>8.353410</td>\n",
       "    </tr>\n",
       "    <tr>\n",
       "      <th>2</th>\n",
       "      <td>0.876270</td>\n",
       "      <td>8.762703</td>\n",
       "    </tr>\n",
       "    <tr>\n",
       "      <th>3</th>\n",
       "      <td>1.515567</td>\n",
       "      <td>15.155666</td>\n",
       "    </tr>\n",
       "    <tr>\n",
       "      <th>4</th>\n",
       "      <td>-0.140828</td>\n",
       "      <td>-1.408279</td>\n",
       "    </tr>\n",
       "  </tbody>\n",
       "</table>\n",
       "</div>"
      ],
      "text/plain": [
       "       col1       col2\n",
       "0  0.600289   6.002889\n",
       "1  0.835341   8.353410\n",
       "2  0.876270   8.762703\n",
       "3  1.515567  15.155666\n",
       "4 -0.140828  -1.408279"
      ]
     },
     "execution_count": 131,
     "metadata": {},
     "output_type": "execute_result"
    }
   ],
   "source": [
    "new_dataframe.columns = [\"col1\", \"col2\"]\n",
    "new_dataframe.head()"
   ]
  },
  {
   "cell_type": "markdown",
   "id": "342e04d4-6996-4d49-86f2-bcec6ec7ebcd",
   "metadata": {
    "user_expressions": []
   },
   "source": [
    "**Using Dictionaries**"
   ]
  },
  {
   "cell_type": "markdown",
   "id": "2c511cfc-8da9-48c5-addb-ef3bb2eef45f",
   "metadata": {
    "user_expressions": []
   },
   "source": [
    "The same can also be achieved using dictionaries and the from_dict() method. For example,"
   ]
  },
  {
   "cell_type": "code",
   "execution_count": 132,
   "id": "02a26228-598c-4d32-bcb5-5a2ce67aac75",
   "metadata": {},
   "outputs": [
    {
     "data": {
      "text/html": [
       "<div>\n",
       "<style scoped>\n",
       "    .dataframe tbody tr th:only-of-type {\n",
       "        vertical-align: middle;\n",
       "    }\n",
       "\n",
       "    .dataframe tbody tr th {\n",
       "        vertical-align: top;\n",
       "    }\n",
       "\n",
       "    .dataframe thead th {\n",
       "        text-align: right;\n",
       "    }\n",
       "</style>\n",
       "<table border=\"1\" class=\"dataframe\">\n",
       "  <thead>\n",
       "    <tr style=\"text-align: right;\">\n",
       "      <th></th>\n",
       "      <th>col1</th>\n",
       "      <th>col2</th>\n",
       "    </tr>\n",
       "  </thead>\n",
       "  <tbody>\n",
       "    <tr>\n",
       "      <th>0</th>\n",
       "      <td>0.600289</td>\n",
       "      <td>6.002889</td>\n",
       "    </tr>\n",
       "    <tr>\n",
       "      <th>1</th>\n",
       "      <td>0.835341</td>\n",
       "      <td>8.353410</td>\n",
       "    </tr>\n",
       "    <tr>\n",
       "      <th>2</th>\n",
       "      <td>0.876270</td>\n",
       "      <td>8.762703</td>\n",
       "    </tr>\n",
       "    <tr>\n",
       "      <th>3</th>\n",
       "      <td>1.515567</td>\n",
       "      <td>15.155666</td>\n",
       "    </tr>\n",
       "    <tr>\n",
       "      <th>4</th>\n",
       "      <td>-0.140828</td>\n",
       "      <td>-1.408279</td>\n",
       "    </tr>\n",
       "  </tbody>\n",
       "</table>\n",
       "</div>"
      ],
      "text/plain": [
       "       col1       col2\n",
       "0  0.600289   6.002889\n",
       "1  0.835341   8.353410\n",
       "2  0.876270   8.762703\n",
       "3  1.515567  15.155666\n",
       "4 -0.140828  -1.408279"
      ]
     },
     "execution_count": 132,
     "metadata": {},
     "output_type": "execute_result"
    }
   ],
   "source": [
    "data_dictionary = {\"col1\": array_1, \"col2\": array_2}\n",
    "new_dataframe = pd.DataFrame.from_dict(data_dictionary)\n",
    "new_dataframe.head()"
   ]
  },
  {
   "cell_type": "markdown",
   "id": "f5c596f3",
   "metadata": {
    "user_expressions": []
   },
   "source": [
    "# 4. Filtering Data"
   ]
  },
  {
   "cell_type": "markdown",
   "id": "4b62d389",
   "metadata": {
    "user_expressions": []
   },
   "source": [
    "What if we want to access subsets of the data? **It's just like numpy arrays!** You just pass the columns instead. For example,"
   ]
  },
  {
   "cell_type": "code",
   "execution_count": 133,
   "id": "aff2c0ed",
   "metadata": {},
   "outputs": [
    {
     "data": {
      "text/plain": [
       "0       False\n",
       "1       False\n",
       "2       False\n",
       "3       False\n",
       "4       False\n",
       "        ...  \n",
       "8049    False\n",
       "8050    False\n",
       "8051    False\n",
       "8052    False\n",
       "8053    False\n",
       "Name: pmra, Length: 8054, dtype: bool"
      ]
     },
     "execution_count": 133,
     "metadata": {},
     "output_type": "execute_result"
    }
   ],
   "source": [
    "filter1 = df[\"pmra\"] > 1\n",
    "filter1"
   ]
  },
  {
   "cell_type": "markdown",
   "id": "5ef33756",
   "metadata": {
    "tags": [],
    "user_expressions": []
   },
   "source": [
    "This generates a Series full of boolean (True/False) values. This might not be very useful on its own, but if we wanted to fully isolate the rows, we could use these booleans to create a new dataframe that meets our condtion. For example,"
   ]
  },
  {
   "cell_type": "code",
   "execution_count": 136,
   "id": "8219c752",
   "metadata": {},
   "outputs": [],
   "source": [
    "filtered_dataframe = df[filter1]"
   ]
  },
  {
   "cell_type": "markdown",
   "id": "dd3fa0eb",
   "metadata": {
    "user_expressions": []
   },
   "source": [
    "The same works with multiple conditions (and can be done in one line - just watch parantheses placement):"
   ]
  },
  {
   "cell_type": "code",
   "execution_count": 137,
   "id": "0af449bb",
   "metadata": {},
   "outputs": [],
   "source": [
    "filtered_dataframe = df[(df[\"pmra\"] > 4) & (df[\"pmra\"] > 4)]"
   ]
  },
  {
   "cell_type": "markdown",
   "id": "323fb73f",
   "metadata": {
    "user_expressions": []
   },
   "source": [
    "# 5. Plotting Data "
   ]
  },
  {
   "cell_type": "markdown",
   "id": "ffa45c11",
   "metadata": {
    "user_expressions": []
   },
   "source": [
    "Pandas dataframe columns can be passed to matplotlib just like any other numpy array. Let's see how that works:"
   ]
  },
  {
   "cell_type": "code",
   "execution_count": 138,
   "id": "a7adc954",
   "metadata": {},
   "outputs": [
    {
     "data": {
      "text/plain": [
       "<matplotlib.collections.PathCollection at 0x7febfe7fa510>"
      ]
     },
     "execution_count": 138,
     "metadata": {},
     "output_type": "execute_result"
    },
    {
     "data": {
      "image/png": "[encoded data removed]",
      "text/plain": [
       "<Figure size 640x480 with 1 Axes>"
      ]
     },
     "metadata": {},
     "output_type": "display_data"
    }
   ],
   "source": [
    "plt.scatter(new_dataframe[\"col1\"], new_dataframe[\"col2\"])"
   ]
  },
  {
   "cell_type": "markdown",
   "id": "f24f5612",
   "metadata": {
    "user_expressions": []
   },
   "source": [
    "An entirely equivalent method is to do as follows:"
   ]
  },
  {
   "cell_type": "code",
   "execution_count": 139,
   "id": "2852a145",
   "metadata": {},
   "outputs": [
    {
     "data": {
      "text/plain": [
       "<AxesSubplot:xlabel='col1', ylabel='col2'>"
      ]
     },
     "execution_count": 139,
     "metadata": {},
     "output_type": "execute_result"
    },
    {
     "data": {
      "image/png": "[encoded data removed]",
      "text/plain": [
       "<Figure size 640x480 with 1 Axes>"
      ]
     },
     "metadata": {},
     "output_type": "display_data"
    }
   ],
   "source": [
    "new_dataframe.plot.scatter(\"col1\", \"col2\")"
   ]
  },
  {
   "cell_type": "markdown",
   "id": "15ea6a00",
   "metadata": {
    "user_expressions": []
   },
   "source": [
    "This one comes with free labels!"
   ]
  },
  {
   "cell_type": "markdown",
   "id": "c4e895cc-ce15-4b48-80c7-1300fa391ac9",
   "metadata": {
    "tags": [],
    "user_expressions": []
   },
   "source": [
    ":::{admonition} Exercise: Plotting a Hertzsprung-Russell Diagram of the Globular Cluster M92 using Data from the Gaia Mission \n",
    ":class: tip\n",
    "\n",
    "\n",
    "The *Gaia* satellite has collected stellar positions, motions, and brightnesses for nearly two billion stars in the Milky Way. The file \"GaiaM92.csv\" contains example data from *Gaia* specifically for the globular star cluster Messier 92 (M92). To investigate the data, take the following steps:\n",
    "\n",
    "1. Load the .csv file into a dataframe called m92_data. Each row in this datafile is an individual star.\n",
    "\n",
    "2. Plot a histogram of the column \"phot_g_mean_mag\". This is the column that contains the brightnesses of stars.  What do you notice about the distribution?\n",
    "\n",
    "3. Now, make a scatterplot with the column \"bp_rp\" (a proxy for color) on the x-axis and \"phot_g_mean_mag\" (a proxy for luminosity) on the y-axis. Is the distribution in this plane uniform, or do you see patterns/sequences.\n",
    "\n",
    "4. Clean up the scatterplot from part 3: first, invert the y-axis so smaller numbers are at the top of the plot, and limit the x range to -0.5 to 2.  Then, change the marker size and color to be small, black points. Lastly, label both axes something physically meaningful (not just the column names)\n",
    "\n",
    "5. Compare your diagram to the one shown at this link: [Cluster HR Diagram](https://www.mps.mpg.de/5484970/original-1534168518.png?t=eyJ3aWR0aCI6ODAwLCJoZWlnaHQiOjYwMCwib2JqX2lkIjo1NDg0OTcwfQ==--5f4cb09228b20d5b3a71fbd40fa5a346ee619316). Can you observe the same features in your plot?\n"
   ]
  }
 ],
 "metadata": {
  "kernelspec": {
   "display_name": "Python 3",
   "language": "python",
   "name": "python3"
  },
  "language_info": {
   "codemirror_mode": {
    "name": "ipython",
    "version": 3
   },
   "file_extension": ".py",
   "mimetype": "text/x-python",
   "name": "python",
   "nbconvert_exporter": "python",
   "pygments_lexer": "ipython3",
   "version": "3.7.16"
  }
 },
 "nbformat": 4,
 "nbformat_minor": 5
}
