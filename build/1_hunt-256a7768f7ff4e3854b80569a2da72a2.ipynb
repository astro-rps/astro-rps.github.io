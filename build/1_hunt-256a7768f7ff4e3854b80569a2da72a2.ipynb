{
 "cells": [
  {
   "cell_type": "markdown",
   "id": "fa284559-21b4-4b0a-824d-fdcaf3cbf498",
   "metadata": {},
   "source": [
    "# Unix Scavenger Hunt!"
   ]
  },
  {
   "cell_type": "markdown",
   "id": "1b40f454-e221-473e-8c7b-4b1e85400de4",
   "metadata": {},
   "source": [
    "## Introduction\n",
    "Welcome to the Unix Scavenger Hunt! This activity is designed to help you explore and become more comfortable with Unix commands. Each prompt is a mini adventure where you'll use the terminal to accomplish specific tasks. Feel free to try the challenge in any order!\n",
    "\n",
    "## Rules\n",
    "- You can use Google and other resources to find the commands and solutions, but try using `man` and `-h` first to see if the documentation makes sense!\n",
    "- Make sure to write down/document the commands you use and what those commands do. We will go around and share what we learned at the end of the class time.\n",
    "- Try to stick to terminal - don't use your machine's GUI to get to the solutions!\n",
    "- Have fun and enjoy the exploration!"
   ]
  },
  {
   "cell_type": "markdown",
   "id": "842c414a-e10d-486d-97b5-c4643e14e6f0",
   "metadata": {},
   "source": [
    ":::{hint} One General Tip!\n",
    ":class:hint\n",
    "The `man` command (stands for manual) prints detailed help information for unix commands and can help you throughout this exercise! You can call up the manual for a command like so: `man ls`. This opens a vim like editor that you can scroll through (with your mouse or arrow keys depending on your terminal set up). To exit the manual, press `q`. \n",
    ":::\n"
   ]
  },
  {
   "cell_type": "markdown",
   "id": "43624fd2-6f14-46bc-b084-5152bd5a654d",
   "metadata": {},
   "source": [
    "## Scavenger Hunt Challenges\n",
    "\n",
    "We are sharing a folder with all of you via Slack. Everyone should download a copy of this folder onto their machine for this exercise. "
   ]
  },
  {
   "cell_type": "markdown",
   "id": "e1c94a48-8822-42e9-85cd-3bdec12d921c",
   "metadata": {},
   "source": [
    "### Challenge 1: The Hidden Treasure\n",
    "Find a file named \"treasure.txt.\" Navigate to it, retrieve the contents of the file, and share what you've discovered!\n",
    "\n",
    ":::{hint} Open for Hint\n",
    ":class:dropdown\n",
    "Here are some ideas:\n",
    "  - Consider the `grep` command!\n",
    "  - You can use `cat`, `less`, or more to view the contents of a file. Like for `man`, close the opened program by hitting `q`.\n",
    "  - Hard Mode: try using an editor like `vim` or `nano` to read the file!\n",
    ":::\n"
   ]
  },
  {
   "cell_type": "markdown",
   "id": "b84ca2eb-696d-4460-ab71-dc5c84cdf5f9",
   "metadata": {},
   "source": [
    "### Challenge 2: Mysterious Sizes\n",
    "Try to find the directoy with the biggest size in the folder we shared with you. Now try to find the largest individual file. Share the directory name (and/or file name), size, and the command you used to find it.\n",
    "\n",
    ":::{hint} Open for Hint\n",
    ":class:dropdown\n",
    "Here are some ideas:\n",
    "  - Look into available flags for the `ls` command\n",
    "  - Consider the `du` command, and play around with which flags you can use!\n",
    ":::\n"
   ]
  },
  {
   "cell_type": "markdown",
   "id": "42817722-580a-4ead-9d54-cc0977a239a3",
   "metadata": {},
   "source": [
    "### Challenge 3: The Time Traveler\n",
    "Find a file with a modification date that is at least one month ago and change its timestamp! \n",
    "\n",
    ":::{hint} Open for Hint\n",
    ":class:dropdown\n",
    "Here are some ideas:\n",
    "  - Recall we can us `ls -l` to view file details\n",
    "  - Consider the `touch` command!\n",
    ":::\n"
   ]
  },
  {
   "cell_type": "markdown",
   "id": "9db66586-fa31-4a49-a0df-3cd817faedfa",
   "metadata": {},
   "source": [
    "### Challenge 4: The Artist\n",
    "Create a new directory named \"masterpiece\" and populate it with text files, each containing a line from your favorite quote or poem. Use an editor (either `vim` or `nano`, but I recommend `vim`!) to make your files. Share the commands you used to create and populate the directory.\n",
    "\n",
    "Then, use a command to print out all your lines of poetry (across the files) one after the other.\n",
    "\n",
    ":::{hint} Open for Hint\n",
    ":class:dropdown\n",
    "Here are some ideas:\n",
    "  - Utilize commands like `mkdir` to create folders. You can use `vim` to generate files!\n",
    "  - Consider the `cat` command to print your poems! \n",
    "  - For printing all lines, there is a way with both `grep` and `head`, both of which use the wildcard `*`!\n",
    ":::\n"
   ]
  },
  {
   "cell_type": "markdown",
   "id": "a23803ea-62d6-4666-9a5c-e1f357711fc1",
   "metadata": {},
   "source": [
    "### Challenge 5: Pipe Explorer\n",
    "\n",
    "Navigate to a directory containing multiple text files. Use a combination of commands and piping to find and count the number of lines in each text file. Share your results, showing the filename and the corresponding line count for each text file.\n",
    "\n",
    ":::{hint} Open for Hint\n",
    ":class:dropdown\n",
    "Here are some ideas:\n",
    "   - Consider using `find` to locate text files and `wc -l` to count lines.\n",
    ":::\n"
   ]
  },
  {
   "cell_type": "markdown",
   "id": "0507a695-3ae8-43e4-952b-96406d3dbf20",
   "metadata": {},
   "source": [
    "## Conclusion\n",
    "Remember, the goal is to have fun and gain hands-on experience with Unix commands. Feel free to experiment and explore beyond the prompts. Happy scavenger hunting!"
   ]
  }
 ],
 "metadata": {
  "kernelspec": {
   "display_name": "Python [conda env:astro-rps] *",
   "language": "python",
   "name": "conda-env-astro-rps-py"
  },
  "language_info": {
   "codemirror_mode": {
    "name": "ipython",
    "version": 3
   },
   "file_extension": ".py",
   "mimetype": "text/x-python",
   "name": "python",
   "nbconvert_exporter": "python",
   "pygments_lexer": "ipython3",
   "version": "3.11.6"
  }
 },
 "nbformat": 4,
 "nbformat_minor": 5
}
