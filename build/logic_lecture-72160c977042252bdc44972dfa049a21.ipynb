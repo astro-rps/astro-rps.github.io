{
 "cells": [
  {
   "cell_type": "markdown",
   "metadata": {},
   "source": [
    "# Logic Flow and Error Parsing"
   ]
  },
  {
   "cell_type": "markdown",
   "metadata": {},
   "source": [
    "\n",
    "## Part 1: \"if/else\"\n",
    "\n",
    "Lets talk about logic flow and start with the simplist example"
   ]
  },
  {
   "cell_type": "code",
   "execution_count": 1,
   "metadata": {},
   "outputs": [
    {
     "name": "stdout",
     "output_type": "stream",
     "text": [
      "5 is an odd number.\n"
     ]
    }
   ],
   "source": [
    "# Get input from the user\n",
    "number = int(input(\"Enter a number: \"))\n",
    "\n",
    "# Check if the number is even or odd\n",
    "if number % 2 == 0:\n",
    "    print(f\"{number} is an even number.\")\n",
    "else:\n",
    "    print(f\"{number} is an odd number.\")\n"
   ]
  },
  {
   "cell_type": "markdown",
   "metadata": {},
   "source": [
    "this is the simple syntax of the `if` and `else` statements we can to make to decide if a number is odd or even. Notice the indentation for each statment!"
   ]
  },
  {
   "cell_type": "code",
   "execution_count": 2,
   "metadata": {},
   "outputs": [
    {
     "name": "stdout",
     "output_type": "stream",
     "text": [
      "You entered zero.\n"
     ]
    }
   ],
   "source": [
    "# Get input from the user\n",
    "number = int(input(\"Enter a number: \"))\n",
    "\n",
    "# Check if the number is even, odd, or zero\n",
    "if number == 0:\n",
    "    print(\"You entered zero.\")\n",
    "elif number % 2 == 0:\n",
    "    print(f\"{number} is an even number.\")\n",
    "else:\n",
    "    print(f\"{number} is an odd number.\")\n"
   ]
  },
  {
   "cell_type": "markdown",
   "metadata": {},
   "source": [
    "you can add to this scheme using the `elif` call which works as another possible \"bucket\" for your number to land in. \n",
    "\n",
    "You can have as many `elif` statements as you want but you only get one `else` statement."
   ]
  },
  {
   "cell_type": "markdown",
   "metadata": {},
   "source": [
    "## Part 2: \"Try/Except\"\n",
    "\n",
    "Okay but you might be wondering: what if the user doesn't input a number? what if the user accidently types in a letter or symbol instead?"
   ]
  },
  {
   "cell_type": "code",
   "execution_count": 4,
   "metadata": {},
   "outputs": [
    {
     "name": "stdout",
     "output_type": "stream",
     "text": [
      "Error: Please enter a valid numeric input.\n"
     ]
    }
   ],
   "source": [
    "# Get input from the user, handling non-numeric input\n",
    "try:\n",
    "    number = int(input(\"Enter a number: \"))\n",
    "    \n",
    "    # Check if the number is even, odd, or zero\n",
    "    if number == 0:\n",
    "        print(\"You entered zero.\")\n",
    "    elif number % 2 == 0:\n",
    "        print(f\"{number} is an even number.\")\n",
    "    else:\n",
    "        print(f\"{number} is an odd number.\")\n",
    "\n",
    "except ValueError:\n",
    "    print(\"Error: Please enter a valid numeric input.\")\n"
   ]
  },
  {
   "cell_type": "markdown",
   "metadata": {},
   "source": [
    "Importantly, this `try` and `except` statement is specific to the `ValueError` error message and would not work for other common error messages. Again, notice the indentation scheme!\n",
    "\n",
    "This is an incredibly useful way of writing code since it lets your user know exactly where they have made some mistake!\n",
    "\n",
    "Here is another example in which you expect different error messages:"
   ]
  },
  {
   "cell_type": "code",
   "execution_count": 9,
   "metadata": {},
   "outputs": [
    {
     "name": "stdout",
     "output_type": "stream",
     "text": [
      "Error: The file 'sa' was not found.\n"
     ]
    }
   ],
   "source": [
    "try:\n",
    "    # Attempt to open a file for reading\n",
    "    file_path = input(\"Enter the path to a file: \")\n",
    "    with open(file_path, 'r') as file:\n",
    "        # Read and print the contents of the file\n",
    "        content = file.read()\n",
    "        print(\"File content:\")\n",
    "        print(content)\n",
    "\n",
    "except FileNotFoundError:\n",
    "    print(f\"Error: The file '{file_path}' was not found.\")\n",
    "\n",
    "except PermissionError:\n",
    "    print(f\"Error: You don't have permission to read the file '{file_path}'.\")\n",
    "\n",
    "except Exception as e:\n",
    "    print(f\"An unexpected error occurred: {e}\")"
   ]
  },
  {
   "cell_type": "markdown",
   "metadata": {},
   "source": [
    "## Part 3: Error Messages!"
   ]
  },
  {
   "cell_type": "markdown",
   "metadata": {},
   "source": [
    "This brings us nicely to our next topic: error messages. \n",
    "\n",
    "Yes they can be intimidating but if you look past your intial feeling of (embarresment/anxiety/guilt/rage) you can find some pretty useful stuff hidden in the red writing!\n",
    "\n",
    "In the loop lecture we tried to do the following:"
   ]
  },
  {
   "cell_type": "code",
   "execution_count": 7,
   "metadata": {},
   "outputs": [],
   "source": [
    "list_Mon = [5, 12, 3, 5, 67, 1, 2, 34, 2, 89]\n",
    "\n",
    "list_Tues = [15, 45, 21, 2, 8, 9, 54, 99, 17, 51]\n",
    "\n",
    "list_Wed = [32, 65, 11, 9, 5, 75, 21, 14, 39, 71]"
   ]
  },
  {
   "cell_type": "code",
   "execution_count": 10,
   "metadata": {},
   "outputs": [
    {
     "ename": "TypeError",
     "evalue": "'>' not supported between instances of 'list' and 'int'",
     "output_type": "error",
     "traceback": [
      "\u001b[0;31m---------------------------------------------------------------------------\u001b[0m",
      "\u001b[0;31mTypeError\u001b[0m                                 Traceback (most recent call last)",
      "\u001b[1;32m/Users/jsmonzon/Research/materials-development/Week3/logic_lecture.ipynb Cell 14\u001b[0m line \u001b[0;36m8\n\u001b[1;32m      <a href='vscode-notebook-cell:/Users/jsmonzon/Research/materials-development/Week3/logic_lecture.ipynb#X64sZmlsZQ%3D%3D?line=4'>5</a>\u001b[0m list_Wed \u001b[39m=\u001b[39m [\u001b[39m32\u001b[39m, \u001b[39m65\u001b[39m, \u001b[39m11\u001b[39m, \u001b[39m9\u001b[39m, \u001b[39m5\u001b[39m, \u001b[39m75\u001b[39m, \u001b[39m21\u001b[39m, \u001b[39m14\u001b[39m, \u001b[39m39\u001b[39m, \u001b[39m71\u001b[39m]\n\u001b[1;32m      <a href='vscode-notebook-cell:/Users/jsmonzon/Research/materials-development/Week3/logic_lecture.ipynb#X64sZmlsZQ%3D%3D?line=6'>7</a>\u001b[0m min_age \u001b[39m=\u001b[39m \u001b[39m2023\u001b[39m \u001b[39m-\u001b[39m \u001b[39m2001\u001b[39m\n\u001b[0;32m----> <a href='vscode-notebook-cell:/Users/jsmonzon/Research/materials-development/Week3/logic_lecture.ipynb#X64sZmlsZQ%3D%3D?line=7'>8</a>\u001b[0m list_Mon \u001b[39m>\u001b[39;49m min_age\n",
      "\u001b[0;31mTypeError\u001b[0m: '>' not supported between instances of 'list' and 'int'"
     ]
    }
   ],
   "source": [
    "list_Mon = [5, 12, 3, 5, 67, 1, 2, 34, 2, 89]\n",
    "\n",
    "list_Tues = [15, 45, 21, 2, 8, 9, 54, 99, 17, 51]\n",
    "\n",
    "list_Wed = [32, 65, 11, 9, 5, 75, 21, 14, 39, 71]\n",
    "\n",
    "min_age = 2023 - 2001\n",
    "list_Mon > min_age"
   ]
  },
  {
   "cell_type": "markdown",
   "metadata": {},
   "source": [
    "So here the error message is a `TypeError` and it clearly states that this operation is not supported because you are trying to compare a `list` to an `int`\n",
    "\n",
    "conviently, it also tells you the line that threw the `TypeError` (in this case line 8)\n",
    "\n",
    "more often that not, you will be working with other people's code (via packages or public tools) and often the error you get might be local! for example"
   ]
  },
  {
   "cell_type": "code",
   "execution_count": 15,
   "metadata": {},
   "outputs": [
    {
     "ename": "TypeError",
     "evalue": "unsupported operand type(s) for -: 'float' and 'str'",
     "output_type": "error",
     "traceback": [
      "\u001b[0;31m---------------------------------------------------------------------------\u001b[0m",
      "\u001b[0;31mTypeError\u001b[0m                                 Traceback (most recent call last)",
      "\u001b[1;32m/Users/jsmonzon/Research/materials-development/Week3/logic_lecture.ipynb Cell 16\u001b[0m line \u001b[0;36m3\n\u001b[1;32m      <a href='vscode-notebook-cell:/Users/jsmonzon/Research/materials-development/Week3/logic_lecture.ipynb#X65sZmlsZQ%3D%3D?line=0'>1</a>\u001b[0m \u001b[39mimport\u001b[39;00m \u001b[39mcosmolopy\u001b[39;00m\n\u001b[0;32m----> <a href='vscode-notebook-cell:/Users/jsmonzon/Research/materials-development/Week3/logic_lecture.ipynb#X65sZmlsZQ%3D%3D?line=2'>3</a>\u001b[0m cosmolopy\u001b[39m.\u001b[39;49mperturbation\u001b[39m.\u001b[39;49mfgrowth(\u001b[39m5\u001b[39;49m,\u001b[39m\"\u001b[39;49m\u001b[39mbet\u001b[39;49m\u001b[39m\"\u001b[39;49m)\n",
      "File \u001b[0;32m/opt/homebrew/Caskroom/miniconda/base/envs/subhalos/lib/python3.10/site-packages/cosmolopy/perturbation.py:183\u001b[0m, in \u001b[0;36mfgrowth\u001b[0;34m(z, omega_M_0, unnormed)\u001b[0m\n\u001b[1;32m    152\u001b[0m \u001b[39mr\u001b[39m\u001b[39m\"\"\"Cosmological perturbation growth factor, normalized to 1 at z = 0.\u001b[39;00m\n\u001b[1;32m    153\u001b[0m \u001b[39m\u001b[39;00m\n\u001b[1;32m    154\u001b[0m \u001b[39mApproximate forumla from Carol, Press, & Turner (1992, ARA&A, 30,\u001b[39;00m\n\u001b[0;32m   (...)\u001b[0m\n\u001b[1;32m    178\u001b[0m \u001b[39m\u001b[39;00m\n\u001b[1;32m    179\u001b[0m \u001b[39m\"\"\"\u001b[39;00m\n\u001b[1;32m    180\u001b[0m \u001b[39m#if cden.get_omega_k_0(**) != 0:\u001b[39;00m\n\u001b[1;32m    181\u001b[0m \u001b[39m#    raise ValueError, \"Not valid for non-flat (omega_k_0 !=0) cosmology.\"\u001b[39;00m\n\u001b[0;32m--> 183\u001b[0m omega \u001b[39m=\u001b[39m cden\u001b[39m.\u001b[39momega_M_z(z, omega_M_0\u001b[39m=\u001b[39momega_M_0, omega_lambda_0\u001b[39m=\u001b[39m\u001b[39m1.\u001b[39;49m\u001b[39m-\u001b[39;49momega_M_0)\n\u001b[1;32m    184\u001b[0m lamb \u001b[39m=\u001b[39m \u001b[39m1\u001b[39m \u001b[39m-\u001b[39m omega\n\u001b[1;32m    185\u001b[0m a \u001b[39m=\u001b[39m \u001b[39m1\u001b[39m\u001b[39m/\u001b[39m(\u001b[39m1\u001b[39m \u001b[39m+\u001b[39m z)\n",
      "\u001b[0;31mTypeError\u001b[0m: unsupported operand type(s) for -: 'float' and 'str'"
     ]
    }
   ],
   "source": [
    "import cosmolopy\n",
    "\n",
    "cosmolopy.perturbation.fgrowth(5,\"bet\") "
   ]
  },
  {
   "cell_type": "markdown",
   "metadata": {},
   "source": [
    "See now this error message is the same as before, but it shows that the error doesn't oginate in this local file, instead it was thrown in line 183 of the `cosmolopy.perturbation` code\n",
    "\n",
    "locally, the error can be traced to line 3, but it orginated elsewhere. These error messages are big reason why Python is so user friendly. Make sure to take a second to understand them!\n",
    "\n",
    "here are some common ones!"
   ]
  },
  {
   "cell_type": "markdown",
   "metadata": {},
   "source": [
    "`SyntaxError`:\n",
    "Description: This error occurs when the Python interpreter encounters a syntax that is not valid in the language.\n",
    "Example: `SyntaxError`: invalid syntax\n",
    "\n",
    "`IndentationError`:\n",
    "Description: Python relies on indentation to define blocks of code. This error occurs when there's an issue with the indentation level.\n",
    "Example: `IndentationError`: expected an indented block\n",
    "\n",
    "`NameError`:\n",
    "Description: This error occurs when a variable or name is used before it's defined.\n",
    "Example: `NameError`: name 'variable_name' is not defined\n",
    "\n",
    "`TypeError`:\n",
    "Description: This error occurs when an operation is performed on an object of an inappropriate type.\n",
    "Example: `TypeError`: unsupported operand type(s) for +: 'int' and 'str'\n",
    "\n",
    "`IndexError`:\n",
    "Description: This error occurs when trying to access an index that is outside the bounds of a sequence (e.g., list, tuple).\n",
    "Example: `IndexError`: list index out of range\n",
    "\n",
    "`FileNotFoundError`:\n",
    "Description: This error occurs when trying to open or manipulate a file that doesn't exist.\n",
    "Example: `FileNotFoundError`: [Errno 2] No such file or directory: 'filename.txt'\n",
    "\n",
    "`ValueError`:\n",
    "Description: This error occurs when a function receives an argument of the correct type but an invalid value.\n",
    "Example: `ValueError`: invalid literal for int() with base 10: 'abc'\n",
    "\n",
    "`KeyError`:\n",
    "Description: This error occurs when trying to access a dictionary key that doesn't exist.\n",
    "Example: `KeyError`: 'key_name'\n",
    "\n",
    "`ZeroDivisionError`:\n",
    "Description: This error occurs when attempting to divide by zero.\n",
    "Example: `ZeroDivisionError`: division by zero\n",
    "\n",
    "`ModuleNotFoundError`:\n",
    "Description: This error occurs when trying to import a module that cannot be found.\n",
    "Example: `ModuleNotFoundError`: No module named 'module_name'"
   ]
  }
 ],
 "metadata": {
  "kernelspec": {
   "display_name": "subhalos",
   "language": "python",
   "name": "python3"
  },
  "language_info": {
   "codemirror_mode": {
    "name": "ipython",
    "version": 3
   },
   "file_extension": ".py",
   "mimetype": "text/x-python",
   "name": "python",
   "nbconvert_exporter": "python",
   "pygments_lexer": "ipython3",
   "version": "3.10.9"
  }
 },
 "nbformat": 4,
 "nbformat_minor": 2
}
