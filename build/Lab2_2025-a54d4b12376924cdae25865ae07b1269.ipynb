{
 "cells": [
  {
   "cell_type": "markdown",
   "id": "55e384a7-aef2-42a2-aa8b-3489552bd7b3",
   "metadata": {},
   "source": [
    "# Lab 2: Practicing Numpy and Discovering New Modules, Packages, and Functions!"
   ]
  },
  {
   "cell_type": "markdown",
   "id": "6e8509d7-5056-44c1-9fe2-277a83533bb6",
   "metadata": {},
   "source": [
    "We'll start with the basic exercises that we begun in the Week 2 workshop session. "
   ]
  },
  {
   "cell_type": "markdown",
   "id": "6a18d44c-79aa-45bf-b260-b369876de7dc",
   "metadata": {},
   "source": [
    "```{tip}\n",
    "### Exercise 1a: Array Generation and Statistics  \n",
    "1. Generate an array called `a` of 1000 evenly spaced numbers between -50 and 2000.  \n",
    "2. Compute and print the **mean**, **standard deviation**, and **median** of `a`.  \n",
    "3. Compute and print the **16th and 84th percentiles** of `a`.  \n",
    "```"
   ]
  },
  {
   "cell_type": "markdown",
   "id": "ed37b71c-6c6d-43b2-a185-ed92b6cc5f44",
   "metadata": {},
   "source": [
    "```{tip}\n",
    "### Exercise 1b: Random Values and Operations  \n",
    "1. Generate an array called `b` of 1000 random values between 0 and 1.  \n",
    "2. Compute and store:  \n",
    "   - The product of `a` and `b` in `c`.  \n",
    "   - The division of `a` by `b` in `d`.  \n",
    "3. Print the arrays `c` and `d`.  \n",
    "4. Compute and print the **mean** and **standard deviation** of `c` and `d`.  \n",
    "```"
   ]
  },
  {
   "cell_type": "markdown",
   "id": "fdd14e4a-070a-434b-b7f7-29c92f95f525",
   "metadata": {},
   "source": [
    "Now, let's apply them in a more interesting context: "
   ]
  },
  {
   "cell_type": "markdown",
   "id": "bff7c42d-ff96-4788-a249-d2d489f605e5",
   "metadata": {},
   "source": [
    "```{tip}\n",
    "### Exercise 2: Deriving the Distance to a Globular Star Cluster with Parallax Measurements\n",
    "\n",
    "In this exercise, we will estimate the distances to stars in a **globular cluster** using the **parallax method**.\n",
    "\n",
    "#### Background: Globular Clusters\n",
    " A **globular cluster** is a spherical collection of old stars that are gravitationally bound. These clusters can contain thousands to millions of stars, all of which share a common origin and age. Because they are bound objects, and are compact (~a few parsec in size) compared to their distances (>> 1 kpc in the Milky Way), all of their stars can be considered as being equidistant from us to good approximation.\n",
    "\n",
    "#### Background: Parallax Measurements\n",
    "Parallax is the apparent shift in the position of an object when viewed from different angles. It’s commonly used in astronomy to measure distances to stars by observing their position from two points in Earth's orbit. \n",
    "\n",
    "The relationship between parallax shift/angle $ \\varpi $ (in arcseconds, which is a unit of angle) and distance $ d $ (in parsecs) is:\n",
    "\n",
    "$$ d = \\frac{1}{\\varpi} $$\n",
    "\n",
    "where $ d $ is in units of parsecs and $ \\varpi $ is in arcseconds.\n",
    "\n",
    "\n",
    "In theory, the stars in a globular cluster should all have the same parallax, since the stars are roughly equidistant from us. However, in practice, measurements of parallax angles can be noisy due to observational errors.  In this problem, we'll explore the implications of that for measuring the distances to clusters.\n",
    "\n",
    "\n",
    "\n",
    "#### Your Task\n",
    "\n",
    "1. Create a numpy array of fixed parallax values, each with a parallax of $ 0.001 $ arcseconds. The array should have a length of **100** (simulating 100 stars in the globular cluster). You don't need to give units to the array, but consider naming the variable something that mentions this information.\n",
    "\n",
    "2. Simulate Noisy Parallax Measurements:\n",
    "    - For each star, simulate a noisy parallax measurement by adding random noise to the true parallax value.\n",
    "    - Use numpy to add **Gaussian noise** with a mean of 0 and a standard deviation of *$ 0.0005 $ arcseconds* (this represents measurement uncertainty).\n",
    "\n",
    "3. Compute the Distances to Individual Stars:\n",
    "    - Use the formula above to compute an array of distances to the stars based on the array of noisy parallax angles.\n",
    "\n",
    "4. Compute the Cluster Distance with Uncertainties:\n",
    "    - Calculate the **mean distance** across all the stars.\n",
    "    - Calculate the **standard deviation** of the distances.\n",
    "    - Compute the **68% confidence interval** for the distance distribution by using numpy.percentile. Hint: what percentiles could you use to select for the central 68% of the distribution?  \n",
    "    - Use your results and known conversion factors to translate your answer to units of lightyears\n",
    "\n",
    "5. Interpretation\n",
    "    - Print the noisy parallax values, the computed distances, and the statistical results (mean distance, standard deviation, and confidence interval).\n",
    "    - How does the derived mean distance compare to the value that you get if you simply inverted the known parallax of 0.001 arcseconds? Explain a bit why your answer makes sense\n",
    "    \n",
    "```"
   ]
  },
  {
   "cell_type": "markdown",
   "id": "f1484c27-6709-4f42-98ab-159d186d4c62",
   "metadata": {},
   "source": [
    "We'll return to do this with real data at a later date! "
   ]
  }
 ],
 "metadata": {
  "kernelspec": {
   "display_name": "ugali_kernel",
   "language": "python",
   "name": "ugali_kernel"
  },
  "language_info": {
   "codemirror_mode": {
    "name": "ipython",
    "version": 3
   },
   "file_extension": ".py",
   "mimetype": "text/x-python",
   "name": "python",
   "nbconvert_exporter": "python",
   "pygments_lexer": "ipython3",
   "version": "3.6.8"
  }
 },
 "nbformat": 4,
 "nbformat_minor": 5
}
