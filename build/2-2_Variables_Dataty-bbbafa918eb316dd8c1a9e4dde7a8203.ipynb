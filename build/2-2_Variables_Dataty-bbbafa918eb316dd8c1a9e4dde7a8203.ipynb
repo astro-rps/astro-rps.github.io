{
 "cells": [
  {
   "cell_type": "markdown",
   "id": "6b8d3d74-a2b9-4fb9-821b-e64cb65c37e4",
   "metadata": {
    "tags": [],
    "user_expressions": []
   },
   "source": [
    "# Astro-RPS Week 2, Notebook 2: A Deep Dive into Variables and Datatypes"
   ]
  },
  {
   "cell_type": "markdown",
   "id": "ee82cbdd-7a8e-45ea-86d8-09f9d2292404",
   "metadata": {
    "tags": [],
    "user_expressions": []
   },
   "source": [
    "In the prior notebook, we introduced how to write more sophisticated multi-line codes using scripts. Here, we're going to momentarily put scripting aside and focus on introducing some basic vocabulary that we will build on throughout the series. By the end of the day, you should be able to...\n",
    "\n",
    "- Define the most important variable types in Pythons (int, float, string, list)\n",
    "- Use F-strings to refer to variables in printed strings\n",
    "- Use basic indexing to access elements of a list\n",
    "- Write codes that take in inputs from the command line \n",
    "- Understand the basic distinction between functions, objects, and variables\n",
    "\n"
   ]
  },
  {
   "cell_type": "markdown",
   "id": "a47b24f3-54a9-4de3-ac19-a4ff0d8fc5d3",
   "metadata": {
    "tags": [],
    "user_expressions": []
   },
   "source": [
    "## Variables in Python"
   ]
  },
  {
   "cell_type": "markdown",
   "id": "df196936-9ce7-4fab-8a92-186d9c567a42",
   "metadata": {
    "tags": [],
    "user_expressions": []
   },
   "source": [
    "In the previous notebook, we restricted our consideration of variables to simple numerical variables that we could add, subtract, multiply etc. easily in Python. However, variables are a lot more flexible than that in Python. To illustrate this point, here are four different valid variable definitions:"
   ]
  },
  {
   "cell_type": "markdown",
   "id": "e913dcda-b3a5-4fd9-8f82-568aee75799a",
   "metadata": {
    "tags": [],
    "user_expressions": []
   },
   "source": [
    "```{code-block} python\n",
    "# define six different Python variables\n",
    "x = -6\n",
    "width = 7.0\n",
    "animal_name = 'cat'\n",
    "dogs_are_friends = True \n",
    "list_of_classes = ['french', 'galaxies', 'philosophy']\n",
    "dictionary1 = {'Name': 'Steve', 'Address': '219 Prospect Street', 'Office Number': 501}\n",
    "```\n",
    "Reminder: the '=' sign in each line of the above is NOT a mathematical statement. A single equals sign is the **assignment operator**: it takes whatever is on the righthand side and stores it in the lefthand side. As before, we are free to print any of these, e.g., \n",
    "```{code-block} python\n",
    "print(list_of_classes)\n",
    "```\n",
    "which largely just prints whatever was on the righthand side of our variable declaration."
   ]
  },
  {
   "cell_type": "markdown",
   "id": "ec9cbd8c-27fa-4c2f-8e48-ee3b63d1f06a",
   "metadata": {
    "tags": [],
    "user_expressions": []
   },
   "source": [
    "As is clear from the above examples, there's clearly a diversity in what can be stored in a Python variable. We call the different types of things that variables can be *data types*. All the data types have a unique name and a set of properties. To see their names, we can try:"
   ]
  },
  {
   "cell_type": "markdown",
   "id": "90a54a6f-7aa1-4306-99bd-5aab6e77e2fe",
   "metadata": {
    "tags": [],
    "user_expressions": []
   },
   "source": [
    "```{code-block} python\n",
    "print(type(width))\n",
    "```"
   ]
  },
  {
   "cell_type": "markdown",
   "id": "fb78f761-d394-4849-bb43-9abed8cfd325",
   "metadata": {
    "tags": [],
    "user_expressions": []
   },
   "source": [
    ":::{admonition} Exercise One: Deducing variable types in Python\n",
    ":class: tip\n",
    "Using a terminal session in Python or a script, find the data types for the remaining variables in the earlier cell.\n",
    ":::"
   ]
  },
  {
   "cell_type": "markdown",
   "id": "2b9a3cc7-d502-4e58-9cf3-ff85b5195afe",
   "metadata": {
    "tags": [],
    "user_expressions": []
   },
   "source": [
    "Now that we know how to check the type of a given variable, let's dig into the properties of each type."
   ]
  },
  {
   "cell_type": "markdown",
   "id": "314d9eaa-73c5-429c-ab3b-325fd168e598",
   "metadata": {
    "tags": [],
    "user_expressions": []
   },
   "source": [
    "### Integers"
   ]
  },
  {
   "cell_type": "markdown",
   "id": "bc020501-9cac-49e8-8dec-8bc9f3a1ea4b",
   "metadata": {
    "tags": [],
    "user_expressions": []
   },
   "source": [
    "Integers (int) for short are your run-of-the-mill counting numbers (.., -2, -1, 0, 1, 2.. etc). They obey all the basic arithmetic you expect:"
   ]
  },
  {
   "cell_type": "markdown",
   "id": "6440f6be-8dcf-41bb-9852-56e99a5a1755",
   "metadata": {
    "tags": [],
    "user_expressions": []
   },
   "source": [
    "```{code-block} python\n",
    "a =  6\n",
    "b = -4 \n",
    "print(a+b, a-b, a * b)\n",
    "```"
   ]
  },
  {
   "cell_type": "markdown",
   "id": "eb97a504-d417-4c57-914e-3b40af9f8842",
   "metadata": {
    "tags": [],
    "user_expressions": []
   },
   "source": [
    "In each of these cases, adding/subtracting/multiplying two integers results in another integer. This is hopefully intuitive. But what about dividing two integers?"
   ]
  },
  {
   "cell_type": "markdown",
   "id": "914a0782-a113-4210-a9ca-43f2e7be5069",
   "metadata": {
    "tags": [],
    "user_expressions": []
   },
   "source": [
    "```{code-block} python\n",
    "c = 5\n",
    "d = 2\n",
    "e = c / d\n",
    "\n",
    "print(e) ## print the result of the calculation above\n",
    "```"
   ]
  },
  {
   "cell_type": "markdown",
   "id": "51c689ba-701d-4b31-bc1e-473696589bee",
   "metadata": {
    "tags": [],
    "user_expressions": []
   },
   "source": [
    "If we now check the type of the result,"
   ]
  },
  {
   "cell_type": "markdown",
   "id": "18e253f9-0605-43f0-97ae-432437e6da58",
   "metadata": {
    "tags": [],
    "user_expressions": []
   },
   "source": [
    "```{code-block} python\n",
    "print(type(e))\n",
    "```"
   ]
  },
  {
   "cell_type": "markdown",
   "id": "65de9b2a-099d-4c52-8b7b-26213b95fbf8",
   "metadata": {
    "tags": [],
    "user_expressions": []
   },
   "source": [
    "We can see that it's something else -- a float."
   ]
  },
  {
   "cell_type": "markdown",
   "id": "8f96237d-64e4-49fe-97ad-618ab322b4c0",
   "metadata": {
    "tags": [],
    "user_expressions": []
   },
   "source": [
    "### Floats"
   ]
  },
  {
   "cell_type": "markdown",
   "id": "cf224d9a-8e01-45d4-b341-f2944d857f05",
   "metadata": {
    "tags": [],
    "user_expressions": []
   },
   "source": [
    "Floats, short for \"floating point numbers,\" are numbers with decimal places. As can be seen from the example above, Python automatically recognizes that it needs to use a float variable type to store the division of the variable c by the variable d. This is NOT the case in many other programming languages! In Java or C, for example, e would be an integer result equal to 2. Python is free to do this because it dynamically allocates memory to variable types, as opposed to pre-specifiying how much memory a variable needs."
   ]
  },
  {
   "cell_type": "markdown",
   "id": "f7aa9289-5326-4c7e-b579-d316b72b716f",
   "metadata": {
    "tags": [],
    "user_expressions": []
   },
   "source": [
    "If we want to specify that a number is a float, there are at least three equivalent ways of doing that: "
   ]
  },
  {
   "cell_type": "markdown",
   "id": "689733b0-35e5-4852-a73a-612472b3521b",
   "metadata": {
    "tags": [],
    "user_expressions": []
   },
   "source": [
    "```{code-block} python\n",
    "f1 = float(24)\n",
    "f2 = 24.\n",
    "f3 = 24.0\n",
    "\n",
    "print(type(f1), type(f2), type(f3))\n",
    "```"
   ]
  },
  {
   "cell_type": "markdown",
   "id": "9cc56e3b-da23-4966-b506-c4fd2e385ea9",
   "metadata": {
    "tags": [],
    "user_expressions": []
   },
   "source": [
    "In the first line here, float() is a function that takes whatever is in the parantheses (the so-called argument) and converts it to a float."
   ]
  },
  {
   "cell_type": "markdown",
   "id": "9bb72ba0-788c-4776-8c90-234201b8439e",
   "metadata": {
    "tags": [],
    "user_expressions": []
   },
   "source": [
    "### Strings"
   ]
  },
  {
   "cell_type": "markdown",
   "id": "56cfca4c-1b94-433e-837a-e26afd0cfcdf",
   "metadata": {
    "tags": [],
    "user_expressions": []
   },
   "source": [
    "Strings are essentially just letters enclosed by pairs of quotes ' '. Almost any common character can be included in a string, including things like spaces, and strings can be any length (including length 0). Some examples:"
   ]
  },
  {
   "cell_type": "markdown",
   "id": "a03b3fb5-def4-489f-8be3-0e07236bc97f",
   "metadata": {
    "tags": [],
    "user_expressions": []
   },
   "source": [
    "```{code-block} python\n",
    "animal_name = 'cat'\n",
    "blank_string = ''\n",
    "net_id = 'zzz56'\n",
    "print(animal_name, blank_string, net_id)\n",
    "```"
   ]
  },
  {
   "cell_type": "markdown",
   "id": "817b7b22-9cb6-4181-95ac-b8801d8846bd",
   "metadata": {
    "tags": [],
    "user_expressions": []
   },
   "source": [
    "Note that both single and double quotes will both work - just be consistent."
   ]
  },
  {
   "cell_type": "markdown",
   "id": "db15da6d-2ce6-488f-9201-cc8a621fe7ff",
   "metadata": {
    "tags": [],
    "user_expressions": []
   },
   "source": [
    "If you want to check how many characters are in a string, you can use the len() function:\n",
    "```{code-block} python\n",
    "print(len(animal_name))\n",
    "```"
   ]
  },
  {
   "cell_type": "markdown",
   "id": "f0d1c23f-0c2c-4a1c-8345-36df13816745",
   "metadata": {
    "tags": [],
    "user_expressions": []
   },
   "source": [
    ":::{admonition} Referencing Variables within Strings \n",
    ":class: important\n",
    "Often, you will find yourself wanting to write programs where you compute a result and then describe it in the context of a sentence/phrase. In Python, we do this using what are called \"F-strings\". They work like this:\n",
    "\n",
    "\n",
    "```{code-block} python\n",
    "age = 22\n",
    "read_age = 19\n",
    "\n",
    "print(f\"I am {age} years old\")\n",
    "```\n",
    "You can do this with any number of variables in your string: \n",
    "```{code-block} python\n",
    "age = 22\n",
    "read_age = 19\n",
    "print(f\"I am {age} years old and I learned to read at {read_age}\")\n",
    "```\n",
    "\n",
    "Note that this is functionally equivalent to doing \n",
    "\n",
    "```{code-block} python\n",
    "age = 22\n",
    "read_age = 19\n",
    "print(\"I am\", age, \"years old and I learned to read at\", read_age)\n",
    "```\n",
    "potentially up to some spacing differences.\n",
    ":::\n"
   ]
  },
  {
   "cell_type": "markdown",
   "id": "a5f36402-cda4-4b5a-a769-f773e3c539ad",
   "metadata": {
    "tags": [],
    "user_expressions": []
   },
   "source": [
    "Another property of strings is that they can be concatenated (added together) with the \"+\" operator. For example,\n",
    "```{code-block} python\n",
    "string1 = 'hot'\n",
    "string2 = 'dog'\n",
    "print(string1 + string2)\n",
    "```"
   ]
  },
  {
   "cell_type": "markdown",
   "id": "dde0290f-24a2-44fa-a3fc-cd896c97f1ee",
   "metadata": {
    "tags": [],
    "user_expressions": []
   },
   "source": [
    ":::{admonition} Exercise Two: Exploring String Operations\n",
    ":class: tip\n",
    "In the above, we showed that strings can be concatenated with \"+\". But what does \"-\" or \"\\*\" do? What happens if you do a string * a number?\n",
    ":::"
   ]
  },
  {
   "cell_type": "markdown",
   "id": "0c0d1786-d06b-4f41-a5c7-e59d3e7be285",
   "metadata": {
    "tags": [],
    "user_expressions": []
   },
   "source": [
    "Lastly, it is occasionally useful to note that you can force quantities to be strings by using the str() function. For example,\n",
    "```{code-block} python\n",
    " acc = str(9.8)\n",
    "print(type(acc))\n",
    "```"
   ]
  },
  {
   "cell_type": "markdown",
   "id": "d0736417-9b04-459a-a33f-a486c7059dd4",
   "metadata": {
    "tags": [],
    "user_expressions": []
   },
   "source": [
    "### Lists"
   ]
  },
  {
   "cell_type": "markdown",
   "id": "f1c8d3e9-c9c6-4a08-a313-dc6ea1ad3a67",
   "metadata": {
    "tags": [],
    "user_expressions": []
   },
   "source": [
    "Lists are exactly what they sound like: they are lists of \"stuff\" in Python, enclosed by hard brackets [ ]; the items in the list are called elements. You can put anything within a list, including any other data type (and even lists..)\n"
   ]
  },
  {
   "cell_type": "markdown",
   "id": "3d542c9d-4d51-443f-bde6-3a10c802e16e",
   "metadata": {
    "tags": [],
    "user_expressions": []
   },
   "source": [
    "\n",
    "```{code-block} python\n",
    "# a list of elements with all the same data types:\n",
    "list_of_animals = ['cat', 'dog', 'frog']\n",
    "print(list_of_animals)\n",
    "\n",
    "# a list of elemetns with varied data types:\n",
    "random_stuff = ['8', True, 'frog', (8,7)]\n",
    "print(random_stuff)\n",
    "\n",
    "# an empty list\n",
    "empty_list = []\n",
    "print(empty_list)\n",
    "\n",
    "```"
   ]
  },
  {
   "cell_type": "markdown",
   "id": "70625eee-b6da-4979-b91b-b3596ef6c99b",
   "metadata": {
    "tags": [],
    "user_expressions": []
   },
   "source": [
    "Just like we did for strings, we can find the length of a list as follows:\n",
    "\n",
    "```{code-block} python\n",
    "list1 = ['a','b','c','d']\n",
    "length = len(list1)\n",
    "print(length)\n",
    "```"
   ]
  },
  {
   "cell_type": "markdown",
   "id": "ea0a52cd-5812-405e-b8b6-43f71622f98a",
   "metadata": {
    "tags": [],
    "user_expressions": []
   },
   "source": [
    "If we have an existing list and want to add an element to the end, we can use the function .append():\n",
    "\n",
    "```{code-block} python\n",
    "list1 = ['a','b','c','d']\n",
    "print(list1, len(list1))\n",
    "list1.append('e')\n",
    "print(list1, len(list1)) # print again to see the effect of the change\n",
    "```\n",
    "\n",
    "which might come in especially handy if you want to build up an empty list, e.g.,\n",
    "\n",
    "```{code-block} python\n",
    "list_of_numbers = []\n",
    "list_of_names.append('999-301-9191')\n",
    "```"
   ]
  },
  {
   "cell_type": "markdown",
   "id": "a232671f-ff84-4def-80ff-45502f1d9e39",
   "metadata": {
    "tags": [],
    "user_expressions": []
   },
   "source": [
    "We can also do the same with remove():\n",
    "```{code-block} python\n",
    "list_of_animals = ['cat','cat', 'dog', 'frog','cat']\n",
    "print(list_of_animals)\n",
    "list_of_animals.remove('cat')\n",
    "print(list_of_animals)\n",
    "```"
   ]
  },
  {
   "cell_type": "markdown",
   "id": "5626caf0-50f4-4ed7-a939-f770a996bfc9",
   "metadata": {
    "tags": [],
    "user_expressions": []
   },
   "source": [
    "### List indexing"
   ]
  },
  {
   "cell_type": "markdown",
   "id": "e05e0751-0733-4559-aed9-0808f4925d6a",
   "metadata": {
    "tags": [],
    "user_expressions": []
   },
   "source": [
    "An important property of lists is that they are (implictly) **indexed**: each element has an associated index that specifies its position. Importantly, these count up starting from 0 (not 1!!) and go up to the length of your list minus one.  For example,\n",
    "```{code-block} python\n",
    "letters = ['a','b','c','d']\n",
    "print(letters[0]) # return the first item in the list\n",
    "print(letters[1]) # return the second item in the list\n",
    "```"
   ]
  },
  {
   "cell_type": "markdown",
   "id": "ef2e9f50-42b3-4689-926f-e41b08b644a1",
   "metadata": {
    "tags": [],
    "user_expressions": []
   },
   "source": [
    "If you try to use an an index that is >= the length of the list, you will run into an error since that index doesn't exist:\n",
    "```{code-block} python\n",
    "letters = ['a','b','c','d']\n",
    "print(letters[4]) # attempt to return the 5th element of a 4-element list; this will fail\n",
    "```"
   ]
  },
  {
   "cell_type": "markdown",
   "id": "c7919ecb-9dd4-418b-a93d-d4fcdc03fcd3",
   "metadata": {
    "tags": [],
    "user_expressions": []
   },
   "source": [
    "Another useful index is -1, which will return the last element of the list:\n",
    "```{code-block} python\n",
    "letters = ['a','b','c','d']\n",
    "print(letters[-1]) # this will print 'd'\n",
    "```"
   ]
  },
  {
   "cell_type": "markdown",
   "id": "cfdbde45-ee50-44dc-bc8f-491fe5da381b",
   "metadata": {
    "tags": [],
    "user_expressions": []
   },
   "source": [
    "If we only want to print a subset of the list, you can use so-called list \"slicing\" with the colon (:). You can specify both the starting and ending index, as such:"
   ]
  },
  {
   "cell_type": "markdown",
   "id": "05bc42bc-4158-4758-900f-aa1dc6bcd243",
   "metadata": {
    "tags": [],
    "user_expressions": []
   },
   "source": [
    "```{code-block} python\n",
    "letters = ['a','b','c','d']\n",
    "print(letters[1:3]) # this will print \n",
    "```"
   ]
  },
  {
   "cell_type": "markdown",
   "id": "5faadbd8-b95f-4614-a72d-0a7f7f4e1929",
   "metadata": {
    "tags": [],
    "user_expressions": []
   },
   "source": [
    "Here, only two elements are return because the : will not select the element with index equal to the number that comes after the colon."
   ]
  },
  {
   "cell_type": "markdown",
   "id": "f33b56e0-df8b-48a8-8b7c-0cf070e074c7",
   "metadata": {
    "tags": [],
    "user_expressions": []
   },
   "source": [
    ":::{admonition} Exercise Three: Practice accessing Specific Elements in a List\n",
    ":class: tip\n",
    "Define a list containing the first 7 powers of 2 (i.e., 2, 4, 8, etc). \n",
    "1) What is the index of the number 8 in your list? \n",
    "2) Using list slicing, select the elements [8,16,32] and store them in a variable called middle_numbers\n",
    "\n",
    ":::"
   ]
  },
  {
   "cell_type": "markdown",
   "id": "da7c8fcf-b803-4b50-bf50-773ee2920f3e",
   "metadata": {
    "tags": [],
    "user_expressions": []
   },
   "source": [
    "We can also use functions to compute summary statistics for lists comprised only of numbers, e.g., \n",
    "```{code-block} python\n",
    "grades = [71, 85, 81, 92, 97, 100, 67, 45]\n",
    "worst_grade = min(grades)\n",
    "best_grade = max(grades)\n",
    "\n",
    "print(f\"The worst grade on the test was {worst_grade} and the best grade was {best_grade}.\")\n",
    "```"
   ]
  },
  {
   "cell_type": "markdown",
   "id": "adb8c081-a48b-4725-bfee-d7612270ae82",
   "metadata": {
    "tags": [],
    "user_expressions": []
   },
   "source": [
    ":::{admonition} Exercise Four: Calculating Averages\n",
    ":class: tip\n",
    "Consider the list of grades above. Using the sum() and len() functions, find the average of the reported grades.\n",
    ":::"
   ]
  },
  {
   "cell_type": "markdown",
   "id": "33828848-d631-47a1-908a-b40e0e2e0065",
   "metadata": {
    "tags": [],
    "user_expressions": []
   },
   "source": [
    "## Booleans"
   ]
  },
  {
   "cell_type": "markdown",
   "id": "12bac8aa-8976-430c-9acc-faa75f8041ff",
   "metadata": {
    "tags": [],
    "user_expressions": []
   },
   "source": [
    "Booleans are essentially binary truth values: True or False."
   ]
  },
  {
   "cell_type": "code",
   "execution_count": null,
   "id": "d7b16630-4aff-4c6d-996c-dd8ef2cbffa8",
   "metadata": {},
   "outputs": [],
   "source": [
    "is_physics_fun = False\n",
    "today_is_Monday = True"
   ]
  },
  {
   "cell_type": "markdown",
   "id": "a152a33b-063e-436e-a8e7-ad85755495df",
   "metadata": {
    "tags": [],
    "user_expressions": []
   },
   "source": [
    "They can naturally arise when using **(in)equality operators**:"
   ]
  },
  {
   "cell_type": "markdown",
   "id": "3e08d327-55cd-49fb-bfe4-c5a95ed6c08b",
   "metadata": {
    "tags": [],
    "user_expressions": []
   },
   "source": [
    "```{code-block} python\n",
    "print(6 > 7)\n",
    "print('cat' == 'cat') # double equal sign checks for equality; single equal sign is for assignment\n",
    "print('cat' != 'cat')  # != is how we say \"not equal to\" in Python\n",
    "```"
   ]
  },
  {
   "cell_type": "markdown",
   "id": "eb5cf05c-29f9-4868-b9cd-721e85bcff4c",
   "metadata": {
    "tags": [],
    "user_expressions": []
   },
   "source": [
    "As with any other type of variable, you could store the output of some operation as follows:"
   ]
  },
  {
   "cell_type": "markdown",
   "id": "a97dd83c-cbb8-4cb5-bd0a-060892113231",
   "metadata": {
    "tags": [],
    "user_expressions": []
   },
   "source": [
    "```{code-block} python\n",
    "result = (7 > 6) # evaluate the inequality, and store a boolean in the variable called result\n",
    "print(result)\n",
    "```"
   ]
  },
  {
   "cell_type": "markdown",
   "id": "52b1affe-b3cc-4839-af17-94cf623e2f8d",
   "metadata": {
    "tags": [],
    "user_expressions": []
   },
   "source": [
    "Booleans are very useful for controlling program flow. We'll discuss this at length next week."
   ]
  },
  {
   "cell_type": "markdown",
   "id": "95bba99f-a4e3-46d5-a4db-0fc887459fb6",
   "metadata": {
    "tags": [],
    "user_expressions": []
   },
   "source": [
    "## Dictionaries"
   ]
  },
  {
   "cell_type": "markdown",
   "id": "b9ccb4ed-60cc-4083-8a9f-c9d7eb9b47b4",
   "metadata": {
    "tags": [],
    "user_expressions": []
   },
   "source": [
    "A more complicated -- but very useful -- data type in Python is the dictionary. It provides a structured way to store data that can be accessed with a \"key\" (roughly, a column name). For example,\n",
    "\n",
    "```{code-block} python\n",
    "dictionary1 = {'Name': 'Steve', 'Address': '219 Prospect Street', 'Office Number': 501}\n",
    "print(dictionary1['Name'])\n",
    "```"
   ]
  },
  {
   "cell_type": "markdown",
   "id": "495a30d0-9e3f-4f9f-9e00-4e16dfad07f5",
   "metadata": {
    "tags": [],
    "user_expressions": []
   },
   "source": [
    "In the event you need to access the list of fields, you can print dictionary1.keys(). "
   ]
  },
  {
   "cell_type": "markdown",
   "id": "4466be19-f5db-4f16-9d2d-b2c660604aa3",
   "metadata": {
    "tags": [],
    "user_expressions": []
   },
   "source": [
    "## Aside: Taking Command-Line inputs during Python scripts"
   ]
  },
  {
   "cell_type": "markdown",
   "id": "898ba2ff-cef0-4a02-a075-12edfcc04aad",
   "metadata": {
    "tags": [],
    "user_expressions": []
   },
   "source": [
    "A useful function when writing scripts is input(). If you include this in your code as follows,\n",
    "```{code-block} python\n",
    "var_to_set = input()\n",
    "print(f\"Your input was {var_to_set}\")\n",
    "```\n",
    "your input will be recored in the variable var_to_set."
   ]
  },
  {
   "cell_type": "markdown",
   "id": "244aa4bd-d6a7-4211-bd1f-0ebddb58ef58",
   "metadata": {
    "tags": [],
    "user_expressions": []
   },
   "source": [
    ":::{admonition} Exercise Four: Practice accessing Specific Elements in a List\n",
    ":class: tip\n",
    "Return to your program for creating averages from earier. Now, rather than using the list provided called grades, write the program to use input() to populate an empty list with grades (for now, you can just use five lines of input() - we'll show you how to make ths more automated next week). Then, run the average code over your user-provided list, and print the result in a sentence using an F-string.\n",
    "\n",
    "As test case, try inputting [100,100,80,60,60] and verify that your code produces 80.\n",
    ":::"
   ]
  },
  {
   "cell_type": "markdown",
   "id": "e7224709-f1d1-4abe-a87f-0701f47bdd57",
   "metadata": {
    "tags": [],
    "user_expressions": []
   },
   "source": [
    "## The Big Picture: Objects and Functions in Python"
   ]
  },
  {
   "cell_type": "markdown",
   "id": "6dac45b0-1f2e-4a3b-b801-3bfcf77db62f",
   "metadata": {
    "tags": [],
    "user_expressions": []
   },
   "source": [
    "Python is what we call an **object-oriented** program language. The term **objects** here refer to bundles of data (attributes) and functions (which often act on that data). The structure of objects (e.g., what functions they contain) is defined by a **class**; this is why you see the word <class when you run type() on a variable. **All Python data types are classes, and by extension, all variables are objects.**. For example, let's take the case of a list: \n",
    "\n",
    "``` {code-block} python\n",
    "mylist = [5,4]\n",
    "mylist.append(5)\n",
    "```\n",
    "Here, mylist is an object of type list, with a value of [5,4]. All objects of type list have a function .append() associated with them. This isn't true for objects of type int,str, etc -- they have their own functions associated with them since they are each types defined by different classes. \n",
    "\n",
    "A fun example of a class function associated with int() is as_integer_ratio():\n",
    "\n",
    "``` {code-block} python\n",
    "var = 3\n",
    "print(var.as_integer_ratio())\n",
    "```"
   ]
  },
  {
   "cell_type": "markdown",
   "id": "3dc56bc3-8422-43f7-b345-e68b52c6517c",
   "metadata": {
    "tags": [],
    "user_expressions": []
   },
   "source": [
    "As a general comment, functions are almost always accompanied by a double parantheses(). Anything within those parantheses is called an argument. In the case above, the object itself (var) is an implict argument of the function (as_integer_ratio())."
   ]
  },
  {
   "cell_type": "markdown",
   "id": "9b85170a-b612-4e9f-b215-3576f4e869bc",
   "metadata": {
    "tags": [],
    "user_expressions": []
   },
   "source": [
    "We'll take much more about functions and objects throughout this series, so don't worry if this is a bit jargon-y and opaque at this point. For now, we will move on to introduce another important datatype called the **array**."
   ]
  }
 ],
 "metadata": {
  "kernelspec": {
   "display_name": "Python 3",
   "language": "python",
   "name": "python3"
  },
  "language_info": {
   "codemirror_mode": {
    "name": "ipython",
    "version": 3
   },
   "file_extension": ".py",
   "mimetype": "text/x-python",
   "name": "python",
   "nbconvert_exporter": "python",
   "pygments_lexer": "ipython3",
   "version": "3.7.16"
  }
 },
 "nbformat": 4,
 "nbformat_minor": 5
}
