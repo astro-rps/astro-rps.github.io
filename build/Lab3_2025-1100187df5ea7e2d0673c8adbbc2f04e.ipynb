{
 "cells": [
  {
   "cell_type": "markdown",
   "metadata": {},
   "source": [
    "# Week 3 Lab: Program Flow, Logic, and Loops with the Messier Catalog!"
   ]
  },
  {
   "cell_type": "markdown",
   "metadata": {},
   "source": [
    "In this assignment, you will practice using logic and loops using a dataset of objects from the [Messier Catalog](https://en.wikipedia.org/wiki/Messier_object). The dataset includes basic information about each object, like it's type, magnitude, distance, constellation, and the best viewing season. Your tasks will involve reading the data, analyzing it, and using `numpy`, logic, and loops to answer questions about it! "
   ]
  },
  {
   "cell_type": "markdown",
   "metadata": {},
   "source": [
    "## Opening the Dataset\n",
    "\n",
    "The data is stored in a `.npy` file, which you can load with `np.load()`. We will provide this `.npy` file via slack, and you can use the following line of code to open up the file in your code and store it's contents in a variable called `data`. \n",
    "\n",
    "```\n",
    "data = np.load('/Users/yasmeenasali/Downloads/messier_data.npy')\n",
    "```\n",
    "\n",
    ":::: {caution} \n",
    "Will the above line run on your computer? No! Do you remember what you need to change about it? \n",
    ":::{hint}\n",
    ":class: dropdown\n",
    "Recall from Week 0, you need to update the PATH to match where the data lives on your computer! You can put the data anywhere on your computer, and specify the absolute PATH in your code like the example I have above. Alternately, if you put the data in the **same directory** (folder) as the python script you are writing, you can open it like this: `np.load(messier_data.npy)`.  \n",
    ":::\n",
    "::::\n",
    "\n",
    "Each row in the dataset corresponds to a single Messier object, with the following fields:\n",
    "- **Messier**: Name of the Messier object as a string (e.g., `'M107'`, `'M108'`)\n",
    "- **RA** and **DEC**: the Right Ascension and Declination of the object (coordinates in the sky). \n",
    "- **Type**: Type of object (e.g., `'Gc'` for Globular Cluster, `'Sp'` for Spiral, `'Ba'` for Barred Spiral)\n",
    "- **Mag**: Magnitude (brightness) of the object. Magnitudes are a unit-less system, and lower numbers mean brighter objects! \n",
    "- **Distance**: Distance from Earth in units of light-years\n",
    "- **Constellation**: The constellation in which the object resides\n",
    "- **Season**: The best viewing season (spring, summer, autumn, winter)\n",
    "\n",
    "Since we have not practiced with large 2D datasets a lot, here are some tips and reminders. \n",
    "1) You can access each row of the dataset using **indexing**. For instance, `data[0]` will return the first row of the array (aka all of the above column values for a single Messier object).\n",
    "2) You can access each column of the dataset using `data['Messier']` for example, where now rather than indexing by an integer we are indexing by a column **key** (a column name). This will return a numpy array of all the Messier numbers for all of the objects. "
   ]
  },
  {
   "cell_type": "markdown",
   "metadata": {},
   "source": [
    "::::{admonition} Exercise One: Overview Analysis of the Messier Catalog \n",
    ":class: tip\n",
    "\n",
    "These problems are reviewing skills from last week and from this week's lecture! Hopefully, they are on the easier side! \n",
    "\n",
    "1. **How many objects are in the dataset?** You can either write a loop to count the number of objects or use a built-in python function. \n",
    "\n",
    "2. **Investigate the brightness of Messier objects:** Recall that magnitude is a measure of brightness, and brighter objects have lower magnitude values!\n",
    "    - Calculate the average magnitude of all the Messier objects.\n",
    "    - What magnitude is the brightest object in the catalog, and what magnitude is the dimmest?\n",
    "    - Once you have that, calculate the difference in magnitude between the brightest and the dimmest object.\n",
    "\n",
    "4. **How many objects are there in each viewing season** (spring, summer, autumn, winter)? Before looking at the hint, see if you can approach this problem on your own!\n",
    "\n",
    "::: {hint} Hint for Problem 3\n",
    ":class: dropdown\n",
    "You may want to define some variables as \"counters\" for the number of objects in each season, and then loop through every row of the dataset and add 1 to the corresponding counter if an object is in that season. Recall, you can use the sugar syntax `a += 1` to add 1 to an exisiting variable (equivalent to `a = a + 1`). \n",
    ":::\n",
    "\n",
    "::::"
   ]
  },
  {
   "cell_type": "markdown",
   "metadata": {},
   "source": [
    "::::{admonition} Exercise Two: Getting More Practice  \n",
    ":class: tip\n",
    "\n",
    "These problems are slightly more complicated, but you will be able to figure them out! Please join office hours or post in Slack if you have questions! \n",
    "\n",
    "1. Calculate the **average distance** of **spiral galaxies** (Type: `'Sp'`), **globular clusters** (Type: `'Gc'`), and **open clusters** (Type: `'Oc'`). Which type of object is typically farther away? Does this make sense?\n",
    "\n",
    ":::{hint} Hint for Problem 1\n",
    ":class: dropdown\n",
    "You can do this (at least) two ways! First, try using a **condition** to **index** the array. Your condition would be something that is checking the object types, and you can use that condition directly as the index to select only rows in the array where that condition is `True`. I think we have not technically gone over this yet, but see if you can try it out! Once you have the subset of the array that meets your condition, you can compute the average how we covered in lecture (as in exercise 1 problem 2).  \n",
    "\n",
    "Another way you could approach this problem (which you should be able to do with what we've covered in lecture) is by using a `for` loop to iterate over every row, and then using `if` statements to select based on type. How would you compute the average? Try to think creatively about how you can perform math on values (recall exercise 1 problem 3) iteratively in a loop. Maybe you will need to define two variables that you operate on each iteration of the loop, then do something to the two variables at the end after the loop finishes.... \n",
    "\n",
    ":::\n",
    "\n",
    "2. **How many constellations are there in the dataset**, and **how many objects belong to each constellation?**\n",
    "    - First, you need to find how many unique constellations exist in the dataset.\n",
    "    - Then, count how many Messier objects belong to each constellation.\n",
    "\n",
    ":::{hint} Hint for Problem 2\n",
    ":class: dropdown\n",
    "You can try using a `set` to help find the unique constellations in the dataset. A `set` is a data structure that automatically removes duplicates, so it could be useful for counting how many distinct constellations there are. Most astronomers don't often use `set` as a data structure, but it's a very useful way to quickly get unique elements in a list or array! \n",
    "\n",
    "If you feel comfortable, try using a `set` to collect the constellations and a `dict` (dictionary) to count the number of objects in each one (recall exercise 1 problem 3 for counting in loops). Remember, if you're unsure about how to create or use a set, think about how a list works—sets work similarly but don't allow duplicate values!\n",
    ":::\n",
    "\n",
    "3. **How many Messier objects are in the northern vs. southern sky?** You could try to do this using the constellation information from the previous problem, but the hemisphere can more easily be determined by the **declination**. You may need to investigate and Google around to figure out how to tell if something is in the north or the south based on declination! \n",
    "\n",
    "::::"
   ]
  },
  {
   "cell_type": "markdown",
   "metadata": {},
   "source": [
    "## Submission Requirements:\n",
    "- Submit your code as a `.py` file.\n",
    "- Include comments in your code explaining what each part does!!"
   ]
  },
  {
   "cell_type": "code",
   "execution_count": 4,
   "metadata": {},
   "outputs": [],
   "source": [
    "import numpy as np \n",
    "data = np.load('messier_data.npy')"
   ]
  },
  {
   "cell_type": "markdown",
   "metadata": {},
   "source": [
    "## Exercise 1"
   ]
  },
  {
   "cell_type": "code",
   "execution_count": 28,
   "metadata": {},
   "outputs": [
    {
     "data": {
      "text/plain": [
       "110"
      ]
     },
     "execution_count": 28,
     "metadata": {},
     "output_type": "execute_result"
    }
   ],
   "source": [
    "# Exercise 1 Problem 1: built-in python function way\n",
    "len(data)"
   ]
  },
  {
   "cell_type": "code",
   "execution_count": 29,
   "metadata": {},
   "outputs": [
    {
     "name": "stdout",
     "output_type": "stream",
     "text": [
      "Number of galaxies in the dataset: 110\n"
     ]
    }
   ],
   "source": [
    "# Exercise 1 Problem 1: for-loop way\n",
    "\n",
    "# Initialize a counter for the number of galaxies\n",
    "galaxy_count = 0\n",
    "\n",
    "# Loop through each row in the dataset and increment the counter\n",
    "for row in data:\n",
    "    galaxy_count += 1\n",
    "\n",
    "# Output the number of galaxies\n",
    "print(f\"Number of galaxies in the dataset: {galaxy_count}\")"
   ]
  },
  {
   "cell_type": "code",
   "execution_count": 30,
   "metadata": {},
   "outputs": [
    {
     "name": "stdout",
     "output_type": "stream",
     "text": [
      "Average magnitude of all Messier objects: 7.492727272727273\n",
      "The dimmest object has a magnitude of: 10.2\n",
      "The brightest object has a magnitude of: 1.6\n",
      "Difference in magnitude between the brightest and dimmest object: 8.6\n"
     ]
    }
   ],
   "source": [
    "# Exercise 1 Problem 2\n",
    "\n",
    "# Calculate the average magnitude of all objects\n",
    "average_mag = np.mean(data['Mag'])\n",
    "print(f\"Average magnitude of all Messier objects: {average_mag}\")\n",
    "\n",
    "# Find the dimmest object (maximum magnitude)\n",
    "dimmest_mag = np.max(data['Mag'])\n",
    "print(f\"The dimmest object has a magnitude of: {dimmest_mag}\")\n",
    "\n",
    "# Find the brightest object (minimum magnitude)\n",
    "brightest_mag = np.min(data['Mag'])\n",
    "print(f\"The brightest object has a magnitude of: {brightest_mag}\")\n",
    "\n",
    "# Calculate the difference in magnitude between the brightest and dimmest object\n",
    "mag_diff = dimmest_mag - brightest_mag\n",
    "print(f\"Difference in magnitude between the brightest and dimmest object: {mag_diff}\")\n"
   ]
  },
  {
   "cell_type": "code",
   "execution_count": 20,
   "metadata": {},
   "outputs": [
    {
     "name": "stdout",
     "output_type": "stream",
     "text": [
      "Objects in spring: 38\n",
      "Objects in summer: 40\n",
      "Objects in autumn: 14\n",
      "Objects in winter: 18\n"
     ]
    }
   ],
   "source": [
    "# Exercise 1 Problem 3\n",
    "\n",
    "# Initialize counters for each season\n",
    "spring_count = 0\n",
    "summer_count = 0\n",
    "autumn_count = 0\n",
    "winter_count = 0\n",
    "\n",
    "# Iterate over each row in the data\n",
    "for row in data:\n",
    "    season = row['Season']\n",
    "    \n",
    "    # Check the season and increment the corresponding counter\n",
    "    if season == 'spring':\n",
    "        spring_count += 1\n",
    "    elif season == 'summer':\n",
    "        summer_count += 1\n",
    "    elif season == 'autumn':\n",
    "        autumn_count += 1\n",
    "    elif season == 'winter':\n",
    "        winter_count += 1\n",
    "    else:\n",
    "        print(f\"Unexpected season: {season}\")\n",
    "\n",
    "# Print the results\n",
    "print(f\"Objects in spring: {spring_count}\")\n",
    "print(f\"Objects in summer: {summer_count}\")\n",
    "print(f\"Objects in autumn: {autumn_count}\")\n",
    "print(f\"Objects in winter: {winter_count}\")"
   ]
  },
  {
   "cell_type": "markdown",
   "metadata": {},
   "source": [
    "## Exercise 2"
   ]
  },
  {
   "cell_type": "code",
   "execution_count": 23,
   "metadata": {},
   "outputs": [
    {
     "name": "stdout",
     "output_type": "stream",
     "text": [
      "Average distance for Spiral galaxies: 37000000.0\n",
      "Average distance for Globular clusters: 30882.758620689656\n",
      "Average distance for Open clusters: 3332.6666666666665\n"
     ]
    }
   ],
   "source": [
    "# Exercise 2 Problem 1\n",
    "\n",
    "#Calculate the average distance for each type (Spiral, Globular Cluster, Barred Spiral)\n",
    "spiral_objects = data[data['Type'] == 'Sp']\n",
    "globular_objects = data[data['Type'] == 'Gc']\n",
    "open_objects = data[data['Type'] == 'Oc']\n",
    "\n",
    "avg_spiral_dist = np.mean(spiral_objects['Distance'])\n",
    "avg_globular_dist = np.mean(globular_objects['Distance'])\n",
    "avg_open_dist = np.mean(open_objects['Distance'])\n",
    "\n",
    "print(f\"Average distance for Spiral galaxies: {avg_spiral_dist}\")\n",
    "print(f\"Average distance for Globular clusters: {avg_globular_dist}\")\n",
    "print(f\"Average distance for Open clusters: {avg_open_dist}\")\n",
    "\n",
    "# Notice how much further away galaxies are than clusters! That's because clusters are part of our galaxy (the Milky Way)\n",
    "# Notice how there is still a factor of 10x difference between globular and open clusters\n",
    "# That's because globular clusters live on the outskirts of the galaxy"
   ]
  },
  {
   "cell_type": "code",
   "execution_count": 25,
   "metadata": {},
   "outputs": [
    {
     "name": "stdout",
     "output_type": "stream",
     "text": [
      "Number of unique constellations: 35\n",
      "Objects per constellation:\n",
      "Tau: 2\n",
      "Cnc: 2\n",
      "Sco: 4\n",
      "And: 3\n",
      "Ori: 3\n",
      "Pup: 3\n",
      "CMa: 1\n",
      "Sgr: 15\n",
      "Cyg: 2\n",
      "Gem: 1\n",
      "Per: 2\n",
      "Aur: 3\n",
      "Tri: 1\n",
      "Ser: 2\n",
      "Hya: 3\n",
      "Sct: 2\n",
      "Her: 2\n",
      "Mon: 1\n",
      "CVn: 5\n",
      "Peg: 1\n",
      "Aqr: 3\n",
      "Oph: 7\n",
      "UMa: 7\n",
      "Cas: 2\n",
      "Cap: 1\n",
      "Dra: 1\n",
      "Com: 8\n",
      "Lep: 1\n",
      "Vul: 1\n",
      "Lyr: 2\n",
      "Vir: 11\n",
      "Sge: 1\n",
      "Cet: 1\n",
      "Leo: 5\n",
      "Psc: 1\n"
     ]
    }
   ],
   "source": [
    "# Exercise 2 Problem 2\n",
    "\n",
    "# Initialize an empty set to store unique constellations\n",
    "unique_constellations = set()\n",
    "\n",
    "# Initialize a dictionary to count the number of objects per constellation\n",
    "constellation_count = {}\n",
    "\n",
    "# Loop through each row in the dataset to collect constellations and count objects\n",
    "for row in data:\n",
    "    constellation = row['Constellation']\n",
    "    \n",
    "    # Add the constellation to the set (automatically handles duplicates)\n",
    "    unique_constellations.add(constellation)\n",
    "    \n",
    "    # Count how many objects belong to each constellation using a dictionary\n",
    "    if constellation not in constellation_count:\n",
    "        constellation_count[constellation] = 1\n",
    "    else:\n",
    "        constellation_count[constellation] += 1\n",
    "\n",
    "# Output the number of unique constellations\n",
    "print(f\"Number of unique constellations: {len(unique_constellations)}\")\n",
    "\n",
    "# Output the number of objects per constellation\n",
    "print(\"Objects per constellation:\")\n",
    "for constellation, count in constellation_count.items():\n",
    "    print(f\"{constellation}: {count}\")\n"
   ]
  },
  {
   "cell_type": "code",
   "execution_count": 24,
   "metadata": {},
   "outputs": [
    {
     "name": "stdout",
     "output_type": "stream",
     "text": [
      "Objects in the northern hemisphere: 64\n",
      "Objects in the southern hemisphere: 45\n"
     ]
    }
   ],
   "source": [
    "# Exercise 2 Problem 3\n",
    "# This is only considered a \"hard\" problem because we have not taught you what declination means \n",
    "# Otherwise, it's very similar code you should know how to use! \n",
    "\n",
    "# Initialize counters for northern and southern hemispheres\n",
    "northern_count = 0\n",
    "southern_count = 0\n",
    "\n",
    "# Loop through each row in the data and check the declination (DEC) value\n",
    "for row in data:\n",
    "    # Check if the declination (DEC) is positive (Northern Hemisphere)\n",
    "    if row['DEC'] > 0:\n",
    "        northern_count += 1\n",
    "    # Check if the declination (DEC) is negative (Southern Hemisphere)\n",
    "    elif row['DEC'] < 0:\n",
    "        southern_count += 1\n",
    "\n",
    "# Output the results\n",
    "print(f\"Objects in the northern hemisphere: {northern_count}\")\n",
    "print(f\"Objects in the southern hemisphere: {southern_count}\")"
   ]
  },
  {
   "cell_type": "code",
   "execution_count": null,
   "metadata": {},
   "outputs": [],
   "source": []
  }
 ],
 "metadata": {
  "kernelspec": {
   "display_name": "Python 3 (ipykernel)",
   "language": "python",
   "name": "python3"
  },
  "language_info": {
   "codemirror_mode": {
    "name": "ipython",
    "version": 3
   },
   "file_extension": ".py",
   "mimetype": "text/x-python",
   "name": "python",
   "nbconvert_exporter": "python",
   "pygments_lexer": "ipython3",
   "version": "3.11.6"
  }
 },
 "nbformat": 4,
 "nbformat_minor": 4
}
