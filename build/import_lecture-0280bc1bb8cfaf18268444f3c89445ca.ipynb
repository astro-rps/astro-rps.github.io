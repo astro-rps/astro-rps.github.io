{
 "cells": [
  {
   "cell_type": "markdown",
   "metadata": {},
   "source": [
    "# Introduction to Imports"
   ]
  },
  {
   "cell_type": "markdown",
   "metadata": {},
   "source": [
    "## Part 1: import numpy as np"
   ]
  },
  {
   "cell_type": "markdown",
   "metadata": {},
   "source": [
    "chances are you have seen us do the following at the top of our lectures/scripts/notebooks"
   ]
  },
  {
   "cell_type": "code",
   "execution_count": null,
   "metadata": {},
   "outputs": [],
   "source": [
    "import numpy as np"
   ]
  },
  {
   "cell_type": "markdown",
   "metadata": {},
   "source": [
    "so what exactly are we doing here? \n",
    "\n",
    "The `import` keyword is used to tell Python that you want to bring in functionality from an external module.\n",
    "\n",
    "This is the name of the module you want to import (in this case `numpy`). A module is a Python file containing Python code and definitions. It can include variables, functions, and classes.\n",
    "\n",
    "Finally you can use the `as` keyword to give a module or an imported element a different name (an alias). This can be useful to avoid naming conflicts or to make the code more readable.\n",
    "\n",
    "from now I can call the numpy package (and all its functions) using `np`\n"
   ]
  },
  {
   "cell_type": "code",
   "execution_count": 9,
   "metadata": {},
   "outputs": [
    {
     "data": {
      "text/plain": [
       "array([ 1.,  2.,  3.,  4.,  5.,  6.,  7.,  8.,  9., 10., 11., 12., 13.,\n",
       "       14., 15.])"
      ]
     },
     "execution_count": 9,
     "metadata": {},
     "output_type": "execute_result"
    }
   ],
   "source": [
    "np.linspace(1,15,15) # for example"
   ]
  },
  {
   "cell_type": "markdown",
   "metadata": {},
   "source": [
    "\n",
    "You can also write something like:"
   ]
  },
  {
   "cell_type": "code",
   "execution_count": null,
   "metadata": {},
   "outputs": [],
   "source": [
    "from module_name import function_name, class_name"
   ]
  },
  {
   "cell_type": "markdown",
   "metadata": {},
   "source": [
    "where the `function_name` or `class_name` is specfic to the module you are trying to import!\n",
    "\n",
    "you can also import everything using the `*` wild card sybmol"
   ]
  },
  {
   "cell_type": "code",
   "execution_count": null,
   "metadata": {},
   "outputs": [],
   "source": [
    "from module_name import *"
   ]
  },
  {
   "cell_type": "markdown",
   "metadata": {},
   "source": [
    "or use some combination of the syntax above"
   ]
  },
  {
   "cell_type": "code",
   "execution_count": null,
   "metadata": {},
   "outputs": [],
   "source": [
    "from module_name import element_name as alias"
   ]
  },
  {
   "cell_type": "markdown",
   "metadata": {},
   "source": [
    "## Part 2: where is the code?"
   ]
  },
  {
   "cell_type": "markdown",
   "metadata": {},
   "source": [
    "If you are using \"basic\" packages like `numpy` or `math`, chances are you installed them when you installed python (via anaconda or something similar).\n",
    "\n",
    "Those packages live in with your base install of python and can be called anywhere within your python environment. \n",
    "\n",
    "If you want to use your own python modules, you need to make sure the script you are working with knows where they are. \n",
    "\n",
    "The easiest way to do this is to have your scripts in the same directory. That way you can simply import any of them using the same commands that we just reviewed. \n",
    "\n",
    "Otherwise, you might need to do something like:"
   ]
  },
  {
   "cell_type": "code",
   "execution_count": null,
   "metadata": {},
   "outputs": [],
   "source": [
    "import sys \n",
    "sys.path.insert(0, '../src/')\n",
    "import my_fav_module as yessir"
   ]
  },
  {
   "cell_type": "markdown",
   "metadata": {},
   "source": [
    "this `sys` import basically allows your current directory to know about the contents of the `src` folder and import them as if they were in \"local\"\n",
    "\n",
    "later on, we will briefly mention how to create packages out of your own code, in the same way that people share `numpy`"
   ]
  }
 ],
 "metadata": {
  "kernelspec": {
   "display_name": "subhalos",
   "language": "python",
   "name": "python3"
  },
  "language_info": {
   "codemirror_mode": {
    "name": "ipython",
    "version": 3
   },
   "file_extension": ".py",
   "mimetype": "text/x-python",
   "name": "python",
   "nbconvert_exporter": "python",
   "pygments_lexer": "ipython3",
   "version": "3.10.9"
  }
 },
 "nbformat": 4,
 "nbformat_minor": 2
}
