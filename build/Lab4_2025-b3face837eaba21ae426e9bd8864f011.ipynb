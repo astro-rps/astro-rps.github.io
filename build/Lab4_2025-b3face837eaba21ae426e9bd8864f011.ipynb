{
 "cells": [
  {
   "cell_type": "markdown",
   "id": "bff7c42d-ff96-4788-a249-d2d489f605e5",
   "metadata": {},
   "source": [
    "# Lab 4: Exploring Cosmological Parameters with Functions\n",
    "\n",
    "## Objective:\n",
    "This assignment will test your ability to write and extend Python functions using cosmological concepts. You will start with basic calculations and gradually work your way up to more advanced formulas used in cosmology.\n",
    "\n",
    "### Background: Hubble's Law\n",
    "Hubble's Law describes the relationship between the velocity of a galaxy and its distance from us:\n",
    "\n",
    "$$\n",
    "v = H_0 \\times d\n",
    "$$\n",
    "\n",
    "where $v$ is is the recession velocity of a galaxy (in km/s), $H_0$ is the Hubble constant (in km/s/Mpc, assume 70 km/s/Mpc), and $d$ is the distance of the galaxy (in Mpc).  $H_0$ is the present-day expansion rate of the universe. In general, we cannot measure direct distances to very distant galaxies, and so we measure the recessional velocity $v$ and can use that to find $d$. The fact that this correlation exists is a productive of the fact that *our universe is expanding*.\n",
    "\n",
    "```{tip}\n",
    "### Exercise 1: Cosmic Distances with Hubble's Law\n",
    "1. Define a function `hubble_distance` to calculate the distance to a galaxy based on this formula. The function should take one required argument, the recessional velocity in km/s, and should return the distance to the galaxy in Megaparsecs (Mpc).\n",
    "\n",
    "2. Add the Hubble constant as an optional argument that takes a default value of 70 km/s/Mpc.\n",
    "\n",
    "3. Add a print statement of the form \"Given a recessional velocity of [] and a Hubble constant on [], a galaxy's distance would be []\" (fill in the units here, and use f-strings to handle the values).\n",
    "\n",
    "\n",
    "4. Verify your code by checking that you recover 20 Mpc as the distance for a galaxy moving at 1400 km/s, assuming the default $H_0$ value.\n",
    "(for reference, 20 Mpc is in the local universe, and space telescopes like JWST can resolve individual stars in galaxies at this distance).\n",
    "\n",
    "5. Now, create an evenly-spaced array (hint: np.arange or np.linspace is your friend here!) of 20 recessional velocities called **recess_vels** in the range [1000,100000]. Using a loop, evaluate your function over each element. Store the results in a list\n",
    "\n",
    "\n",
    "6. *Without* using a loop, evaluate your function over **recess_vels**. \n",
    "\n",
    "\n",
    "7. The output from 6 just prints everything in a rather sloppy way. Go back and add another optional argument **print_res** that is a boolean defaulting to False. Using an if statement, make it so that the results statement only prints if this variable is set to True.\n",
    "\n",
    "\n",
    "8. Add type decorators to the inputs. See the Week 4 notes for a reminder if needed! \n",
    "\n",
    "9. Lastly, add a docstring detailing the purpose of the function, its arguments, and the return type.\n",
    "\n",
    "```"
   ]
  },
  {
   "cell_type": "markdown",
   "id": "b67fe815-0a8b-4ea0-b233-e78732122288",
   "metadata": {},
   "source": [
    "Questions 5-6 above get at a core concept in Python: *vectorization*. In Python, it will essentially always be faster to carry out an operation over a vector (array) simultaneously (part 5) as opposed to using a loop (part 4). This might not matter for small datasets but will become increasingly relevant as your dataset grows."
   ]
  },
  {
   "cell_type": "markdown",
   "id": "8efda906-a71f-49ab-9aa9-a48fcb224d69",
   "metadata": {},
   "source": [
    "Now, we can make it even more sophisticated! We will now build subsequent functions that expand upon the one above. This incremental function-building is a core component of research, since you rarely write a single function that does everything you want."
   ]
  },
  {
   "cell_type": "code",
   "execution_count": null,
   "id": "91ff8be0-bdb3-47d0-bf7c-0e11089c93d8",
   "metadata": {},
   "outputs": [],
   "source": [
    "# Coming soon"
   ]
  }
 ],
 "metadata": {
  "kernelspec": {
   "display_name": "ugali_kernel",
   "language": "python",
   "name": "ugali_kernel"
  },
  "language_info": {
   "codemirror_mode": {
    "name": "ipython",
    "version": 3
   },
   "file_extension": ".py",
   "mimetype": "text/x-python",
   "name": "python",
   "nbconvert_exporter": "python",
   "pygments_lexer": "ipython3",
   "version": "3.6.8"
  }
 },
 "nbformat": 4,
 "nbformat_minor": 5
}
