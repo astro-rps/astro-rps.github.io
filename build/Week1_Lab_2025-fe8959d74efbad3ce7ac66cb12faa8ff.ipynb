{
 "cells": [
  {
   "cell_type": "markdown",
   "id": "6b8d3d74-a2b9-4fb9-821b-e64cb65c37e4",
   "metadata": {
    "tags": [],
    "user_expressions": []
   },
   "source": [
    "#  Calculating the Luminosities of Stars"
   ]
  },
  {
   "cell_type": "markdown",
   "id": "8be91924-4fcc-43e6-bd58-41e09125a20e",
   "metadata": {
    "tags": [],
    "user_expressions": []
   },
   "source": [
    "Now, we can put together everything we've learned so far to build a useful script.  We'll do so in the context of **the properties of stars**."
   ]
  },
  {
   "cell_type": "markdown",
   "id": "0c50004c-df76-46b3-9d0b-7b7dd6330406",
   "metadata": {
    "tags": [],
    "user_expressions": []
   },
   "source": [
    ":::{admonition} 1. The Stefan-Boltzmann Law\n",
    ":class: tip\n",
    "\n",
    "Stars, to zeroth order, can be considered spherically-symmetric blackbodies. Under those conditions, their luminosities can be computed via the Stefan-Boltzmann law,\n",
    "$$ L = 4\\pi R^2 \\sigma T^4$$\n",
    "\n",
    "where $R$ is the radius, $T$ is the effective temperature of the Star, and $\\sigma$ is the Stefan-Boltzmann constant, $\\sigma = 5.67 * 10^{-8} \\rm \\ W/m^{2}/K^{4}$.\n",
    "\n",
    "The goal of today's lab is to implement this in Python, i.e., write a code to calculate the Luminosity (L) of a star according to the formula described above. The rough steps are as follows: \n",
    "\n",
    "1. Create a new code file called \"SB.py\" using the Terminal. \n",
    "2. Within SB.py, define a unique variable for each of $\\pi$, $\\sigma$, $R$, and $T$. For now, assume $\\pi = 3.14$, $R = 7 * 10^8$ meters and $T = 5776$ K.  You can assume the units work out (and therefore you can ignore them in Python). \n",
    "3. Using basic mathematical operations, compute the value of $L$ according to the formula above using the variables you just defined. Store the result in a new variable. (Hint: powers in python are implemented via the ** operator, e.g., 6**2 = 36)\n",
    "\n",
    "4. Using f-strings, print the result in a sentence that looks like: \n",
    "**The Luminosity of a star with effective temperature [value of T] and radius [value of R] is [value of L].**\n",
    "\n",
    "5. Test the script by running it from the terminal. Outside of Python, compare your luminosity value to the Solar luminosity, $3.8 * 10^{26}$ Watts. Is your value greater, less than, or equal to the Solar luminosity?\n",
    "\n",
    "6. Rather than simply hardcoding the value of $T$ and $R$ in your script, use the input() function to allow you to provide the values in the terminal at runtime.\n",
    "\n",
    "7. Implement the comparison to the Solar Luminosity in your code and store the result a new boolean (True/False) variable called supersolar. Then extend your f-string above to print whether the star is more luminous than the Sun. The output should look like: **The Luminosity of a star with effective temperature [value of T] and radius [value of R] is [value of L]. It is [value of supersolar] that this is more luminous than the Sun.**\n",
    "\n",
    ":::"
   ]
  },
  {
   "cell_type": "markdown",
   "id": "9b35dd2f-af47-455b-9db9-169b40115e46",
   "metadata": {
    "tags": [],
    "user_expressions": []
   },
   "source": [
    ":::{admonition} 2. Practice with List Indexing\n",
    ":class: tip\n",
    "\n",
    "Let's imagine you have data for bright stars that looks a bit like:\n",
    "\n",
    "``` {code-block} python \n",
    "star_names = [\"Sirius\", \"Canopus\", \"Rigil Kentaurus\", \"Arcturus\", \"Vega\", \"Capella\", \"Rigel\", \"Procyon\", \"Achernar\", \\ \n",
    "\"Betelgeuse\", \"Acrux\", \"Altair\", \"Aldebaran\", \"Spica\", \"Antares\", \"Pollux\", \"Fomalhaut\", \"Deneb\", \"Regulus\", \"Adhara\"]\n",
    "\n",
    "star_temperatures =  [9940, 7400, 5800, 4300, 9600, 4900, 12100, 6550, 14600, 3500, 28000, 7700, 3900, 22200, 3400, 4940, 8550, 8525, 12300, 20800]\n",
    "\n",
    "star_radii = [1.711e9, 7.8e8, 1.227e9, 2.785e9, 2.364e9, 1.192e9, 7.6e8, 7.43e8, 1.586e9, 9.52e10, 6.01e9, 1.656e9, \\ \n",
    "4.28e9, 7.739e8, 8.12e9, 1.927e9, 1.834e9, 8.48e9, 3.919e9, 4.66e9]\n",
    "\n",
    "\n",
    "```\n",
    "\n",
    "1. Create a new script called star_calcs.py. \n",
    "2. Using indexing, figure out: what the name of the tenth star in this list? Then, store the *index* in a variable.\n",
    "2. Now, using the stored index, isolate the temperature of the star by accessing the appropriate element of the second list.\n",
    "3. Repeat step 2 for the radius.\n",
    "4. By copy-pasting your formula implementation from exercise 1 into your new script, compute the luminosity of the star of the tenth star.\n",
    "\n",
    "Now that we've finished with star 10, let's try to make it our code more generally applicable. \n",
    "\n",
    "5. Have your program take an index in via input() and run the calculation for the star corresponding to that index.\n",
    "6. (BONUS): Create a dictionary for each of the two properties for the first 5 stars above (that is, a dictionary for radius and a dictionary for temperature). The keys should be the star names.\n",
    "7. (BONUS part 2): Now have your program take the star name as an input and print the name, temperature, radius, and computed luminosity in a nicely formatted sentence.\n",
    ":::\n",
    "\n",
    "\n",
    "\n",
    "\n"
   ]
  },
  {
   "cell_type": "code",
   "execution_count": null,
   "id": "62f4c50e-249e-47b8-b2de-55adee18558c",
   "metadata": {},
   "outputs": [],
   "source": []
  }
 ],
 "metadata": {
  "kernelspec": {
   "display_name": "Python 3 (ipykernel)",
   "language": "python",
   "name": "python3"
  },
  "language_info": {
   "codemirror_mode": {
    "name": "ipython",
    "version": 3
   },
   "file_extension": ".py",
   "mimetype": "text/x-python",
   "name": "python",
   "nbconvert_exporter": "python",
   "pygments_lexer": "ipython3",
   "version": "3.12.7"
  }
 },
 "nbformat": 4,
 "nbformat_minor": 5
}
